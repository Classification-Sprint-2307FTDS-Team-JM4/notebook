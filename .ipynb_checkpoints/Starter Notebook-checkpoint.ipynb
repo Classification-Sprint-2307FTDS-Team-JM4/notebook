{
 "cells": [
  {
   "cell_type": "markdown",
   "id": "63e77ef7",
   "metadata": {},
   "source": [
    "# ADVANCED CLASSIFICATION PREDICT"
   ]
  },
  {
   "cell_type": "markdown",
   "id": "f2119e48",
   "metadata": {},
   "source": [
    "# Predict Overview: EA Twitter Sentiment Classification\n",
    "Companies would like to determine how people perceive climate change and whether or not they believe it is a real threat. \n",
    "\n",
    "Our mission is to deliver a precise and durable solution to this objective, granting companies the ability to tap into a wide range of consumer sentiments across various demographics and geographic regions. This, in turn, enhances their understanding and empowers them to shape future marketing strategies based on valuable insights."
   ]
  },
  {
   "cell_type": "markdown",
   "id": "5bc67ce0",
   "metadata": {},
   "source": [
    "<a id=\"cont\"></a>\n",
    "\n",
    "## Table of Contents\n",
    "\n",
    "<a href=#one>1. Importing Packages</a>\n",
    "\n",
    "<a href=#two>2. Loading Data</a>\n",
    "\n",
    "<a href=#three>3. Exploratory Data Analysis (EDA)</a>\n",
    "\n",
    "<a href=#four>4. Data Engineering</a>\n",
    "\n",
    "<a href=#five>5. Modeling</a>\n",
    "\n",
    "<a href=#six>6. Model Performance</a>\n",
    "\n",
    "<a href=#seven>7. Model Explanations</a>"
   ]
  },
  {
   "cell_type": "markdown",
   "id": "e6c3c4e1",
   "metadata": {},
   "source": [
    "# Introduction\n",
    "\n",
    "Dataset Description\n",
    "\n",
    "Where is this data from?\n",
    "- The collection of this data was funded by a Canada Foundation for Innovation JELF Grant to Chris Bauch, University of Waterloo. The dataset aggregates tweets pertaining to climate change collected between Apr 27, 2015 and Feb 21, 2018. In total, 43,943 tweets were collected. Each tweet is labelled as one of 4 classes, which are described below.\n",
    "\n",
    "Class Description\n",
    "\n",
    "- 2 News: the tweet links to factual news about climate change\n",
    "\n",
    "- 1 Pro: the tweet supports the belief of man-made climate change\n",
    "\n",
    "- 0 Neutral: the tweet neither supports nor refutes the belief of man-made climate change\n",
    "\n",
    "- -1 Anti: the tweet does not believe in man-made climate change Variable definitions\n",
    "\n",
    "Features\n",
    "\n",
    "sentiment: Which class a tweet belongs in (refer to Class Description above)\n",
    "\n",
    "- message: Tweet body\n",
    "\n",
    "- tweetid: Twitter unique id\n",
    "\n",
    "The files provided\n",
    "\n",
    "train.csv - You will use this data to train your model.\n",
    "\n",
    "test.csv - You will use this data to test your model."
   ]
  },
  {
   "cell_type": "markdown",
   "id": "74afed89",
   "metadata": {},
   "source": [
    "<a id=\"one\"></a>\n",
    "\n",
    "## 1. Importing Packages\n",
    "\n",
    "<a href=#cont>Back to Table of Contents</a>\n",
    "\n",
    "---\n",
    "\n",
    "| ⚡ Description: Importing Packages ⚡                                                                                                    |\n",
    "| :--------------------------------------------------------------------------------------------------------------------------------------- |\n",
    "| In this section you are required to import, and briefly discuss, the libraries that will be used throughout your analysis and modelling. |\n",
    "\n",
    "---\n"
   ]
  },
  {
   "cell_type": "code",
   "execution_count": null,
   "id": "b0c2e5cd",
   "metadata": {},
   "outputs": [],
   "source": [
    "pip install comet_ml"
   ]
  },
  {
   "cell_type": "code",
   "execution_count": null,
   "id": "37de9c6b",
   "metadata": {},
   "outputs": [],
   "source": [
    "from comet_ml import Experiment\n",
    "from comet_ml.integration.pytorch import log_model"
   ]
  },
  {
   "cell_type": "code",
   "execution_count": null,
   "id": "ec4c2318",
   "metadata": {},
   "outputs": [],
   "source": [
    "experiment = Experiment(\n",
    "  api_key=\"tYukAGVnqQdISv5cImlToJZTD\",\n",
    "  project_name=\"classification-predict\",\n",
    "  workspace=\"percy-makakaba\""
   ]
  },
  {
   "cell_type": "code",
   "execution_count": 1,
   "id": "ba6b3668",
   "metadata": {},
   "outputs": [
    {
     "name": "stderr",
     "output_type": "stream",
     "text": [
      "[nltk_data] Downloading package stopwords to\n",
      "[nltk_data]     C:\\Users\\percy\\AppData\\Roaming\\nltk_data...\n",
      "[nltk_data]   Package stopwords is already up-to-date!\n",
      "[nltk_data] Downloading package wordnet to\n",
      "[nltk_data]     C:\\Users\\percy\\AppData\\Roaming\\nltk_data...\n",
      "[nltk_data]   Package wordnet is already up-to-date!\n",
      "[nltk_data] Downloading package omw-1.4 to\n",
      "[nltk_data]     C:\\Users\\percy\\AppData\\Roaming\\nltk_data...\n",
      "[nltk_data]   Package omw-1.4 is already up-to-date!\n",
      "[nltk_data] Downloading package stopwords to\n",
      "[nltk_data]     C:\\Users\\percy\\AppData\\Roaming\\nltk_data...\n",
      "[nltk_data]   Package stopwords is already up-to-date!\n",
      "[nltk_data] Downloading package punkt to\n",
      "[nltk_data]     C:\\Users\\percy\\AppData\\Roaming\\nltk_data...\n",
      "[nltk_data]   Package punkt is already up-to-date!\n",
      "[nltk_data] Downloading package vader_lexicon to\n",
      "[nltk_data]     C:\\Users\\percy\\AppData\\Roaming\\nltk_data...\n",
      "[nltk_data]   Package vader_lexicon is already up-to-date!\n"
     ]
    }
   ],
   "source": [
    "import numpy as np # linear algebra\n",
    "import pandas as pd # data processing, CSV file I/O (e.g. pd.read_csv)\n",
    "import seaborn as sns\n",
    "import matplotlib.pyplot as plt\n",
    "import matplotlib.style as style\n",
    "%matplotlib inline\n",
    "import nltk\n",
    "import re\n",
    "import string\n",
    "nltk.download('stopwords')\n",
    "from nltk.stem import WordNetLemmatizer\n",
    "nltk.download('wordnet')\n",
    "nltk.download('omw-1.4')\n",
    "nltk.download('stopwords')\n",
    "nltk.download('punkt')\n",
    "from nltk.corpus import stopwords\n",
    "from nltk.sentiment.vader import SentimentIntensityAnalyzer \n",
    "nltk.download('vader_lexicon')\n",
    "from sklearn.pipeline import Pipeline\n",
    "from sklearn.linear_model import LogisticRegression #Import Logistic Regression from the sklearn\n",
    "from sklearn.metrics import accuracy_score, classification_report, confusion_matrix, f1_score\n",
    "from sklearn.feature_selection import VarianceThreshold\n",
    "\n",
    "# Input data files are available in the read-only \"../input/\" directory\n",
    "# For example, running this (by clicking run or pressing Shift+Enter) will list all files under the input directory\n",
    "\n",
    "import os\n",
    "for dirname, _, filenames in os.walk('/kaggle/input'):\n",
    "    for filename in filenames:\n",
    "        print(os.path.join(dirname, filename))"
   ]
  },
  {
   "cell_type": "markdown",
   "id": "1668cac0",
   "metadata": {},
   "source": [
    "<a id=\"two\"></a>\n",
    "\n",
    "## 2. Loading the Data\n",
    "\n",
    "<a class=\"anchor\" id=\"1.1\"></a>\n",
    "<a href=#cont>Back to Table of Contents</a>\n",
    "\n",
    "---\n",
    "\n",
    "| ⚡ Description: Loading the data ⚡                                                          |\n",
    "| :------------------------------------------------------------------------------------------- |\n",
    "| In this section you are required to load the data from the `df_train` file into a DataFrame. |\n",
    "\n",
    "---"
   ]
  },
  {
   "cell_type": "code",
   "execution_count": 2,
   "id": "eb2e01b6",
   "metadata": {},
   "outputs": [],
   "source": [
    "df_test = pd.read_csv (r\"C:\\Users\\percy\\Downloads\\Advanced_Classification_Predict-student_data-2780\\test_with_no_labels.csv\")\n"
   ]
  },
  {
   "cell_type": "code",
   "execution_count": 3,
   "id": "3f84e83a",
   "metadata": {},
   "outputs": [],
   "source": [
    "df_train = pd.read_csv(r\"C:\\Users\\percy\\Downloads\\Advanced_Classification_Predict-student_data-2780\\train.csv\")\n"
   ]
  },
  {
   "cell_type": "markdown",
   "id": "faf2214d",
   "metadata": {},
   "source": [
    "data processing"
   ]
  },
  {
   "cell_type": "markdown",
   "id": "c5ec6305",
   "metadata": {},
   "source": [
    "<a id=\"three\"></a>\n",
    "\n",
    "## 3. Exploratory Data Analysis (EDA)\n",
    "\n",
    "<a class=\"anchor\" id=\"1.1\"></a>\n",
    "<a href=#cont>Back to Table of Contents</a>\n",
    "\n",
    "---\n",
    "\n",
    "| ⚡ Description: Exploratory data analysis ⚡                                                             |\n",
    "| :------------------------------------------------------------------------------------------------------- |\n",
    "| In this section, you are required to perform an in-depth analysis of all the variables in the DataFrame. |\n",
    "\n",
    "---\n"
   ]
  },
  {
   "cell_type": "markdown",
   "id": "d743c549",
   "metadata": {},
   "source": [
    "The EDA  includes:\n",
    "- Summary analysis\n",
    "- Null values\n",
    "- Classes of tweets - Sentiments\n",
    "- Number of words of tweets\n",
    "\n"
   ]
  },
  {
   "cell_type": "code",
   "execution_count": 35,
   "id": "51c60ba6",
   "metadata": {},
   "outputs": [
    {
     "data": {
      "text/html": [
       "<div>\n",
       "<style scoped>\n",
       "    .dataframe tbody tr th:only-of-type {\n",
       "        vertical-align: middle;\n",
       "    }\n",
       "\n",
       "    .dataframe tbody tr th {\n",
       "        vertical-align: top;\n",
       "    }\n",
       "\n",
       "    .dataframe thead th {\n",
       "        text-align: right;\n",
       "    }\n",
       "</style>\n",
       "<table border=\"1\" class=\"dataframe\">\n",
       "  <thead>\n",
       "    <tr style=\"text-align: right;\">\n",
       "      <th></th>\n",
       "      <th>sentiment</th>\n",
       "      <th>message</th>\n",
       "      <th>CleanMessage</th>\n",
       "      <th>length</th>\n",
       "    </tr>\n",
       "  </thead>\n",
       "  <tbody>\n",
       "    <tr>\n",
       "      <th>0</th>\n",
       "      <td>1</td>\n",
       "      <td>PolySciMajor EPA chief doesn't think carbon di...</td>\n",
       "      <td>[polyscimajor, epa, chief, doesnt, think, carb...</td>\n",
       "      <td>140</td>\n",
       "    </tr>\n",
       "    <tr>\n",
       "      <th>1</th>\n",
       "      <td>1</td>\n",
       "      <td>It's not like we lack evidence of anthropogeni...</td>\n",
       "      <td>[not, like, lack, evidence, anthropogenic, glo...</td>\n",
       "      <td>62</td>\n",
       "    </tr>\n",
       "    <tr>\n",
       "      <th>2</th>\n",
       "      <td>2</td>\n",
       "      <td>RT @RawStory: Researchers say we have three ye...</td>\n",
       "      <td>[rt, rawstory, researchers, say, three, years,...</td>\n",
       "      <td>140</td>\n",
       "    </tr>\n",
       "    <tr>\n",
       "      <th>3</th>\n",
       "      <td>1</td>\n",
       "      <td>#TodayinMaker# WIRED : 2016 was a pivotal year...</td>\n",
       "      <td>[todayinmaker, wired, pivotal, year, war, clim...</td>\n",
       "      <td>99</td>\n",
       "    </tr>\n",
       "    <tr>\n",
       "      <th>4</th>\n",
       "      <td>1</td>\n",
       "      <td>RT @SoyNovioDeTodas: It's 2016, and a racist, ...</td>\n",
       "      <td>[rt, soynoviodetodas, racist, sexist, climate,...</td>\n",
       "      <td>122</td>\n",
       "    </tr>\n",
       "  </tbody>\n",
       "</table>\n",
       "</div>"
      ],
      "text/plain": [
       "   sentiment                                            message  \\\n",
       "0          1  PolySciMajor EPA chief doesn't think carbon di...   \n",
       "1          1  It's not like we lack evidence of anthropogeni...   \n",
       "2          2  RT @RawStory: Researchers say we have three ye...   \n",
       "3          1  #TodayinMaker# WIRED : 2016 was a pivotal year...   \n",
       "4          1  RT @SoyNovioDeTodas: It's 2016, and a racist, ...   \n",
       "\n",
       "                                        CleanMessage  length  \n",
       "0  [polyscimajor, epa, chief, doesnt, think, carb...     140  \n",
       "1  [not, like, lack, evidence, anthropogenic, glo...      62  \n",
       "2  [rt, rawstory, researchers, say, three, years,...     140  \n",
       "3  [todayinmaker, wired, pivotal, year, war, clim...      99  \n",
       "4  [rt, soynoviodetodas, racist, sexist, climate,...     122  "
      ]
     },
     "execution_count": 35,
     "metadata": {},
     "output_type": "execute_result"
    }
   ],
   "source": [
    "df_train.head()"
   ]
  },
  {
   "cell_type": "code",
   "execution_count": 36,
   "id": "84aa0fcb",
   "metadata": {},
   "outputs": [
    {
     "data": {
      "text/html": [
       "<div>\n",
       "<style scoped>\n",
       "    .dataframe tbody tr th:only-of-type {\n",
       "        vertical-align: middle;\n",
       "    }\n",
       "\n",
       "    .dataframe tbody tr th {\n",
       "        vertical-align: top;\n",
       "    }\n",
       "\n",
       "    .dataframe thead th {\n",
       "        text-align: right;\n",
       "    }\n",
       "</style>\n",
       "<table border=\"1\" class=\"dataframe\">\n",
       "  <thead>\n",
       "    <tr style=\"text-align: right;\">\n",
       "      <th></th>\n",
       "      <th>message</th>\n",
       "      <th>tweetid</th>\n",
       "    </tr>\n",
       "  </thead>\n",
       "  <tbody>\n",
       "    <tr>\n",
       "      <th>0</th>\n",
       "      <td>Europe will now be looking to China to make su...</td>\n",
       "      <td>169760</td>\n",
       "    </tr>\n",
       "    <tr>\n",
       "      <th>1</th>\n",
       "      <td>Combine this with the polling of staffers re c...</td>\n",
       "      <td>35326</td>\n",
       "    </tr>\n",
       "    <tr>\n",
       "      <th>2</th>\n",
       "      <td>The scary, unimpeachable evidence that climate...</td>\n",
       "      <td>224985</td>\n",
       "    </tr>\n",
       "    <tr>\n",
       "      <th>3</th>\n",
       "      <td>@Karoli @morgfair @OsborneInk @dailykos \\nPuti...</td>\n",
       "      <td>476263</td>\n",
       "    </tr>\n",
       "    <tr>\n",
       "      <th>4</th>\n",
       "      <td>RT @FakeWillMoore: 'Female orgasms cause globa...</td>\n",
       "      <td>872928</td>\n",
       "    </tr>\n",
       "  </tbody>\n",
       "</table>\n",
       "</div>"
      ],
      "text/plain": [
       "                                             message  tweetid\n",
       "0  Europe will now be looking to China to make su...   169760\n",
       "1  Combine this with the polling of staffers re c...    35326\n",
       "2  The scary, unimpeachable evidence that climate...   224985\n",
       "3  @Karoli @morgfair @OsborneInk @dailykos \\nPuti...   476263\n",
       "4  RT @FakeWillMoore: 'Female orgasms cause globa...   872928"
      ]
     },
     "execution_count": 36,
     "metadata": {},
     "output_type": "execute_result"
    }
   ],
   "source": [
    "df_test.head()"
   ]
  },
  {
   "cell_type": "markdown",
   "id": "dc0cb5a8",
   "metadata": {},
   "source": [
    "## Summary analysis"
   ]
  },
  {
   "cell_type": "code",
   "execution_count": 37,
   "id": "799659a3",
   "metadata": {},
   "outputs": [
    {
     "data": {
      "text/html": [
       "<div>\n",
       "<style scoped>\n",
       "    .dataframe tbody tr th:only-of-type {\n",
       "        vertical-align: middle;\n",
       "    }\n",
       "\n",
       "    .dataframe tbody tr th {\n",
       "        vertical-align: top;\n",
       "    }\n",
       "\n",
       "    .dataframe thead th {\n",
       "        text-align: right;\n",
       "    }\n",
       "</style>\n",
       "<table border=\"1\" class=\"dataframe\">\n",
       "  <thead>\n",
       "    <tr style=\"text-align: right;\">\n",
       "      <th></th>\n",
       "      <th>tweetid</th>\n",
       "    </tr>\n",
       "  </thead>\n",
       "  <tbody>\n",
       "    <tr>\n",
       "      <th>count</th>\n",
       "      <td>10546.000000</td>\n",
       "    </tr>\n",
       "    <tr>\n",
       "      <th>mean</th>\n",
       "      <td>496899.936943</td>\n",
       "    </tr>\n",
       "    <tr>\n",
       "      <th>std</th>\n",
       "      <td>288115.677148</td>\n",
       "    </tr>\n",
       "    <tr>\n",
       "      <th>min</th>\n",
       "      <td>231.000000</td>\n",
       "    </tr>\n",
       "    <tr>\n",
       "      <th>25%</th>\n",
       "      <td>246162.500000</td>\n",
       "    </tr>\n",
       "    <tr>\n",
       "      <th>50%</th>\n",
       "      <td>495923.000000</td>\n",
       "    </tr>\n",
       "    <tr>\n",
       "      <th>75%</th>\n",
       "      <td>742250.000000</td>\n",
       "    </tr>\n",
       "    <tr>\n",
       "      <th>max</th>\n",
       "      <td>999983.000000</td>\n",
       "    </tr>\n",
       "  </tbody>\n",
       "</table>\n",
       "</div>"
      ],
      "text/plain": [
       "             tweetid\n",
       "count   10546.000000\n",
       "mean   496899.936943\n",
       "std    288115.677148\n",
       "min       231.000000\n",
       "25%    246162.500000\n",
       "50%    495923.000000\n",
       "75%    742250.000000\n",
       "max    999983.000000"
      ]
     },
     "execution_count": 37,
     "metadata": {},
     "output_type": "execute_result"
    }
   ],
   "source": [
    "df_test.describe()\n"
   ]
  },
  {
   "cell_type": "code",
   "execution_count": 39,
   "id": "50ee524c",
   "metadata": {},
   "outputs": [
    {
     "data": {
      "text/html": [
       "<div>\n",
       "<style scoped>\n",
       "    .dataframe tbody tr th:only-of-type {\n",
       "        vertical-align: middle;\n",
       "    }\n",
       "\n",
       "    .dataframe tbody tr th {\n",
       "        vertical-align: top;\n",
       "    }\n",
       "\n",
       "    .dataframe thead th {\n",
       "        text-align: right;\n",
       "    }\n",
       "</style>\n",
       "<table border=\"1\" class=\"dataframe\">\n",
       "  <thead>\n",
       "    <tr style=\"text-align: right;\">\n",
       "      <th></th>\n",
       "      <th>sentiment</th>\n",
       "      <th>length</th>\n",
       "    </tr>\n",
       "  </thead>\n",
       "  <tbody>\n",
       "    <tr>\n",
       "      <th>count</th>\n",
       "      <td>15819.000000</td>\n",
       "      <td>15819.000000</td>\n",
       "    </tr>\n",
       "    <tr>\n",
       "      <th>mean</th>\n",
       "      <td>0.917504</td>\n",
       "      <td>123.774132</td>\n",
       "    </tr>\n",
       "    <tr>\n",
       "      <th>std</th>\n",
       "      <td>0.836537</td>\n",
       "      <td>23.332433</td>\n",
       "    </tr>\n",
       "    <tr>\n",
       "      <th>min</th>\n",
       "      <td>-1.000000</td>\n",
       "      <td>14.000000</td>\n",
       "    </tr>\n",
       "    <tr>\n",
       "      <th>25%</th>\n",
       "      <td>1.000000</td>\n",
       "      <td>114.000000</td>\n",
       "    </tr>\n",
       "    <tr>\n",
       "      <th>50%</th>\n",
       "      <td>1.000000</td>\n",
       "      <td>133.000000</td>\n",
       "    </tr>\n",
       "    <tr>\n",
       "      <th>75%</th>\n",
       "      <td>1.000000</td>\n",
       "      <td>140.000000</td>\n",
       "    </tr>\n",
       "    <tr>\n",
       "      <th>max</th>\n",
       "      <td>2.000000</td>\n",
       "      <td>208.000000</td>\n",
       "    </tr>\n",
       "  </tbody>\n",
       "</table>\n",
       "</div>"
      ],
      "text/plain": [
       "          sentiment        length\n",
       "count  15819.000000  15819.000000\n",
       "mean       0.917504    123.774132\n",
       "std        0.836537     23.332433\n",
       "min       -1.000000     14.000000\n",
       "25%        1.000000    114.000000\n",
       "50%        1.000000    133.000000\n",
       "75%        1.000000    140.000000\n",
       "max        2.000000    208.000000"
      ]
     },
     "execution_count": 39,
     "metadata": {},
     "output_type": "execute_result"
    }
   ],
   "source": [
    "df_train.describe()\n"
   ]
  },
  {
   "cell_type": "markdown",
   "id": "6f9542d4",
   "metadata": {},
   "source": [
    "## Null values"
   ]
  },
  {
   "cell_type": "code",
   "execution_count": 40,
   "id": "04a5c6f1",
   "metadata": {},
   "outputs": [
    {
     "data": {
      "text/plain": [
       "message    0\n",
       "tweetid    0\n",
       "dtype: int64"
      ]
     },
     "execution_count": 40,
     "metadata": {},
     "output_type": "execute_result"
    }
   ],
   "source": [
    "df_test.isnull().sum()"
   ]
  },
  {
   "cell_type": "code",
   "execution_count": 41,
   "id": "d77ab204",
   "metadata": {},
   "outputs": [
    {
     "data": {
      "text/plain": [
       "sentiment       0\n",
       "message         0\n",
       "CleanMessage    0\n",
       "length          0\n",
       "dtype: int64"
      ]
     },
     "execution_count": 41,
     "metadata": {},
     "output_type": "execute_result"
    }
   ],
   "source": [
    "df_train.isnull().sum()"
   ]
  },
  {
   "cell_type": "code",
   "execution_count": 42,
   "id": "8a1ad5e2",
   "metadata": {},
   "outputs": [
    {
     "data": {
      "text/plain": [
       "(15819, 4)"
      ]
     },
     "execution_count": 42,
     "metadata": {},
     "output_type": "execute_result"
    }
   ],
   "source": [
    "df_train.shape"
   ]
  },
  {
   "cell_type": "code",
   "execution_count": 44,
   "id": "c81c3bf1",
   "metadata": {},
   "outputs": [
    {
     "data": {
      "text/plain": [
       "(10546, 2)"
      ]
     },
     "execution_count": 44,
     "metadata": {},
     "output_type": "execute_result"
    }
   ],
   "source": [
    "df_test.shape"
   ]
  },
  {
   "cell_type": "markdown",
   "id": "a4c58cea",
   "metadata": {},
   "source": [
    "## Sentiments meaning"
   ]
  },
  {
   "cell_type": "markdown",
   "id": "823096f6",
   "metadata": {},
   "source": [
    "- Negative climate Change = -1\n",
    "- Neutral = 0\n",
    "- Positive Climate change = 1\n",
    "- News = 2"
   ]
  },
  {
   "cell_type": "markdown",
   "id": "a0534bba",
   "metadata": {},
   "source": [
    "## 3.1 Comparing the number of tweets of sentiments\n",
    "- Distribution\n",
    "- Pie chart\n",
    "- Word cloud\n",
    "- Top 20 words used"
   ]
  },
  {
   "cell_type": "markdown",
   "id": "a9577156",
   "metadata": {},
   "source": [
    "### 3.1.1 Bar chart showing the counts of tweets per sentiment - Dikeledi"
   ]
  },
  {
   "cell_type": "code",
   "execution_count": 45,
   "id": "a95d0bd7",
   "metadata": {},
   "outputs": [
    {
     "data": {
      "image/png": "[encoded data removed]",
      "text/plain": [
       "<Figure size 900x400 with 1 Axes>"
      ]
     },
     "metadata": {},
     "output_type": "display_data"
    }
   ],
   "source": [
    "senti_counts = df_train[\"sentiment\"].value_counts()\n",
    "news = senti_counts[2] \n",
    "pro = senti_counts[1]   \n",
    "neutral = senti_counts[0]\n",
    "anti = senti_counts[-1]  \n",
    "\n",
    "plt.figure( figsize=(9,4))\n",
    "plt.barh(['News ','Pro','Neutral','Anti'], [news,pro,neutral,anti]) # horizontal bar graph to compare classes of tweets.\n",
    "plt.colours = ['red', 'green', 'blue', 'orange']\n",
    "plt.xlabel('Count of Tweets') #X-label of the data\n",
    "plt.ylabel('Sentiment Classification') #Y_label of the data \n",
    "plt.title('Distribution of Classes In The Dataset') #Give the data a title 'Dataset lables distribution'\n",
    "plt.show()"
   ]
  },
  {
   "cell_type": "code",
   "execution_count": null,
   "id": "ed427a9f",
   "metadata": {},
   "outputs": [],
   "source": [
    "import seaborn as sns\n",
    "import matplotlib.pyplot as plt\n",
    "\n",
    "# Assuming you have a DataFrame 'df' with a 'sentiment' column\n",
    "# 0 for negative sentiment, 1 for positive sentiment\n",
    "\n",
    "# Count the number of occurrences for each sentiment\n",
    "sentiment_counts = df_train['sentiment'].value_counts()\n",
    "\n",
    "# Plot a bar chart\n",
    "sns.barplot(x=sentiment_counts.index, y=sentiment_counts.values, palette=\"viridis\")\n",
    "plt.legend(-1== 'Negative', 0 == 'neutral',1== 'positive', 2== 'news' )\n",
    "plt.title(\"Distribution of Sentiments\")\n",
    "plt.xlabel(\"Sentiment\")\n",
    "plt.ylabel(\"Count\")\n",
    "plt.show()"
   ]
  },
  {
   "cell_type": "markdown",
   "id": "32ee3b9e",
   "metadata": {},
   "source": [
    "### 3.1.2 Pie chart showing the percentages of tweets per sentiment - Which one has the highest proportion between news and pro climate change"
   ]
  },
  {
   "cell_type": "code",
   "execution_count": 46,
   "id": "4dac3562",
   "metadata": {},
   "outputs": [
    {
     "data": {
      "image/png": "[encoded data removed]",
      "text/plain": [
       "<Figure size 900x400 with 1 Axes>"
      ]
     },
     "metadata": {},
     "output_type": "display_data"
    }
   ],
   "source": [
    "class_counts = df_train[\"sentiment\"].value_counts()\n",
    "plt.figure( figsize=(9,4))\n",
    "plt.pie(class_counts, labels=['Pro ','News','Neutral','Anti'], explode=[0.05,0.05,0.05,0.05], autopct='%1.1f%%')\n",
    "plt.title(\"Pie Chart of Percentage classification of Tweets \")\n",
    "plt.axis('equal')\n",
    "plt.show()"
   ]
  },
  {
   "cell_type": "markdown",
   "id": "64cf6484",
   "metadata": {},
   "source": [
    "Insights:\n",
    "- News has the highest percentage of tweets followed by Pro climate change, Neutral and anti climate change respectively"
   ]
  },
  {
   "cell_type": "markdown",
   "id": "9d1a292c",
   "metadata": {},
   "source": [
    "### 3.1.3 Word cloud showing top words used in every class"
   ]
  },
  {
   "cell_type": "code",
   "execution_count": 78,
   "id": "1d30320f",
   "metadata": {},
   "outputs": [],
   "source": [
    "from wordcloud import WordCloud,ImageColorGenerator\n",
    "text = \" \".join(i for i in df_train['CleanMessage'])\n",
    "text = str(text)"
   ]
  },
  {
   "cell_type": "code",
   "execution_count": 79,
   "id": "d0b81c8d",
   "metadata": {},
   "outputs": [
    {
     "data": {
      "image/png": "[encoded data removed]",
      "text/plain": [
       "<Figure size 900x400 with 1 Axes>"
      ]
     },
     "metadata": {},
     "output_type": "display_data"
    }
   ],
   "source": [
    "wordcloud = WordCloud()\n",
    "tweet_cloud = wordcloud.generate(text)\n",
    "plt.figure( figsize=(9,4))\n",
    "plt.imshow(tweet_cloud, interpolation='bilinear')\n",
    "plt.axis(\"off\")\n",
    "plt.show()"
   ]
  },
  {
   "cell_type": "markdown",
   "id": "2555054f",
   "metadata": {},
   "source": [
    " ### 3.1.4 Top 20 words in the tweets"
   ]
  },
  {
   "cell_type": "code",
   "execution_count": 80,
   "id": "070215e9",
   "metadata": {},
   "outputs": [],
   "source": [
    "freq_dict = {}\n",
    "words = text.split(\" \")\n",
    "for word in words:\n",
    "    if word != \" \" and word !=\"\":\n",
    "        if word not in freq_dict:\n",
    "            freq_dict[word] = 1\n",
    "        else:\n",
    "            freq_dict[word] += 1"
   ]
  },
  {
   "cell_type": "code",
   "execution_count": 81,
   "id": "ccffaad3",
   "metadata": {},
   "outputs": [],
   "source": [
    "sorted_freq_dict = sorted(freq_dict.items(), key=lambda x:x[1], reverse=True)[:21]\n",
    "top_20_words = dict(sorted_freq_dict)"
   ]
  },
  {
   "cell_type": "code",
   "execution_count": 82,
   "id": "7d66e550",
   "metadata": {},
   "outputs": [
    {
     "data": {
      "image/png": "[encoded data removed]",
      "text/plain": [
       "<Figure size 900x400 with 1 Axes>"
      ]
     },
     "metadata": {},
     "output_type": "display_data"
    }
   ],
   "source": [
    "x_labels = list(top_20_words.keys())\n",
    "values = list(top_20_words.values())\n",
    "\n",
    "# Create the figure and axes\n",
    "fig, ax = plt.subplots(figsize=(9,4))\n",
    "\n",
    "# Plot the data\n",
    "ax.bar(x_labels, values)\n",
    "\n",
    "# Customize the plot\n",
    "ax.set_xlabel('word')\n",
    "ax.set_ylabel('Word Count')\n",
    "ax.set_title('Top 20 Most Used Words')\n",
    "\n",
    "# Rotate the x-labels if needed\n",
    "plt.xticks(rotation=90)\n",
    "\n",
    "# Display the plot\n",
    "plt.show()"
   ]
  },
  {
   "cell_type": "markdown",
   "id": "de04458f",
   "metadata": {},
   "source": [
    "The top of words used\n",
    "- 1. Climate\n",
    "- 2. Change\n",
    "- 3. rt\n",
    "- 4. Trump\n",
    "- 5. Global\n",
    "- 6. US\n",
    "- 7. via\n",
    "- 8. Says\n",
    "- 9. EPA\n",
    "- 10. New\n",
    "- 11. Scientists\n",
    "- 12. Trumps\n",
    "- 13. Donald\n",
    "- 14. Fight\n",
    "- 15. China\n",
    "- 16. Could\n",
    "- 17. News\n",
    "- 18. world\n",
    "- 19. Scott\n",
    "- 20. Paris"
   ]
  },
  {
   "cell_type": "code",
   "execution_count": 83,
   "id": "71b4003a",
   "metadata": {},
   "outputs": [],
   "source": [
    "freq_dict = {}\n",
    "words = text.split(\" \")\n",
    "for word in words:\n",
    "    if word != \" \" and word !=\"\":\n",
    "        if word not in freq_dict:\n",
    "            freq_dict[word] = 1\n",
    "        else:\n",
    "            freq_dict[word] += 1"
   ]
  },
  {
   "cell_type": "code",
   "execution_count": 84,
   "id": "95046293",
   "metadata": {},
   "outputs": [],
   "source": [
    "sorted_freq_dict = sorted(freq_dict.items(), key=lambda x:x[1], reverse=True)[:21]\n",
    "top_20_words = dict(sorted_freq_dict)"
   ]
  },
  {
   "cell_type": "code",
   "execution_count": 85,
   "id": "4f6c703f",
   "metadata": {
    "scrolled": true
   },
   "outputs": [
    {
     "data": {
      "image/png": "[encoded data removed]",
      "text/plain": [
       "<Figure size 900x400 with 1 Axes>"
      ]
     },
     "metadata": {},
     "output_type": "display_data"
    }
   ],
   "source": [
    "x_labels = list(top_20_words.keys())\n",
    "values = list(top_20_words.values())\n",
    "\n",
    "# Create the figure and axes\n",
    "fig, ax = plt.subplots(figsize=(9,4))\n",
    "\n",
    "# Plot the data\n",
    "ax.bar(x_labels, values)\n",
    "\n",
    "# Customize the plot\n",
    "ax.set_xlabel('word')\n",
    "ax.set_ylabel('Word Count')\n",
    "ax.set_title('Top 20 Most Used Words')\n",
    "\n",
    "# Rotate the x-labels if needed\n",
    "plt.xticks(rotation=90)\n",
    "\n",
    "# Display the plot\n",
    "plt.show()"
   ]
  },
  {
   "cell_type": "code",
   "execution_count": 86,
   "id": "caf68079",
   "metadata": {},
   "outputs": [
    {
     "ename": "NameError",
     "evalue": "name 'df_pro' is not defined",
     "output_type": "error",
     "traceback": [
      "\u001b[1;31m---------------------------------------------------------------------------\u001b[0m",
      "\u001b[1;31mNameError\u001b[0m                                 Traceback (most recent call last)",
      "Cell \u001b[1;32mIn[86], line 2\u001b[0m\n\u001b[0;32m      1\u001b[0m \u001b[38;5;28;01mfrom\u001b[39;00m \u001b[38;5;21;01mwordcloud\u001b[39;00m \u001b[38;5;28;01mimport\u001b[39;00m WordCloud,ImageColorGenerator\n\u001b[1;32m----> 2\u001b[0m text \u001b[38;5;241m=\u001b[39m \u001b[38;5;124m\"\u001b[39m\u001b[38;5;124m \u001b[39m\u001b[38;5;124m\"\u001b[39m\u001b[38;5;241m.\u001b[39mjoin(i \u001b[38;5;28;01mfor\u001b[39;00m i \u001b[38;5;129;01min\u001b[39;00m df_pro[\u001b[38;5;124m\"\u001b[39m\u001b[38;5;124mmessage\u001b[39m\u001b[38;5;124m\"\u001b[39m])\n\u001b[0;32m      3\u001b[0m text \u001b[38;5;241m=\u001b[39m \u001b[38;5;28mstr\u001b[39m(text)\n",
      "\u001b[1;31mNameError\u001b[0m: name 'df_pro' is not defined"
     ]
    }
   ],
   "source": [
    "from wordcloud import WordCloud,ImageColorGenerator\n",
    "text = \" \".join(i for i in df_pro[\"message\"])\n",
    "text = str(text)"
   ]
  },
  {
   "cell_type": "code",
   "execution_count": null,
   "id": "0a2f1d98",
   "metadata": {},
   "outputs": [],
   "source": [
    "freq_dict = {}\n",
    "words = text.split(\" \")\n",
    "for word in words:\n",
    "    if word != \" \" and word !=\"\":\n",
    "        if word not in freq_dict:\n",
    "            freq_dict[word] = 1\n",
    "        else:\n",
    "            freq_dict[word] += 1"
   ]
  },
  {
   "cell_type": "code",
   "execution_count": null,
   "id": "3d46c34c",
   "metadata": {},
   "outputs": [],
   "source": [
    "sorted_freq_dict = sorted(freq_dict.items(), key=lambda x:x[1], reverse=True)[:21]\n",
    "top_20_words = dict(sorted_freq_dict)"
   ]
  },
  {
   "cell_type": "code",
   "execution_count": null,
   "id": "061a2372",
   "metadata": {},
   "outputs": [],
   "source": [
    "x_labels = list(top_20_words.keys())\n",
    "values = list(top_20_words.values())\n",
    "\n",
    "# Create the figure and axes\n",
    "fig, ax = plt.subplots(figsize=(9,4))\n",
    "\n",
    "# Plot the data\n",
    "ax.bar(x_labels, values)\n",
    "\n",
    "# Customize the plot\n",
    "ax.set_xlabel('word')\n",
    "ax.set_ylabel('Word Count')\n",
    "ax.set_title('Top 20 Most Used Words')\n",
    "\n",
    "# Rotate the x-labels if needed\n",
    "plt.xticks(rotation=90)\n",
    "\n",
    "# Display the plot\n",
    "plt.show()"
   ]
  },
  {
   "cell_type": "markdown",
   "id": "9ee6a711",
   "metadata": {},
   "source": [
    "## 3.2 Comparing the *length of the tweet* per categories\n",
    "- Box plots\n",
    "- Distribution bar graphs\n",
    "- Summary of Stats\n",
    "- Correlation"
   ]
  },
  {
   "cell_type": "markdown",
   "id": "bca57177",
   "metadata": {},
   "source": [
    "### 3.2.1 Box plot"
   ]
  },
  {
   "cell_type": "code",
   "execution_count": 90,
   "id": "70f02d86",
   "metadata": {},
   "outputs": [
    {
     "data": {
      "image/png": "[encoded data removed]",
      "text/plain": [
       "<Figure size 900x400 with 1 Axes>"
      ]
     },
     "metadata": {},
     "output_type": "display_data"
    }
   ],
   "source": [
    "#creating class subsets for the datase\n",
    "\n",
    "df_anti = df_train.copy()[df_train['sentiment'] == -1]\n",
    "df_neutral = df_train.copy()[df_train['sentiment'] == 0]\n",
    "df_pro = df_train.copy()[df_train['sentiment'] == 1]\n",
    "df_news = df_train.copy()[df_train['sentiment'] == 2]\n",
    "\n",
    "#storing the size data in separate variables\n",
    "\n",
    "pro_len = df_pro['length']\n",
    "neutral_len = df_neutral['length']\n",
    "anti_len = df_anti['length']\n",
    "news_len = df_news['length']\n",
    "data_len = df_train['length']\n",
    "\n",
    "#creating a list of all the length datasets\n",
    "\n",
    "len_data = [pro_len, anti_len, neutral_len, news_len, data_len]\n",
    "\n",
    "# Create a figure and axis\n",
    "fig, ax = plt.subplots(figsize=(9,4))\n",
    "\n",
    "# Create the box plots\n",
    "ax.boxplot(len_data, vert=False)\n",
    "\n",
    "# Set the labels for each box plot\n",
    "labels = ['pro', 'anti', 'neutral', 'news', 'main data']\n",
    "ax.set_yticklabels(labels)\n",
    "\n",
    "# Set the title and axis labels\n",
    "plt.title('Box and Whiskers Diagram For Tweet Lengths Per Category')\n",
    "plt.xlabel('Length In Characters')\n",
    "plt.ylabel('Class of Tweet')\n",
    "\n",
    "# Show the plot\n",
    "plt.show()"
   ]
  },
  {
   "cell_type": "markdown",
   "id": "36f9576b",
   "metadata": {},
   "source": [
    "### 3.2.2 Summary"
   ]
  },
  {
   "cell_type": "code",
   "execution_count": 91,
   "id": "46df24cd",
   "metadata": {},
   "outputs": [
    {
     "name": "stdout",
     "output_type": "stream",
     "text": [
      "mean of pro-climate is:   128.97\n"
     ]
    },
    {
     "data": {
      "text/plain": [
       "count    8530.00\n",
       "mean      128.97\n",
       "std        19.96\n",
       "min        22.00\n",
       "25%       123.00\n",
       "50%       137.00\n",
       "75%       140.00\n",
       "max       208.00\n",
       "Name: length, dtype: float64"
      ]
     },
     "execution_count": 91,
     "metadata": {},
     "output_type": "execute_result"
    }
   ],
   "source": [
    "print('mean of pro-climate is:  ', round(df_pro['length'].mean(),2))\n",
    "round(df_pro['length'].describe(),2)"
   ]
  },
  {
   "cell_type": "code",
   "execution_count": 92,
   "id": "42a0518f",
   "metadata": {},
   "outputs": [
    {
     "name": "stdout",
     "output_type": "stream",
     "text": [
      "mean of anti-climate is:   123.73\n"
     ]
    },
    {
     "data": {
      "text/plain": [
       "count    1296.00\n",
       "mean      123.73\n",
       "std        24.29\n",
       "min        34.00\n",
       "25%       114.00\n",
       "50%       135.00\n",
       "75%       140.00\n",
       "max       166.00\n",
       "Name: length, dtype: float64"
      ]
     },
     "execution_count": 92,
     "metadata": {},
     "output_type": "execute_result"
    }
   ],
   "source": [
    "print('mean of anti-climate is:  ', round(df_anti['length'].mean(),2))\n",
    "round(df_anti['length'].describe(),2)"
   ]
  },
  {
   "cell_type": "code",
   "execution_count": 93,
   "id": "496711d9",
   "metadata": {},
   "outputs": [
    {
     "name": "stdout",
     "output_type": "stream",
     "text": [
      "mean of neutral-climate is:   110.93\n"
     ]
    },
    {
     "data": {
      "text/plain": [
       "count    2353.00\n",
       "mean      110.93\n",
       "std        32.36\n",
       "min        14.00\n",
       "25%        85.00\n",
       "50%       124.00\n",
       "75%       139.00\n",
       "max       174.00\n",
       "Name: length, dtype: float64"
      ]
     },
     "execution_count": 93,
     "metadata": {},
     "output_type": "execute_result"
    }
   ],
   "source": [
    "print('mean of neutral-climate is:  ', round(df_neutral['length'].mean(),2))\n",
    "round(df_neutral['length'].describe(),2)"
   ]
  },
  {
   "cell_type": "code",
   "execution_count": 94,
   "id": "b83e39c4",
   "metadata": {},
   "outputs": [
    {
     "name": "stdout",
     "output_type": "stream",
     "text": [
      "mean of news is:   119.92\n"
     ]
    },
    {
     "data": {
      "text/plain": [
       "count    3640.00\n",
       "mean      119.92\n",
       "std        19.00\n",
       "min        48.00\n",
       "25%       108.00\n",
       "50%       123.00\n",
       "75%       137.00\n",
       "max       166.00\n",
       "Name: length, dtype: float64"
      ]
     },
     "execution_count": 94,
     "metadata": {},
     "output_type": "execute_result"
    }
   ],
   "source": [
    "print('mean of news is:  ', round(df_news['length'].mean(),2))\n",
    "round(df_news['length'].describe(),2)"
   ]
  },
  {
   "cell_type": "markdown",
   "id": "c21bb03e",
   "metadata": {},
   "source": [
    "### 3.2.3 Bar graph"
   ]
  },
  {
   "cell_type": "code",
   "execution_count": 95,
   "id": "4f487b11",
   "metadata": {},
   "outputs": [
    {
     "data": {
      "image/png": "[encoded data removed]",
      "text/plain": [
       "<Figure size 900x400 with 1 Axes>"
      ]
     },
     "metadata": {},
     "output_type": "display_data"
    }
   ],
   "source": [
    "plt.figure( figsize=(9,4))\n",
    "plt.hist(df_train['length'])\n",
    "plt.title(\"Distribution of Tweet Lengths\")\n",
    "plt.xlabel(\"Length of Tweet In Charaters\") #X-label of the data\n",
    "plt.ylabel(\"Number of Tweets\")      #Y_label of the data\n",
    "plt.show()"
   ]
  },
  {
   "cell_type": "markdown",
   "id": "7cac7521",
   "metadata": {},
   "source": [
    "### 3.2.4 Correlation between length of tweets and sentiment "
   ]
  },
  {
   "cell_type": "code",
   "execution_count": 96,
   "id": "29bfd653",
   "metadata": {},
   "outputs": [
    {
     "name": "stderr",
     "output_type": "stream",
     "text": [
      "C:\\Users\\percy\\AppData\\Local\\Temp\\ipykernel_15048\\28272172.py:2: FutureWarning: The default value of numeric_only in DataFrame.corr is deprecated. In a future version, it will default to False. Select only valid columns or specify the value of numeric_only to silence this warning.\n",
      "  correlation_matrix = df_train.corr()\n"
     ]
    },
    {
     "data": {
      "text/plain": [
       "Text(0.5, 1.0, 'Correlation with sentiments')"
      ]
     },
     "execution_count": 96,
     "metadata": {},
     "output_type": "execute_result"
    },
    {
     "data": {
      "image/png": "[encoded data removed]",
      "text/plain": [
       "<Figure size 700x500 with 2 Axes>"
      ]
     },
     "metadata": {},
     "output_type": "display_data"
    }
   ],
   "source": [
    "# Calculate the correlation matrix\n",
    "correlation_matrix = df_train.corr()\n",
    "\n",
    "# Calculate the correlations with the target variable\n",
    "target_correlations = correlation_matrix['sentiment']\n",
    "\n",
    "# Sort the features by their correlations with the target variable\n",
    "sorted_features = target_correlations.abs().sort_values(ascending=False).index\n",
    "\n",
    "# Reorder the correlation matrix\n",
    "sorted_corr_matrix = correlation_matrix.loc[sorted_features, sorted_features]\n",
    "\n",
    "# Create a heatmap for the sorted correlations without annotations\n",
    "plt.figure(figsize=(7, 5))\n",
    "sns.heatmap(sorted_corr_matrix, cmap='coolwarm')\n",
    "plt.title('Correlation with sentiments')"
   ]
  },
  {
   "cell_type": "markdown",
   "id": "48224efa",
   "metadata": {},
   "source": [
    "## Retweets "
   ]
  },
  {
   "cell_type": "markdown",
   "id": "3b22b52c",
   "metadata": {},
   "source": [
    "<a id=\"four\"></a>\n",
    "\n",
    "## 4. Data Engineering\n",
    "\n",
    "<a class=\"anchor\" id=\"1.1\"></a>\n",
    "<a href=#cont>Back to Table of Contents</a>\n",
    "\n",
    "---\n",
    "\n",
    "| ⚡ Description: Data engineering ⚡                                                                                        |\n",
    "| :------------------------------------------------------------------------------------------------------------------------- |\n",
    "| In this section you are required to: clean the dataset, and possibly create new features - as identified in the EDA phase. |\n",
    "\n",
    "---\n"
   ]
  },
  {
   "cell_type": "markdown",
   "id": "1c6c4088",
   "metadata": {},
   "source": [
    "Data engineering involves data cleaning and feature engineering\n",
    "\n",
    "## 4.1 Data cleaning \n",
    "In order to process the tweet messages more effectively the tweets are cleaned using the clean function defined in the code cell below. The clean function does the following.\n",
    "\n",
    "- Convert all tweet text to lowercase.\n",
    "- Drop colums that are not important\n",
    "- Remove @\n",
    "- Remove punctuation.\n",
    "- Remove numbers\n",
    "- Remove stopwords\n",
    "- Remove line-break code syntax\n",
    "- Emojis"
   ]
  },
  {
   "cell_type": "markdown",
   "id": "10986d66",
   "metadata": {},
   "source": [
    "Removing the web-urls"
   ]
  },
  {
   "cell_type": "code",
   "execution_count": 11,
   "id": "4680439f",
   "metadata": {},
   "outputs": [],
   "source": [
    "pattern_url = r'http[s]?://(?:[A-Za-z]|[0-9]|[$-_@.&+]|[!*\\(\\),]|(?:%[0-9A-Fa-f][0-9A-Fa-f]))+'\n",
    "subs_url = r'url-web'\n",
    "df_train['CleanMessage'] = df_train['message'].replace(to_replace = pattern_url, value = subs_url, regex = True)"
   ]
  },
  {
   "cell_type": "markdown",
   "id": "651afd07",
   "metadata": {},
   "source": [
    "Converting every word to lower case"
   ]
  },
  {
   "cell_type": "code",
   "execution_count": 12,
   "id": "ddcbe001",
   "metadata": {},
   "outputs": [
    {
     "data": {
      "text/plain": [
       "0    polyscimajor epa chief doesn't think carbon di...\n",
       "1    it's not like we lack evidence of anthropogeni...\n",
       "2    rt @rawstory: researchers say we have three ye...\n",
       "3    #todayinmaker# wired : 2016 was a pivotal year...\n",
       "4    rt @soynoviodetodas: it's 2016, and a racist, ...\n",
       "Name: CleanMessage, dtype: object"
      ]
     },
     "execution_count": 12,
     "metadata": {},
     "output_type": "execute_result"
    }
   ],
   "source": [
    "df_train['CleanMessage'] = df_train['CleanMessage'].str.lower()\n",
    "df_train['CleanMessage'].head()"
   ]
  },
  {
   "cell_type": "markdown",
   "id": "ceaba661",
   "metadata": {},
   "source": [
    "Removing punctuation"
   ]
  },
  {
   "cell_type": "code",
   "execution_count": 13,
   "id": "16a12b3e",
   "metadata": {},
   "outputs": [],
   "source": [
    "def remove_punctuation(post):\n",
    "    return ''.join([l for l in post if l not in string.punctuation])"
   ]
  },
  {
   "cell_type": "code",
   "execution_count": 14,
   "id": "6442dc5e",
   "metadata": {},
   "outputs": [
    {
     "data": {
      "text/plain": [
       "0    polyscimajor epa chief doesnt think carbon dio...\n",
       "1    its not like we lack evidence of anthropogenic...\n",
       "2    rt rawstory researchers say we have three year...\n",
       "3    todayinmaker wired  2016 was a pivotal year in...\n",
       "4    rt soynoviodetodas its 2016 and a racist sexis...\n",
       "Name: CleanMessage, dtype: object"
      ]
     },
     "execution_count": 14,
     "metadata": {},
     "output_type": "execute_result"
    }
   ],
   "source": [
    "df_train['CleanMessage'] = df_train['CleanMessage'].apply(remove_punctuation)\n",
    "df_train['CleanMessage'].head()"
   ]
  },
  {
   "cell_type": "code",
   "execution_count": 15,
   "id": "f43fc02a",
   "metadata": {},
   "outputs": [
    {
     "data": {
      "text/plain": [
       "0    polyscimajor epa chief doesnt think carbon dio...\n",
       "1    its not like we lack evidence of anthropogenic...\n",
       "2    rt rawstory researchers say we have three year...\n",
       "3    todayinmaker wired       was a pivotal year in...\n",
       "4    rt soynoviodetodas its      and a racist sexis...\n",
       "Name: CleanMessage, dtype: object"
      ]
     },
     "execution_count": 15,
     "metadata": {},
     "output_type": "execute_result"
    }
   ],
   "source": [
    "df_train['CleanMessage'] = df_train['CleanMessage'].astype(str).apply(lambda x: re.sub(\"[^a-z]\", \" \", x))\n",
    "\n",
    "df_train['CleanMessage'].head()"
   ]
  },
  {
   "cell_type": "markdown",
   "id": "3fee25b6",
   "metadata": {},
   "source": [
    "Stop words"
   ]
  },
  {
   "cell_type": "code",
   "execution_count": 16,
   "id": "a3dff9a4",
   "metadata": {},
   "outputs": [],
   "source": [
    "stopwordlist = ['a', 'about', 'above', 'after', 'again', 'ain', 'all', 'am', 'an',\n",
    "             'and','any','are', 'as', 'at', 'be', 'because', 'been', 'before',\n",
    "             'being', 'below', 'between','both', 'by', 'can', 'd', 'did', 'do',\n",
    "             'does', 'doing', 'down', 'during', 'each','few', 'for', 'from',\n",
    "             'further', 'had', 'has', 'have', 'having', 'he', 'her', 'here',\n",
    "             'hers', 'herself', 'him', 'himself', 'his', 'how', 'i', 'if', 'in',\n",
    "             'into','is', 'it', 'its', 'itself', 'just', 'll', 'm', 'ma',\n",
    "             'me', 'more', 'most','my', 'myself', 'now', 'o', 'of', 'on', 'once',\n",
    "             'only', 'or', 'other', 'our', 'ours','ourselves', 'out', 'own', 're','s', 'same', 'she', \"shes\", 'should', \"shouldve\",'so', 'some', 'such',\n",
    "             't', 'than', 'that', \"thatll\", 'the', 'their', 'theirs', 'them',\n",
    "             'themselves', 'then', 'there', 'these', 'they', 'this', 'those',\n",
    "             'through', 'to', 'too','under', 'until', 'up', 've', 'very', 'was',\n",
    "             'we', 'were', 'what', 'when', 'where','which','while', 'who', 'whom',\n",
    "             'why', 'will', 'with', 'won', 'y', 'you', \"youd\",\"youll\", \"youre\",\n",
    "             \"youve\", 'your', 'yours', 'yourself', 'yourselves']"
   ]
  },
  {
   "cell_type": "code",
   "execution_count": 17,
   "id": "50fa6499",
   "metadata": {},
   "outputs": [],
   "source": [
    "STOPWORDS = set(stopwordlist)\n",
    "def cleaning_stopwords(text):\n",
    "    return \" \".join([word for word in str(text).split() if word not in STOPWORDS])\n",
    "df_train['CleanMessage'] = df_train['CleanMessage'].apply(lambda text: cleaning_stopwords(text))"
   ]
  },
  {
   "cell_type": "code",
   "execution_count": null,
   "id": "f60a8a9a",
   "metadata": {},
   "outputs": [],
   "source": [
    "df_train['CleanMessage'].head()"
   ]
  },
  {
   "cell_type": "markdown",
   "id": "52b55c67",
   "metadata": {},
   "source": [
    "Tweet id column has no siginificance in the project as it only shows unique twitter number"
   ]
  },
  {
   "cell_type": "code",
   "execution_count": 10,
   "id": "59c9de3d",
   "metadata": {},
   "outputs": [
    {
     "data": {
      "text/html": [
       "<div>\n",
       "<style scoped>\n",
       "    .dataframe tbody tr th:only-of-type {\n",
       "        vertical-align: middle;\n",
       "    }\n",
       "\n",
       "    .dataframe tbody tr th {\n",
       "        vertical-align: top;\n",
       "    }\n",
       "\n",
       "    .dataframe thead th {\n",
       "        text-align: right;\n",
       "    }\n",
       "</style>\n",
       "<table border=\"1\" class=\"dataframe\">\n",
       "  <thead>\n",
       "    <tr style=\"text-align: right;\">\n",
       "      <th></th>\n",
       "      <th>sentiment</th>\n",
       "      <th>message</th>\n",
       "      <th>tweetid</th>\n",
       "      <th>CleanMessage</th>\n",
       "    </tr>\n",
       "  </thead>\n",
       "  <tbody>\n",
       "    <tr>\n",
       "      <th>0</th>\n",
       "      <td>1</td>\n",
       "      <td>PolySciMajor EPA chief doesn't think carbon di...</td>\n",
       "      <td>625221</td>\n",
       "      <td>polyscimajor epa chief doesnt think carbon dio...</td>\n",
       "    </tr>\n",
       "    <tr>\n",
       "      <th>1</th>\n",
       "      <td>1</td>\n",
       "      <td>It's not like we lack evidence of anthropogeni...</td>\n",
       "      <td>126103</td>\n",
       "      <td>its not like we lack evidence of anthropogenic...</td>\n",
       "    </tr>\n",
       "    <tr>\n",
       "      <th>2</th>\n",
       "      <td>2</td>\n",
       "      <td>RT @RawStory: Researchers say we have three ye...</td>\n",
       "      <td>698562</td>\n",
       "      <td>rt rawstory researchers say we have three year...</td>\n",
       "    </tr>\n",
       "    <tr>\n",
       "      <th>3</th>\n",
       "      <td>1</td>\n",
       "      <td>#TodayinMaker# WIRED : 2016 was a pivotal year...</td>\n",
       "      <td>573736</td>\n",
       "      <td>todayinmaker wired       was a pivotal year in...</td>\n",
       "    </tr>\n",
       "    <tr>\n",
       "      <th>4</th>\n",
       "      <td>1</td>\n",
       "      <td>RT @SoyNovioDeTodas: It's 2016, and a racist, ...</td>\n",
       "      <td>466954</td>\n",
       "      <td>rt soynoviodetodas its      and a racist sexis...</td>\n",
       "    </tr>\n",
       "  </tbody>\n",
       "</table>\n",
       "</div>"
      ],
      "text/plain": [
       "   sentiment                                            message  tweetid  \\\n",
       "0          1  PolySciMajor EPA chief doesn't think carbon di...   625221   \n",
       "1          1  It's not like we lack evidence of anthropogeni...   126103   \n",
       "2          2  RT @RawStory: Researchers say we have three ye...   698562   \n",
       "3          1  #TodayinMaker# WIRED : 2016 was a pivotal year...   573736   \n",
       "4          1  RT @SoyNovioDeTodas: It's 2016, and a racist, ...   466954   \n",
       "\n",
       "                                        CleanMessage  \n",
       "0  polyscimajor epa chief doesnt think carbon dio...  \n",
       "1  its not like we lack evidence of anthropogenic...  \n",
       "2  rt rawstory researchers say we have three year...  \n",
       "3  todayinmaker wired       was a pivotal year in...  \n",
       "4  rt soynoviodetodas its      and a racist sexis...  "
      ]
     },
     "execution_count": 10,
     "metadata": {},
     "output_type": "execute_result"
    }
   ],
   "source": [
    "df_train.head()"
   ]
  },
  {
   "cell_type": "code",
   "execution_count": 18,
   "id": "d912cf6c",
   "metadata": {},
   "outputs": [],
   "source": [
    "df_train = df_train.drop('tweetid', axis=1)"
   ]
  },
  {
   "cell_type": "markdown",
   "id": "a658d945",
   "metadata": {},
   "source": [
    "### Cleaning also included:\n",
    "- Tokenization\n",
    "- Stemming\n",
    "- Lemmatization"
   ]
  },
  {
   "cell_type": "markdown",
   "id": "74834b56",
   "metadata": {},
   "source": [
    "####  Applying Tokenization"
   ]
  },
  {
   "cell_type": "markdown",
   "id": "9c3631c8",
   "metadata": {},
   "source": [
    "A tokeniser divides text into a sequence of tokens, which roughly correspond to \"words\""
   ]
  },
  {
   "cell_type": "code",
   "execution_count": 56,
   "id": "c58ecddd",
   "metadata": {},
   "outputs": [],
   "source": [
    "from nltk.tokenize import word_tokenize, TreebankWordTokenizer\n",
    "tokeniser = TreebankWordTokenizer()\n",
    "df_train['CleanMessage'] = df_train['CleanMessage'].apply(tokeniser.tokenize)"
   ]
  },
  {
   "cell_type": "markdown",
   "id": "454a2c6b",
   "metadata": {},
   "source": [
    "#### Applying stemming"
   ]
  },
  {
   "cell_type": "markdown",
   "id": "01c8f082",
   "metadata": {},
   "source": [
    "Stemming is the process of transforming to the root word. It uses an algorithm that removes common word-endings from English words, such as “ly,” “es,” “ed,” and “s.”"
   ]
  },
  {
   "cell_type": "code",
   "execution_count": 19,
   "id": "55b4becb",
   "metadata": {},
   "outputs": [],
   "source": [
    "st = nltk.PorterStemmer()\n",
    "def stemming_on_text(data):\n",
    "    text = [st.stem(word) for word in data]\n",
    "    return data\n",
    "df_train['tokens']= df_train['CleanMessage'].apply(lambda x: stemming_on_text(x))\n"
   ]
  },
  {
   "cell_type": "markdown",
   "id": "d58a33ee",
   "metadata": {},
   "source": [
    "#### Applying lemmatizer"
   ]
  },
  {
   "cell_type": "markdown",
   "id": "0f4c2282",
   "metadata": {},
   "source": [
    "Lemmatizing is the process of grouping words of similar meaning together. So, your root stem, meaning the word you end up with, is not something you can just look up in a dictionary, but you can look up a lemma."
   ]
  },
  {
   "cell_type": "code",
   "execution_count": 20,
   "id": "63016553",
   "metadata": {},
   "outputs": [],
   "source": [
    "lm = nltk.WordNetLemmatizer()\n",
    "def lemmatizer_on_text(data):\n",
    "    text = [lm.lemmatize(word) for word in data]\n",
    "    return data\n",
    "df_train['CleanMessage'] = df_train['CleanMessage'].apply(lambda x: lemmatizer_on_text(x))\n"
   ]
  },
  {
   "cell_type": "markdown",
   "id": "44bcd373",
   "metadata": {},
   "source": [
    "## 4.2 Feature Engineering"
   ]
  },
  {
   "cell_type": "markdown",
   "id": "63560d2f",
   "metadata": {},
   "source": [
    "We added the following features to modify our and for more insights:\n",
    "- Lengths of tweets\n",
    "- Bag of words\n",
    "- TFIDVectorizer"
   ]
  },
  {
   "cell_type": "markdown",
   "id": "17cba7ec",
   "metadata": {},
   "source": [
    "### Length tweets"
   ]
  },
  {
   "cell_type": "code",
   "execution_count": 21,
   "id": "ddb44556",
   "metadata": {},
   "outputs": [],
   "source": [
    "length = [len(tweet) for tweet in df_train['message']]\n",
    "df_train['length'] = length"
   ]
  },
  {
   "cell_type": "markdown",
   "id": "172b63ad",
   "metadata": {},
   "source": [
    "### Text Feature extraction"
   ]
  },
  {
   "cell_type": "markdown",
   "id": "e7f38399",
   "metadata": {},
   "source": [
    "Text feature extraction is the process of transforming what is essentially a list of words into a feature set that is usable by a classifier. The NLTK classifiers expect dict style feature sets, so we must therefore transform our text into a dict"
   ]
  },
  {
   "cell_type": "markdown",
   "id": "310d3876",
   "metadata": {},
   "source": [
    "####  Bag of words"
   ]
  },
  {
   "cell_type": "markdown",
   "id": "a6eeb5ee",
   "metadata": {},
   "source": [
    "The Bag of Words model is the simplest method; it constructs a word presence feature set from all the words in the text, indicating the number of times each word has appeared."
   ]
  },
  {
   "cell_type": "code",
   "execution_count": 63,
   "id": "4ad334f0",
   "metadata": {},
   "outputs": [],
   "source": [
    "def bag_of_words_count(words, word_dict={}):\n",
    "    \"\"\" this function takes in a list of words and returns a dictionary \n",
    "        with each word as a key, and the value represents the number of \n",
    "        times that word appeared\"\"\"\n",
    "    for word in words:\n",
    "        if word in word_dict.keys():\n",
    "            word_dict[word] += 1\n",
    "        else:\n",
    "            word_dict[word] = 1\n",
    "    return word_dict"
   ]
  },
  {
   "cell_type": "code",
   "execution_count": 64,
   "id": "30fa461f",
   "metadata": {},
   "outputs": [
    {
     "name": "stdout",
     "output_type": "stream",
     "text": [
      "[1, 2, 0, -1]\n"
     ]
    }
   ],
   "source": [
    "unique_sentiment = list(df_train[\"sentiment\"].unique())\n",
    "print(unique_sentiment)"
   ]
  },
  {
   "cell_type": "code",
   "execution_count": 65,
   "id": "7d7fd970",
   "metadata": {},
   "outputs": [
    {
     "data": {
      "text/html": [
       "<div>\n",
       "<style scoped>\n",
       "    .dataframe tbody tr th:only-of-type {\n",
       "        vertical-align: middle;\n",
       "    }\n",
       "\n",
       "    .dataframe tbody tr th {\n",
       "        vertical-align: top;\n",
       "    }\n",
       "\n",
       "    .dataframe thead th {\n",
       "        text-align: right;\n",
       "    }\n",
       "</style>\n",
       "<table border=\"1\" class=\"dataframe\">\n",
       "  <thead>\n",
       "    <tr style=\"text-align: right;\">\n",
       "      <th></th>\n",
       "      <th>sentiment</th>\n",
       "      <th>message</th>\n",
       "      <th>CleanMessage</th>\n",
       "      <th>tokens</th>\n",
       "      <th>length</th>\n",
       "    </tr>\n",
       "  </thead>\n",
       "  <tbody>\n",
       "    <tr>\n",
       "      <th>0</th>\n",
       "      <td>1</td>\n",
       "      <td>PolySciMajor EPA chief doesn't think carbon di...</td>\n",
       "      <td>polyscimajor epa chief doesnt think carbon dio...</td>\n",
       "      <td>polyscimajor epa chief doesnt think carbon dio...</td>\n",
       "      <td>140</td>\n",
       "    </tr>\n",
       "    <tr>\n",
       "      <th>1</th>\n",
       "      <td>1</td>\n",
       "      <td>It's not like we lack evidence of anthropogeni...</td>\n",
       "      <td>not like lack evidence anthropogenic global wa...</td>\n",
       "      <td>not like lack evidence anthropogenic global wa...</td>\n",
       "      <td>62</td>\n",
       "    </tr>\n",
       "    <tr>\n",
       "      <th>2</th>\n",
       "      <td>2</td>\n",
       "      <td>RT @RawStory: Researchers say we have three ye...</td>\n",
       "      <td>rt rawstory researchers say three years act cl...</td>\n",
       "      <td>rt rawstory researchers say three years act cl...</td>\n",
       "      <td>140</td>\n",
       "    </tr>\n",
       "    <tr>\n",
       "      <th>3</th>\n",
       "      <td>1</td>\n",
       "      <td>#TodayinMaker# WIRED : 2016 was a pivotal year...</td>\n",
       "      <td>todayinmaker wired pivotal year war climate ch...</td>\n",
       "      <td>todayinmaker wired pivotal year war climate ch...</td>\n",
       "      <td>99</td>\n",
       "    </tr>\n",
       "    <tr>\n",
       "      <th>4</th>\n",
       "      <td>1</td>\n",
       "      <td>RT @SoyNovioDeTodas: It's 2016, and a racist, ...</td>\n",
       "      <td>rt soynoviodetodas racist sexist climate chang...</td>\n",
       "      <td>rt soynoviodetodas racist sexist climate chang...</td>\n",
       "      <td>122</td>\n",
       "    </tr>\n",
       "  </tbody>\n",
       "</table>\n",
       "</div>"
      ],
      "text/plain": [
       "   sentiment                                            message  \\\n",
       "0          1  PolySciMajor EPA chief doesn't think carbon di...   \n",
       "1          1  It's not like we lack evidence of anthropogeni...   \n",
       "2          2  RT @RawStory: Researchers say we have three ye...   \n",
       "3          1  #TodayinMaker# WIRED : 2016 was a pivotal year...   \n",
       "4          1  RT @SoyNovioDeTodas: It's 2016, and a racist, ...   \n",
       "\n",
       "                                        CleanMessage  \\\n",
       "0  polyscimajor epa chief doesnt think carbon dio...   \n",
       "1  not like lack evidence anthropogenic global wa...   \n",
       "2  rt rawstory researchers say three years act cl...   \n",
       "3  todayinmaker wired pivotal year war climate ch...   \n",
       "4  rt soynoviodetodas racist sexist climate chang...   \n",
       "\n",
       "                                              tokens  length  \n",
       "0  polyscimajor epa chief doesnt think carbon dio...     140  \n",
       "1  not like lack evidence anthropogenic global wa...      62  \n",
       "2  rt rawstory researchers say three years act cl...     140  \n",
       "3  todayinmaker wired pivotal year war climate ch...      99  \n",
       "4  rt soynoviodetodas racist sexist climate chang...     122  "
      ]
     },
     "execution_count": 65,
     "metadata": {},
     "output_type": "execute_result"
    }
   ],
   "source": [
    "df_train.head()"
   ]
  },
  {
   "cell_type": "code",
   "execution_count": 66,
   "id": "6dce7062",
   "metadata": {},
   "outputs": [],
   "source": [
    "personality = {}\n",
    "for pp in unique_sentiment:\n",
    "    df = df_train.groupby('sentiment')\n",
    "    personality[pp] = {}\n",
    "    for row in df.get_group(pp)['CleanMessage']:\n",
    "        personality[pp] = bag_of_words_count(row, personality[pp])       "
   ]
  },
  {
   "cell_type": "code",
   "execution_count": 67,
   "id": "0be549dd",
   "metadata": {},
   "outputs": [],
   "source": [
    "all_words = set()\n",
    "for pp in unique_sentiment:\n",
    "    for word in personality[pp]:\n",
    "        all_words.add(word)"
   ]
  },
  {
   "cell_type": "code",
   "execution_count": 68,
   "id": "3a837a69",
   "metadata": {},
   "outputs": [],
   "source": [
    "personality['all'] = {}\n",
    "for pp in unique_sentiment:    \n",
    "    for word in all_words:\n",
    "        if word in personality[pp].keys():\n",
    "            if word in personality['all']:\n",
    "                personality['all'][word] += personality[pp][word]\n",
    "            else:\n",
    "                personality['all'][word] = personality[pp][word]"
   ]
  },
  {
   "cell_type": "code",
   "execution_count": 69,
   "id": "573caf82",
   "metadata": {},
   "outputs": [
    {
     "data": {
      "text/plain": [
       "1384317"
      ]
     },
     "execution_count": 69,
     "metadata": {},
     "output_type": "execute_result"
    }
   ],
   "source": [
    "total_words = sum([v for v in personality['all'].values()])\n",
    "total_words"
   ]
  },
  {
   "cell_type": "code",
   "execution_count": 70,
   "id": "08ee4bb9",
   "metadata": {},
   "outputs": [
    {
     "data": {
      "text/plain": [
       "Text(0.5, 0, 'word frequency')"
      ]
     },
     "execution_count": 70,
     "metadata": {},
     "output_type": "execute_result"
    },
    {
     "data": {
      "image/png": "[encoded data removed]",
      "text/plain": [
       "<Figure size 640x480 with 1 Axes>"
      ]
     },
     "metadata": {},
     "output_type": "display_data"
    }
   ],
   "source": [
    "all_words = plt.hist([v for v in personality['all'].values() if v < 10],bins=8)\n",
    "plt.ylabel(\"# of words\")\n",
    "plt.xlabel(\"word frequency\")"
   ]
  },
  {
   "cell_type": "code",
   "execution_count": 71,
   "id": "df2f5369",
   "metadata": {},
   "outputs": [
    {
     "data": {
      "text/plain": [
       "0"
      ]
     },
     "execution_count": 71,
     "metadata": {},
     "output_type": "execute_result"
    }
   ],
   "source": [
    "len([v for v in personality['all'].values() if v == 1])"
   ]
  },
  {
   "cell_type": "code",
   "execution_count": 72,
   "id": "03daa153",
   "metadata": {},
   "outputs": [
    {
     "data": {
      "text/plain": [
       "0"
      ]
     },
     "execution_count": 72,
     "metadata": {},
     "output_type": "execute_result"
    }
   ],
   "source": [
    "len([v for v in personality['all'].values() if v == 10])"
   ]
  },
  {
   "cell_type": "code",
   "execution_count": 34,
   "id": "0d05a73c",
   "metadata": {},
   "outputs": [
    {
     "name": "stdout",
     "output_type": "stream",
     "text": [
      "[]\n"
     ]
    }
   ],
   "source": [
    "rare_words = [k for k, v in personality['all'].items() if v==1] \n",
    "print(rare_words[:100])"
   ]
  },
  {
   "cell_type": "code",
   "execution_count": 35,
   "id": "124c8abc",
   "metadata": {},
   "outputs": [
    {
     "name": "stdout",
     "output_type": "stream",
     "text": [
      "[]\n"
     ]
    }
   ],
   "source": [
    "# Words that appear more than 10 times \n",
    "com_words = [k for k, v in personality['all'].items() if v>10] \n",
    "print(rare_words[:100])"
   ]
  },
  {
   "cell_type": "code",
   "execution_count": 36,
   "id": "20cfa30e",
   "metadata": {},
   "outputs": [
    {
     "name": "stdout",
     "output_type": "stream",
     "text": [
      "27\n",
      "1384317\n"
     ]
    }
   ],
   "source": [
    "# how many words appear more than 10 times?\n",
    "print(len([v for v in personality['all'].values() if v >= 10]))\n",
    "# how many words of the total does that account for?\n",
    "occurs_more_than_10_times = sum([v for v in personality['all'].values() if v >= 10])\n",
    "print(occurs_more_than_10_times)"
   ]
  },
  {
   "cell_type": "code",
   "execution_count": 37,
   "id": "ed4e5a12",
   "metadata": {},
   "outputs": [
    {
     "data": {
      "text/plain": [
       "['o',\n",
       " 'q',\n",
       " 'n',\n",
       " 'g',\n",
       " 'x',\n",
       " 'h',\n",
       " 'd',\n",
       " 'i',\n",
       " 'c',\n",
       " 'u',\n",
       " 'r',\n",
       " 'y',\n",
       " 'e',\n",
       " 'b',\n",
       " 'a',\n",
       " 'z',\n",
       " 'm',\n",
       " 'l',\n",
       " 'w',\n",
       " 'j',\n",
       " 'p',\n",
       " ' ',\n",
       " 's',\n",
       " 'v',\n",
       " 't',\n",
       " 'f',\n",
       " 'k']"
      ]
     },
     "execution_count": 37,
     "metadata": {},
     "output_type": "execute_result"
    }
   ],
   "source": [
    "max_count = 10\n",
    "remaining_word_index = [k for k, v in personality['all'].items() if v > max_count]\n",
    "remaining_word_index"
   ]
  },
  {
   "cell_type": "markdown",
   "id": "9c728919",
   "metadata": {},
   "source": [
    "### Term Frequency – Inverse Document Frequency (TF – IDF)"
   ]
  },
  {
   "cell_type": "code",
   "execution_count": 38,
   "id": "6e41c5e6",
   "metadata": {},
   "outputs": [
    {
     "name": "stdout",
     "output_type": "stream",
     "text": [
      "  (0, 17819)\t0.29617953391365087\n",
      "  (0, 29419)\t0.17919926422611793\n",
      "  (0, 31171)\t0.4083807629436574\n",
      "  (0, 6552)\t0.0685938251926709\n",
      "  (0, 13502)\t0.06563679654204725\n",
      "  (0, 30178)\t0.17000387831408595\n",
      "  (0, 29832)\t0.27500470572274316\n",
      "  (0, 2968)\t0.11167930341655102\n",
      "  (0, 29896)\t0.10281932328060743\n",
      "  (0, 12011)\t0.10018392293695356\n",
      "  (0, 20208)\t0.09946418435998201\n",
      "  (0, 5682)\t0.21540366535326275\n",
      "  (0, 17537)\t0.28184336593277864\n",
      "  (0, 14605)\t0.09816618321079935\n",
      "  (0, 8392)\t0.24742439027234542\n",
      "  (0, 5534)\t0.21805790613752135\n",
      "  (0, 27605)\t0.1959115811865097\n",
      "  (0, 8694)\t0.16310935709469898\n",
      "  (0, 6065)\t0.22305131300999193\n",
      "  (0, 9847)\t0.17641536800457827\n",
      "  (0, 21784)\t0.4083807629436574\n",
      "  (1, 3128)\t0.52094265118164\n",
      "  (1, 10106)\t0.3932716987989639\n",
      "  (1, 16408)\t0.4980168835789958\n",
      "  (1, 30027)\t0.2199002975347319\n",
      "  :\t:\n",
      "  (15817, 27728)\t0.33170980422665547\n",
      "  (15817, 7222)\t0.3100987527608332\n",
      "  (15817, 16862)\t0.26955708032839304\n",
      "  (15817, 13300)\t0.181220288532438\n",
      "  (15817, 4207)\t0.21234098193339193\n",
      "  (15817, 5925)\t0.29092752255083043\n",
      "  (15817, 13106)\t0.2502183112064296\n",
      "  (15817, 27371)\t0.12778298508225192\n",
      "  (15817, 27383)\t0.1526587023460654\n",
      "  (15817, 5924)\t0.04791834737794704\n",
      "  (15817, 6366)\t0.09481238776653392\n",
      "  (15817, 27852)\t0.07567381851114427\n",
      "  (15817, 24252)\t0.05766702803605628\n",
      "  (15817, 14605)\t0.1852097791752494\n",
      "  (15818, 17256)\t0.46981186458747914\n",
      "  (15818, 24902)\t0.46981186458747914\n",
      "  (15818, 6049)\t0.46981186458747914\n",
      "  (15818, 9886)\t0.43716826127447506\n",
      "  (15818, 16288)\t0.3299208945182724\n",
      "  (15818, 14106)\t0.11930942164807452\n",
      "  (15818, 5924)\t0.058437082160821184\n",
      "  (15818, 6366)\t0.05781250394631152\n",
      "  (15818, 24252)\t0.0703257319943444\n",
      "  (15818, 6552)\t0.0789121227960545\n",
      "  (15818, 13502)\t0.07551028003055735\n"
     ]
    }
   ],
   "source": [
    "from sklearn.feature_extraction.text import TfidfVectorizer\n",
    "obj = TfidfVectorizer()\n",
    "corpus = df_train[\"message\"]\n",
    "X = obj.fit_transform(corpus)\n",
    "print (X)"
   ]
  },
  {
   "cell_type": "markdown",
   "id": "3c1e61d7",
   "metadata": {},
   "source": [
    "## Ngrams - lauryn "
   ]
  },
  {
   "cell_type": "markdown",
   "id": "fbea3a33",
   "metadata": {},
   "source": [
    "<a id=\"five\"></a>\n",
    "\n",
    "## 5. Modelling\n",
    "\n",
    "<a class=\"anchor\" id=\"1.1\"></a>\n",
    "<a href=#cont>Back to Table of Contents</a>\n",
    "\n",
    "---\n",
    "\n",
    "| ⚡ Description: Modelling ⚡                                                                                                                |\n",
    "| :------------------------------------------------------------------------------------------------------------------------------------------ |\n",
    "| In this section, you are required to create one or more regression models that are able to accurately predict the twitter sentiments. |\n",
    "\n",
    "---\n"
   ]
  },
  {
   "cell_type": "markdown",
   "id": "c62d6c51",
   "metadata": {},
   "source": [
    "### Pre processing"
   ]
  },
  {
   "cell_type": "markdown",
   "id": "932f8cc2",
   "metadata": {},
   "source": [
    "The line X_train, X_val, y_train, y_val = train_test_split(X, y, test_size=0.2, random_state=50) is splitting the data into training and validation sets.\n",
    "\n",
    "X and y are the feature matrix and target variable, respectively. X contains the features we use to make predictions, and y contains the corresponding target values (in this case, sentiment).\n",
    "\n",
    "train_test_split() is a function provided by scikit-learn (a popular machine learning library) that is used to split a dataset into training and validation subsets.\n",
    "\n",
    "The function takes the following arguments:\n",
    "\n",
    "X: The feature matrix (independent variables). y: The target variable (dependent variable). test_size: This parameter specifies the proportion of the data that should be used for the validation set. In this case, it's set to 0.2, meaning 20% of the data will be used for validation, and the remaining 80% for training. random_state: This is a seed for the random number generator used in the data splitting process. Setting this to a specific value (e.g., 42) ensures that the split is reproducible.\n",
    "\n",
    "train_test_split() returns four sets of data:\n",
    "\n",
    "X_train: This contains the feature data for the training set. X_val: This contains the feature data for the validation set. y_train: This contains the target data for the training set. y_val: This contains the target data for the validation set. By splitting the data into training and validation sets, you can train your machine learning model on a portion of the data (X_train and y_train) and evaluate its performance on another portion that it hasn't seen during training (X_val and y_val). This allows us to estimate how well your model is likely to perform on unseen data (seen in Model Performance section)."
   ]
  },
  {
   "cell_type": "code",
   "execution_count": 58,
   "id": "42053bee",
   "metadata": {},
   "outputs": [],
   "source": [
    "from sklearn.model_selection import train_test_split"
   ]
  },
  {
   "cell_type": "code",
   "execution_count": 5,
   "id": "479c040b",
   "metadata": {},
   "outputs": [
    {
     "data": {
      "text/html": [
       "<div>\n",
       "<style scoped>\n",
       "    .dataframe tbody tr th:only-of-type {\n",
       "        vertical-align: middle;\n",
       "    }\n",
       "\n",
       "    .dataframe tbody tr th {\n",
       "        vertical-align: top;\n",
       "    }\n",
       "\n",
       "    .dataframe thead th {\n",
       "        text-align: right;\n",
       "    }\n",
       "</style>\n",
       "<table border=\"1\" class=\"dataframe\">\n",
       "  <thead>\n",
       "    <tr style=\"text-align: right;\">\n",
       "      <th></th>\n",
       "      <th>sentiment</th>\n",
       "      <th>message</th>\n",
       "      <th>tweetid</th>\n",
       "    </tr>\n",
       "  </thead>\n",
       "  <tbody>\n",
       "    <tr>\n",
       "      <th>0</th>\n",
       "      <td>1</td>\n",
       "      <td>PolySciMajor EPA chief doesn't think carbon di...</td>\n",
       "      <td>625221</td>\n",
       "    </tr>\n",
       "    <tr>\n",
       "      <th>1</th>\n",
       "      <td>1</td>\n",
       "      <td>It's not like we lack evidence of anthropogeni...</td>\n",
       "      <td>126103</td>\n",
       "    </tr>\n",
       "    <tr>\n",
       "      <th>2</th>\n",
       "      <td>2</td>\n",
       "      <td>RT @RawStory: Researchers say we have three ye...</td>\n",
       "      <td>698562</td>\n",
       "    </tr>\n",
       "    <tr>\n",
       "      <th>3</th>\n",
       "      <td>1</td>\n",
       "      <td>#TodayinMaker# WIRED : 2016 was a pivotal year...</td>\n",
       "      <td>573736</td>\n",
       "    </tr>\n",
       "    <tr>\n",
       "      <th>4</th>\n",
       "      <td>1</td>\n",
       "      <td>RT @SoyNovioDeTodas: It's 2016, and a racist, ...</td>\n",
       "      <td>466954</td>\n",
       "    </tr>\n",
       "  </tbody>\n",
       "</table>\n",
       "</div>"
      ],
      "text/plain": [
       "   sentiment                                            message  tweetid\n",
       "0          1  PolySciMajor EPA chief doesn't think carbon di...   625221\n",
       "1          1  It's not like we lack evidence of anthropogeni...   126103\n",
       "2          2  RT @RawStory: Researchers say we have three ye...   698562\n",
       "3          1  #TodayinMaker# WIRED : 2016 was a pivotal year...   573736\n",
       "4          1  RT @SoyNovioDeTodas: It's 2016, and a racist, ...   466954"
      ]
     },
     "execution_count": 5,
     "metadata": {},
     "output_type": "execute_result"
    }
   ],
   "source": [
    "df_train.head()"
   ]
  },
  {
   "cell_type": "code",
   "execution_count": 59,
   "id": "1844d08e",
   "metadata": {},
   "outputs": [
    {
     "name": "stdout",
     "output_type": "stream",
     "text": [
      "(12655,)\n",
      "(3164,)\n",
      "(12655,)\n",
      "(3164,)\n"
     ]
    }
   ],
   "source": [
    "#Splitting features and target variables\n",
    "X = df_train['CleanMessage'] #X is the features of the cleaned tweets\n",
    "y = df_train['sentiment']    #Y is the target variable which is the train sentiment\n",
    "\n",
    "X_train, X_test, y_train, y_test = train_test_split(X, y, test_size = 0.2, random_state = 42) #Splitting train set into training and testing data\n",
    "#Print out the shape of the training set and the testing set\n",
    "print(X_train.shape)\n",
    "print(X_test.shape)\n",
    "print(y_train.shape)\n",
    "print(y_test.shape)"
   ]
  },
  {
   "cell_type": "code",
   "execution_count": 46,
   "id": "6441432c",
   "metadata": {},
   "outputs": [
    {
     "name": "stderr",
     "output_type": "stream",
     "text": [
      "C:\\Users\\percy\\AppData\\Local\\Temp\\ipykernel_31396\\1374117344.py:21: MatplotlibDeprecationWarning: Passing the emit parameter of set_xlim() positionally is deprecated since Matplotlib 3.6; the parameter will become keyword-only two minor releases later.\n",
      "  ax.set_xlim(-0.5, len(steps), 1)\n"
     ]
    },
    {
     "data": {
      "image/png": "[encoded data removed]",
      "text/plain": [
       "<Figure size 800x400 with 1 Axes>"
      ]
     },
     "metadata": {},
     "output_type": "display_data"
    }
   ],
   "source": [
    "import matplotlib.pyplot as plt\n",
    "import matplotlib.patches as mpatches\n",
    "\n",
    "# Create a step-by-step flow diagram\n",
    "steps = ['Step 1', 'Step 2', 'Step 3', 'Step 4', 'Step 5']\n",
    "actions = ['Clean data', 'BOW and TFID', 'Balance data', 'BOW & TFID', 'Hyperparameter T']\n",
    "\n",
    "fig, ax = plt.subplots(figsize=(8, 4))\n",
    "\n",
    "# Draw rectangles for each step\n",
    "for i, step in enumerate(steps):\n",
    "    rect = mpatches.Rectangle((i, 0), 1, 1, ec='black', fc='White')\n",
    "    ax.add_patch(rect)\n",
    "    ax.text(i + 0.5, 0.5, step, ha='center', va='center', color='black')\n",
    "\n",
    "# Draw arrows between steps\n",
    "for i in range(len(steps) - 1):\n",
    "    ax.arrow(i + 0.5, 0.5, 1, 0, head_width=0.05, head_length=0.05, fc='black', ec='black')\n",
    "\n",
    "# Set axis limits and remove ticks\n",
    "ax.set_xlim(-0.5, len(steps), 1)\n",
    "ax.set_ylim(0, 1)\n",
    "ax.set_xticks([])\n",
    "ax.set_yticks([])\n",
    "\n",
    "# Add action labels below steps\n",
    "for i, action in enumerate(actions):\n",
    "    ax.text(i + 0.5, -0.2, action, ha='center', va='center', color='black')\n",
    "\n",
    "plt.title('Modelling process')\n",
    "plt.show()"
   ]
  },
  {
   "cell_type": "markdown",
   "id": "83ed83f6",
   "metadata": {},
   "source": [
    "\n",
    "\n",
    "## 5.A Modelling - Clean data\n"
   ]
  },
  {
   "cell_type": "markdown",
   "id": "178066a6",
   "metadata": {},
   "source": [
    "In building a model to classify twitter sentiments for climate change we used the following classifiers on clean data:\n",
    "-  Logistic Regression\n",
    "- Linear SVC\n",
    "- Decision Trees\n",
    "- Naive Bayes\n",
    "- KNN"
   ]
  },
  {
   "cell_type": "markdown",
   "id": "16c7062c",
   "metadata": {},
   "source": [
    "The modelling was done using the bag words and Term Frequency – Inverse Document Frequency (TF – IDF)"
   ]
  },
  {
   "cell_type": "markdown",
   "id": "0f00e4d6",
   "metadata": {},
   "source": [
    "Scaling"
   ]
  },
  {
   "cell_type": "code",
   "execution_count": 60,
   "id": "e3d9c378",
   "metadata": {},
   "outputs": [],
   "source": [
    "from sklearn.feature_extraction.text import CountVectorizer #Import CountVectorizer from sklearn\n",
    "\n",
    "cf = CountVectorizer() "
   ]
  },
  {
   "cell_type": "code",
   "execution_count": 61,
   "id": "15dda0cb",
   "metadata": {},
   "outputs": [],
   "source": [
    "tfidf = TfidfVectorizer()\n"
   ]
  },
  {
   "cell_type": "code",
   "execution_count": 62,
   "id": "6dc356d0",
   "metadata": {},
   "outputs": [
    {
     "ename": "AttributeError",
     "evalue": "'function' object has no attribute 'transform'",
     "output_type": "error",
     "traceback": [
      "\u001b[1;31m---------------------------------------------------------------------------\u001b[0m",
      "\u001b[1;31mAttributeError\u001b[0m                            Traceback (most recent call last)",
      "Cell \u001b[1;32mIn[62], line 1\u001b[0m\n\u001b[1;32m----> 1\u001b[0m X_train \u001b[38;5;241m=\u001b[39m cf\u001b[38;5;241m.\u001b[39mfit\u001b[38;5;241m.\u001b[39mtransform(X_train)\n\u001b[0;32m      2\u001b[0m X_test  \u001b[38;5;241m=\u001b[39m cf\u001b[38;5;241m.\u001b[39mfit\u001b[38;5;241m.\u001b[39mtransform(X_test)\n",
      "\u001b[1;31mAttributeError\u001b[0m: 'function' object has no attribute 'transform'"
     ]
    }
   ],
   "source": [
    "X_train = cf.fit.transform(X_train)\n",
    "X_test  = cf.fit.transform(X_test)"
   ]
  },
  {
   "cell_type": "markdown",
   "id": "4739aa4c",
   "metadata": {},
   "source": [
    "### 5.1 Logistic Regression - Bag of words\n",
    "it makes use of a common S-shaped curve known as the logistic function. This curve is commonly known as a sigmoid. It solves the problem for the following reasons:\n",
    "\n",
    "-  It squeezes the range of output values to exist only between 0 and 1.\n",
    "-  It has a point of inflection, which can be used to separate the feature space into two distinct areas (one for each class).\n",
    "-  It has shallow gradients at both its top and bottom, which can be mapped to zeroes or ones respectively with little ambiguity."
   ]
  },
  {
   "cell_type": "code",
   "execution_count": 30,
   "id": "4d88a4f1",
   "metadata": {},
   "outputs": [],
   "source": [
    "from sklearn.linear_model import LogisticRegression"
   ]
  },
  {
   "cell_type": "code",
   "execution_count": 31,
   "id": "fdf61b25",
   "metadata": {},
   "outputs": [],
   "source": [
    "lr = LogisticRegression()"
   ]
  },
  {
   "cell_type": "code",
   "execution_count": 35,
   "id": "371e6f32",
   "metadata": {},
   "outputs": [
    {
     "name": "stdout",
     "output_type": "stream",
     "text": [
      "accuracy 0.7515802781289507\n",
      "f1_score 0.7418837877704093\n",
      "              precision    recall  f1-score   support\n",
      "\n",
      "          -1       0.81      0.41      0.54       278\n",
      "           0       0.58      0.47      0.52       425\n",
      "           1       0.77      0.87      0.82      1755\n",
      "           2       0.77      0.77      0.77       706\n",
      "\n",
      "    accuracy                           0.75      3164\n",
      "   macro avg       0.73      0.63      0.66      3164\n",
      "weighted avg       0.75      0.75      0.74      3164\n",
      "\n"
     ]
    },
    {
     "name": "stderr",
     "output_type": "stream",
     "text": [
      "C:\\Users\\percy\\anaconda3\\Lib\\site-packages\\sklearn\\linear_model\\_logistic.py:460: ConvergenceWarning: lbfgs failed to converge (status=1):\n",
      "STOP: TOTAL NO. of ITERATIONS REACHED LIMIT.\n",
      "\n",
      "Increase the number of iterations (max_iter) or scale the data as shown in:\n",
      "    https://scikit-learn.org/stable/modules/preprocessing.html\n",
      "Please also refer to the documentation for alternative solver options:\n",
      "    https://scikit-learn.org/stable/modules/linear_model.html#logistic-regression\n",
      "  n_iter_i = _check_optimize_result(\n"
     ]
    }
   ],
   "source": [
    "model = LogisticRegression() #Call logistic regression model and assign variable 'model'\n",
    "\n",
    "text_lr = Pipeline([('cf', cf), ('clf', model)]) #Create a pipeline with the logistic model and tf-idf vectorizer\n",
    "\n",
    "\n",
    "text_lr.fit(X_train, y_train) #Fit the training set\n",
    "\n",
    "y_pred= text_lr.predict(X_test) #Fit the test set\n",
    "\n",
    "print('accuracy %s' % accuracy_score(y_pred, y_test)) #Print accuracy\n",
    "print('f1_score %s' % f1_score(y_test,y_pred,average='weighted')) #Print f1 score\n",
    "print(classification_report(y_test, y_pred)) #Print classification report"
   ]
  },
  {
   "cell_type": "markdown",
   "id": "d186cec3",
   "metadata": {},
   "source": [
    " The precision, recall and f1-score values for the positive class are higher. There are more observations with the positive label, so the model gets better at classifiying those ones because it has more evidence of them.\n",
    "\n",
    "- The corresponding values in the neutral and negative class are lower.\n",
    "\n",
    "- The weighted f1-score here gives us a good indication using a single value of how well the model is performed. It is somewhere between the accuracies that the model achieved for each of class 0 and 1, but slightly in favour of class 1, of which there were more examples.\n"
   ]
  },
  {
   "cell_type": "markdown",
   "id": "39fefa6c",
   "metadata": {},
   "source": [
    "### 5.2 Linear SVM - Bag of words"
   ]
  },
  {
   "cell_type": "markdown",
   "id": "f282cee8",
   "metadata": {},
   "source": [
    "Separate points using a  (p−1)\n",
    "  dimensional hyperplane. This means that the SVM will construct a decision boundary such that points on the left are assigned a label of  A\n",
    "  and points on the right are assigned a label of  B\n",
    " . When finding this separating hyperplane we wish to maximise the distance of the nearest points to the hyperplane. The technical term for this is maximum separating hyperplane. The data points which dictate where the separating hyperplane goes are called support vectors. "
   ]
  },
  {
   "cell_type": "code",
   "execution_count": 14,
   "id": "14f6ce35",
   "metadata": {},
   "outputs": [
    {
     "name": "stderr",
     "output_type": "stream",
     "text": [
      "C:\\Users\\percy\\anaconda3\\Lib\\site-packages\\sklearn\\svm\\_classes.py:32: FutureWarning: The default value of `dual` will change from `True` to `'auto'` in 1.5. Set the value of `dual` explicitly to suppress the warning.\n",
      "  warnings.warn(\n"
     ]
    },
    {
     "name": "stdout",
     "output_type": "stream",
     "text": [
      "accuracy 0.7733881163084703\n",
      "f1_score 0.7676414274738466\n",
      "              precision    recall  f1-score   support\n",
      "\n",
      "          -1       0.78      0.50      0.61       278\n",
      "           0       0.57      0.51      0.54       425\n",
      "           1       0.81      0.87      0.84      1755\n",
      "           2       0.78      0.81      0.79       706\n",
      "\n",
      "    accuracy                           0.77      3164\n",
      "   macro avg       0.74      0.67      0.70      3164\n",
      "weighted avg       0.77      0.77      0.77      3164\n",
      "\n"
     ]
    }
   ],
   "source": [
    "#Create a pipeline and make predictions of the bag of words using linearSVC\n",
    "from sklearn.svm import LinearSVC #Import LinearSVC from the sklearn\n",
    "\n",
    "\n",
    "clf= Pipeline([('cf', cf),('clf',  LinearSVC())]) #Create a pipeline with the bag or words features and the linearSVC\n",
    "\n",
    "clf.fit(X_train, y_train) #Fit the training data to the pipeline\n",
    "\n",
    "y_pred = clf.predict(X_test) #Make predictions with the test data\n",
    "\n",
    "print('accuracy %s' % accuracy_score(y_pred, y_test)) #Print out the accuracy\n",
    "print('f1_score %s' % f1_score(y_test,y_pred,average='weighted')) #Print out the f1 score\n",
    "print(classification_report(y_test, y_pred)) #Print out the classification repor"
   ]
  },
  {
   "cell_type": "markdown",
   "id": "ce9409a8",
   "metadata": {},
   "source": [
    "The precision, recall and f1-score values for the positive class are higher, and this has to do with the class imbalance we referred to. There are more observations with the positive label, so the model gets better at classifiying those ones because it has more evidence of them.\n",
    "\n",
    "The corresponding values in the neutral and negative class are lower.\n",
    "\n",
    "The weighted f1-score here gives us a good indication using a single value of how well the model is performed. It is somewhere between the accuracies that the model achieved for each of class 0 and 1, but slightly in favour of class 1, of which there were more examples."
   ]
  },
  {
   "cell_type": "markdown",
   "id": "ce990693",
   "metadata": {},
   "source": [
    "### 5.3 Decision Trees - Bag of Words"
   ]
  },
  {
   "cell_type": "markdown",
   "id": "42913d09",
   "metadata": {},
   "source": [
    "A decision tree is a decision support tool that uses a tree-like graph or model of decisions and their possible consequences. It is one way to display an algorithm that only contains conditional control statements.\n",
    "\n",
    "Decision trees are extremely intuitive ways to classify objects or predict continuous values: you simply ask a series of questions designed to zero-in on the classification/prediction."
   ]
  },
  {
   "cell_type": "code",
   "execution_count": 36,
   "id": "16ca8447",
   "metadata": {},
   "outputs": [
    {
     "name": "stdout",
     "output_type": "stream",
     "text": [
      "accuracy 0.84825\n",
      "f1_score 0.8419268239444457\n",
      "              precision    recall  f1-score   support\n",
      "\n",
      "          -1       0.89      0.98      0.93       977\n",
      "           0       0.83      0.89      0.86      1024\n",
      "           1       0.83      0.61      0.70       995\n",
      "           2       0.84      0.92      0.88      1004\n",
      "\n",
      "    accuracy                           0.85      4000\n",
      "   macro avg       0.85      0.85      0.84      4000\n",
      "weighted avg       0.85      0.85      0.84      4000\n",
      "\n"
     ]
    }
   ],
   "source": [
    "from sklearn.tree import DecisionTreeClassifier\n",
    "\n",
    "clx= Pipeline([('cf', cf),('clx',  DecisionTreeClassifier(random_state=42))]) #Create a pipeline with the bag or words features and the linearSVC\n",
    "\n",
    "clx.fit(X_train, y_train) #Fit the training data to the pipeline\n",
    "\n",
    "y_pred = clx.predict(X_test) #Make predictions with the test data\n",
    "\n",
    "print('accuracy %s' % accuracy_score(y_pred, y_test)) #Print out the accuracy\n",
    "print('f1_score %s' % f1_score(y_test,y_pred,average='weighted')) #Print out the f1 score\n",
    "print(classification_report(y_test, y_pred)) #Print out the classification repor"
   ]
  },
  {
   "cell_type": "markdown",
   "id": "a03a90e3",
   "metadata": {},
   "source": [
    "The precision, recall and f1-score values for the positive class are higher, and this has to do with the class imbalance we referred to. There are more observations with the positive label, so the model gets better at classifiying those ones because it has more evidence of them.\n",
    "\n",
    "The corresponding values in the neutral and negative class are lower.\n",
    "\n",
    "The weighted f1-score here gives us a good indication using a single value of how well the model is performed. It is somewhere between the accuracies that the model achieved for each of class 0 and 1, but slightly in favour of class 1, of which there were more examples."
   ]
  },
  {
   "cell_type": "markdown",
   "id": "b8abffdf",
   "metadata": {},
   "source": [
    "### 5.4 NAIVE BAYES (Bernoulli) - Bag of words"
   ]
  },
  {
   "cell_type": "markdown",
   "id": "1648770c",
   "metadata": {},
   "source": [
    "Naive Bayes is a classification algorithm that uses the principle of Bayes theorem to make classifications.The assumption is Naive because it often does not hold. The assumption of independence implies that the model assumes that there is zero correlation among the features. Hence, the joint probability distribution  P(X,Y)\n",
    "  can be obtained from the marginal probability distributions  P(X)\n",
    "  and  P(Y)\n",
    "  simply by multiplication. We will use the above independence assumption, conditional probability rules, and Bayes theorem to develop some theory for how the Naive Bayes model works."
   ]
  },
  {
   "cell_type": "code",
   "execution_count": 35,
   "id": "2953c8c2",
   "metadata": {},
   "outputs": [
    {
     "name": "stdout",
     "output_type": "stream",
     "text": [
      "accuracy 0.86075\n",
      "f1_score 0.8549093794567678\n",
      "              precision    recall  f1-score   support\n",
      "\n",
      "          -1       0.90      0.97      0.93       977\n",
      "           0       0.85      0.89      0.87      1024\n",
      "           1       0.88      0.63      0.73       995\n",
      "           2       0.82      0.95      0.88      1004\n",
      "\n",
      "    accuracy                           0.86      4000\n",
      "   macro avg       0.86      0.86      0.86      4000\n",
      "weighted avg       0.86      0.86      0.85      4000\n",
      "\n"
     ]
    }
   ],
   "source": [
    "from sklearn.naive_bayes import  BernoulliNB\n",
    "naive_bayes =  BernoulliNB()\n",
    "nb= Pipeline([('cf', cf),('nb',  naive_bayes)]) #Create a pipeline with the bag or words features and the linearSVC\n",
    "\n",
    "nb.fit(X_train, y_train) #Fit the training data to the pipeline\n",
    "\n",
    "y_pred = nb.predict(X_test) #Make predictions with the test data\n",
    "print('accuracy %s' % accuracy_score(y_pred, y_test)) #Print the accuracy\n",
    "print('f1_score %s' % f1_score(y_test,y_pred,average='weighted')) #Print the f1-score\n",
    "print(classification_report(y_test, y_pred)) #Print the classification report\n",
    "               "
   ]
  },
  {
   "cell_type": "markdown",
   "id": "e98fa8ff",
   "metadata": {},
   "source": [
    "The precision, recall and f1-score values for the positive class are higher, and this has to do with the class imbalance we referred to. There are more observations with the positive label, so the model gets better at classifiying those ones because it has more evidence of them.\n",
    "\n",
    "The corresponding values in the neutral and negative class are lower.\n",
    "\n",
    "The weighted f1-score here gives us a good indication using a single value of how well the model is performed. It is somewhere between the accuracies that the model achieved for each of class 0 and 1, but slightly in favour of class 1, of which there were more examples."
   ]
  },
  {
   "cell_type": "markdown",
   "id": "b3fa73f6",
   "metadata": {},
   "source": [
    "### 5.5 K Nearest Neighbours - Bag of words"
   ]
  },
  {
   "cell_type": "markdown",
   "id": "302e5e9c",
   "metadata": {},
   "source": [
    "In principle, this algorithm works by assigning the majority class of the N closest neighbors to the current data point. As such, absolutely no training is required for the algorithm! All we do is choose K (i.e. the number of neighbors to consider), choose a distance function to calculate proximity and we're good to go."
   ]
  },
  {
   "cell_type": "code",
   "execution_count": 34,
   "id": "5b3a5a41",
   "metadata": {},
   "outputs": [
    {
     "name": "stdout",
     "output_type": "stream",
     "text": [
      "accuracy 0.46875\n",
      "f1_score 0.4361694502010846\n",
      "              precision    recall  f1-score   support\n",
      "\n",
      "          -1       0.77      0.51      0.61       977\n",
      "           0       0.34      0.97      0.50      1024\n",
      "           1       0.89      0.14      0.25       995\n",
      "           2       0.93      0.24      0.39      1004\n",
      "\n",
      "    accuracy                           0.47      4000\n",
      "   macro avg       0.73      0.47      0.44      4000\n",
      "weighted avg       0.73      0.47      0.44      4000\n",
      "\n"
     ]
    }
   ],
   "source": [
    "from sklearn.neighbors import KNeighborsClassifier\n",
    "knn = KNeighborsClassifier(10)\n",
    "cnb= Pipeline([('cf', cf),('cnb', knn)]) #Create a pipeline with the bag or words features and the linearSVC\n",
    "\n",
    "cnb.fit(X_train, y_train) #Fit the training data to the pipeline\n",
    "\n",
    "y_pred = cnb.predict(X_test) #Make predictions with the test data\n",
    "print('accuracy %s' % accuracy_score(y_pred, y_test)) #Print the accuracy\n",
    "print('f1_score %s' % f1_score(y_test,y_pred,average='weighted')) #Print the f1-score\n",
    "print(classification_report(y_test, y_pred)) #Print the classification report\n",
    "               "
   ]
  },
  {
   "cell_type": "markdown",
   "id": "3aa1ce45",
   "metadata": {},
   "source": [
    "The precision, recall and f1-score values for the positive class are higher, and this has to do with the class imbalance we referred to. There are more observations with the positive label, so the model gets better at classifiying those ones because it has more evidence of them.\n",
    "\n",
    "The corresponding values in the neutral and negative class are lower.\n",
    "\n",
    "The weighted f1-score here gives us a good indication using a single value of how well the model is performed. It is somewhere between the accuracies that the model achieved for each of class 0 and 1, but slightly in favour of class 1, of which there were more examples."
   ]
  },
  {
   "cell_type": "code",
   "execution_count": 38,
   "id": "0a1a4fca",
   "metadata": {},
   "outputs": [],
   "source": [
    "from sklearn.feature_extraction.text import TfidfVectorizer #Import TFidfVectorizer from sklearn\n"
   ]
  },
  {
   "cell_type": "code",
   "execution_count": 112,
   "id": "53547fb4",
   "metadata": {},
   "outputs": [
    {
     "ename": "TypeError",
     "evalue": "TfidfVectorizer.__init__() takes 1 positional argument but 2 were given",
     "output_type": "error",
     "traceback": [
      "\u001b[1;31m---------------------------------------------------------------------------\u001b[0m",
      "\u001b[1;31mTypeError\u001b[0m                                 Traceback (most recent call last)",
      "Cell \u001b[1;32mIn[112], line 1\u001b[0m\n\u001b[1;32m----> 1\u001b[0m X_train \u001b[38;5;241m=\u001b[39m TfidfVectorizer(X_train)\n",
      "\u001b[1;31mTypeError\u001b[0m: TfidfVectorizer.__init__() takes 1 positional argument but 2 were given"
     ]
    }
   ],
   "source": [
    "X_train = sca(X_train)"
   ]
  },
  {
   "cell_type": "markdown",
   "id": "491f6302",
   "metadata": {},
   "source": [
    "### 5.1.B.1. Logistic Regression - TF – IDF"
   ]
  },
  {
   "cell_type": "code",
   "execution_count": 56,
   "id": "c433a64d",
   "metadata": {},
   "outputs": [
    {
     "name": "stderr",
     "output_type": "stream",
     "text": [
      "C:\\Users\\percy\\anaconda3\\Lib\\site-packages\\sklearn\\linear_model\\_logistic.py:460: ConvergenceWarning: lbfgs failed to converge (status=1):\n",
      "STOP: TOTAL NO. of ITERATIONS REACHED LIMIT.\n",
      "\n",
      "Increase the number of iterations (max_iter) or scale the data as shown in:\n",
      "    https://scikit-learn.org/stable/modules/preprocessing.html\n",
      "Please also refer to the documentation for alternative solver options:\n",
      "    https://scikit-learn.org/stable/modules/linear_model.html#logistic-regression\n",
      "  n_iter_i = _check_optimize_result(\n"
     ]
    },
    {
     "name": "stdout",
     "output_type": "stream",
     "text": [
      "accuracy 0.7424146649810367\n",
      "f1_score 0.7353059634335994\n",
      "              precision    recall  f1-score   support\n",
      "\n",
      "          -1       0.71      0.50      0.58       278\n",
      "           0       0.55      0.44      0.49       425\n",
      "           1       0.78      0.84      0.81      1755\n",
      "           2       0.74      0.78      0.76       706\n",
      "\n",
      "    accuracy                           0.74      3164\n",
      "   macro avg       0.69      0.64      0.66      3164\n",
      "weighted avg       0.73      0.74      0.74      3164\n",
      "\n"
     ]
    }
   ],
   "source": [
    "model = LogisticRegression(C=50,multi_class='ovr') #Call logistic regression model and assign variable 'model'\n",
    "\n",
    "clf_sam = Pipeline([('tfidf', tfidf), ('clf', model)]) #Create a pipeline with the logistic model and tf-idf vectorizer\n",
    "\n",
    "\n",
    "clf_sam.fit(X_train, y_train) #Fit the training set\n",
    "\n",
    "y_pred= clf_sam.predict(X_test) #Fit the test set\n",
    "\n",
    "print('accuracy %s' % accuracy_score(y_pred, y_test)) #Print accuracy\n",
    "print('f1_score %s' % f1_score(y_test,y_pred,average='weighted')) #Print f1 score\n",
    "print(classification_report(y_test, y_pred)) #Print classification report"
   ]
  },
  {
   "cell_type": "markdown",
   "id": "e7731bf0",
   "metadata": {},
   "source": [
    "The precision, recall and f1-score values for the positive class are higher, and this has to do with the class imbalance we referred to. There are more observations with the positive label, so the model gets better at classifiying those ones because it has more evidence of them.\n",
    "\n",
    "The corresponding values in the neutral and negative class are lower.\n",
    "\n",
    "The weighted f1-score here gives us a good indication using a single value of how well the model is performed. It is somewhere between the accuracies that the model achieved for each of class 0 and 1, but slightly in favour of class 1, of which there were more examples."
   ]
  },
  {
   "cell_type": "markdown",
   "id": "35c1d918",
   "metadata": {},
   "source": [
    "### 5.1.B.2. Linear SVC - TF – IDF"
   ]
  },
  {
   "cell_type": "code",
   "execution_count": 33,
   "id": "f5279887",
   "metadata": {},
   "outputs": [
    {
     "name": "stderr",
     "output_type": "stream",
     "text": [
      "C:\\Users\\percy\\anaconda3\\Lib\\site-packages\\sklearn\\svm\\_classes.py:32: FutureWarning: The default value of `dual` will change from `True` to `'auto'` in 1.5. Set the value of `dual` explicitly to suppress the warning.\n",
      "  warnings.warn(\n"
     ]
    },
    {
     "name": "stdout",
     "output_type": "stream",
     "text": [
      "accuracy 0.90025\n",
      "f1_score 0.8981443581793039\n",
      "              precision    recall  f1-score   support\n",
      "\n",
      "          -1       0.94      0.98      0.96       977\n",
      "           0       0.92      0.90      0.91      1024\n",
      "           1       0.89      0.75      0.81       995\n",
      "           2       0.85      0.97      0.91      1004\n",
      "\n",
      "    accuracy                           0.90      4000\n",
      "   macro avg       0.90      0.90      0.90      4000\n",
      "weighted avg       0.90      0.90      0.90      4000\n",
      "\n"
     ]
    }
   ],
   "source": [
    "## create a pipeline and fit it with a Linear Support Vector Classifier\n",
    "\n",
    "classifier = LinearSVC() #Call LinearSVC and assign the variable 'classifier'\n",
    "\n",
    "clft = Pipeline([('tfidf', tfidf), ('clf', classifier)]) #Create a pipeline with the tdidf\n",
    "\n",
    "clft.fit(X_train, y_train) #Fit the model\n",
    "y_pred = clft.predict(X_test) #Make predictions and assign the variable 'y_pred'\n",
    "\n",
    "print('accuracy %s' % accuracy_score(y_pred, y_test)) #Print the accuracy\n",
    "print('f1_score %s' % f1_score(y_test,y_pred,average='weighted')) #Print the f1-score\n",
    "print(classification_report(y_test, y_pred)) #Print the classification report\n"
   ]
  },
  {
   "cell_type": "markdown",
   "id": "639e5d52",
   "metadata": {},
   "source": [
    "The precision, recall and f1-score values for the positive class are higher, and this has to do with the class imbalance we referred to. There are more observations with the positive label, so the model gets better at classifiying those ones because it has more evidence of them.\n",
    "\n",
    "The corresponding values in the neutral and negative class are lower.\n",
    "\n",
    "The weighted f1-score here gives us a good indication using a single value of how well the model is performed. It is somewhere between the accuracies that the model achieved for each of class 0 and 1, but slightly in favour of class 1, of which there were more examples."
   ]
  },
  {
   "cell_type": "markdown",
   "id": "1c9503d9",
   "metadata": {},
   "source": [
    "### 5.1.B.3. Decision Trees - TF – IDF"
   ]
  },
  {
   "cell_type": "code",
   "execution_count": 58,
   "id": "c54d036d",
   "metadata": {},
   "outputs": [
    {
     "name": "stdout",
     "output_type": "stream",
     "text": [
      "accuracy 0.6191529709228825\n",
      "f1_score 0.6109372641767907\n",
      "              precision    recall  f1-score   support\n",
      "\n",
      "          -1       0.43      0.23      0.30       278\n",
      "           0       0.39      0.39      0.39       425\n",
      "           1       0.69      0.73      0.71      1755\n",
      "           2       0.60      0.64      0.62       706\n",
      "\n",
      "    accuracy                           0.62      3164\n",
      "   macro avg       0.53      0.50      0.50      3164\n",
      "weighted avg       0.61      0.62      0.61      3164\n",
      "\n"
     ]
    }
   ],
   "source": [
    "## create a pipeline and fit it with a Linear Support Vector Classifier\n",
    "\n",
    "\n",
    "classifier =  DecisionTreeClassifier(random_state=42) #Call LinearSVC and assign the variable 'classifier'\n",
    "\n",
    "clf = Pipeline([('tfidf', tfidf), ('clf', classifier)]) #Create a pipeline with the tdidf\n",
    "\n",
    "clf.fit(X_train, y_train) #Fit the model\n",
    "y_pred = clf.predict(X_test) #Make predictions and assign the variable 'y_pred'\n",
    "\n",
    "print('accuracy %s' % accuracy_score(y_pred, y_test)) #Print the accuracy\n",
    "print('f1_score %s' % f1_score(y_test,y_pred,average='weighted')) #Print the f1-score\n",
    "print(classification_report(y_test, y_pred)) #Print the classification report\n"
   ]
  },
  {
   "cell_type": "code",
   "execution_count": null,
   "id": "4f4980e6",
   "metadata": {},
   "outputs": [],
   "source": [
    "The precision, recall and f1-score values for the positive class are higher, and this has to do with the class imbalance we referred to. There are more observations with the positive label, so the model gets better at classifiying those ones because it has more evidence of them.\n",
    "\n",
    "The corresponding values in the neutral and negative class are lower.\n",
    "\n",
    "The weighted f1-score here gives us a good indication using a single value of how well the model is performed. It is somewhere between the accuracies that the model achieved for each of class 0 and 1, but slightly in favour of class 1, of which there were more examples."
   ]
  },
  {
   "cell_type": "markdown",
   "id": "5e49df81",
   "metadata": {},
   "source": [
    "### 5.1.B.4. Naive Bayes - TF – IDF"
   ]
  },
  {
   "cell_type": "code",
   "execution_count": 59,
   "id": "38f39b21",
   "metadata": {},
   "outputs": [
    {
     "name": "stdout",
     "output_type": "stream",
     "text": [
      "accuracy 0.6921618204804045\n",
      "f1_score 0.6317389903558375\n",
      "              precision    recall  f1-score   support\n",
      "\n",
      "          -1       1.00      0.04      0.07       278\n",
      "           0       0.68      0.14      0.23       425\n",
      "           1       0.67      0.94      0.78      1755\n",
      "           2       0.79      0.66      0.72       706\n",
      "\n",
      "    accuracy                           0.69      3164\n",
      "   macro avg       0.78      0.45      0.45      3164\n",
      "weighted avg       0.73      0.69      0.63      3164\n",
      "\n"
     ]
    }
   ],
   "source": [
    "## create a pipeline and fit it with a Linear Support Vector Classifier\n",
    "\n",
    "classifier = BernoulliNB() #Call LinearSVC and assign the variable 'classifier'\n",
    "\n",
    "clf = Pipeline([('tfidf', tfidf), ('clf', classifier)]) #Create a pipeline with the tdidf\n",
    "\n",
    "clf.fit(X_train, y_train) #Fit the model\n",
    "y_pred = clf.predict(X_test) #Make predictions and assign the variable 'y_pred'\n",
    "\n",
    "print('accuracy %s' % accuracy_score(y_pred, y_test)) #Print the accuracy\n",
    "print('f1_score %s' % f1_score(y_test,y_pred,average='weighted')) #Print the f1-score\n",
    "print(classification_report(y_test, y_pred)) #Print the classification report\n"
   ]
  },
  {
   "cell_type": "markdown",
   "id": "2c7fc8aa",
   "metadata": {},
   "source": [
    "The precision, recall and f1-score values for the positive class are higher, and this has to do with the class imbalance we referred to. There are more observations with the positive label, so the model gets better at classifiying those ones because it has more evidence of them.\n",
    "\n",
    "The corresponding values in the neutral and negative class are lower.\n",
    "\n",
    "The weighted f1-score here gives us a good indication using a single value of how well the model is performed. It is somewhere between the accuracies that the model achieved for each of class 0 and 1, but slightly in favour of class 1, of which there were more examples."
   ]
  },
  {
   "cell_type": "markdown",
   "id": "cf9df84c",
   "metadata": {},
   "source": [
    "### 5.1.B.5. K Nearest Neighbour - TF – IDF"
   ]
  },
  {
   "cell_type": "code",
   "execution_count": 60,
   "id": "72752f43",
   "metadata": {},
   "outputs": [
    {
     "name": "stdout",
     "output_type": "stream",
     "text": [
      "accuracy 0.6921618204804045\n",
      "f1_score 0.6317389903558375\n",
      "              precision    recall  f1-score   support\n",
      "\n",
      "          -1       1.00      0.04      0.07       278\n",
      "           0       0.68      0.14      0.23       425\n",
      "           1       0.67      0.94      0.78      1755\n",
      "           2       0.79      0.66      0.72       706\n",
      "\n",
      "    accuracy                           0.69      3164\n",
      "   macro avg       0.78      0.45      0.45      3164\n",
      "weighted avg       0.73      0.69      0.63      3164\n",
      "\n"
     ]
    }
   ],
   "source": [
    "## create a pipeline and fit it with a Linear Support Vector Classifier\n",
    "\n",
    "\n",
    "Classifier =  KNeighborsClassifier(50) #Call LinearSVC and assign the variable 'classifier'\n",
    "\n",
    "clf = Pipeline([('tfidf', tfidf), ('clf', classifier)]) #Create a pipeline with the tdidf\n",
    "\n",
    "clf.fit(X_train, y_train) #Fit the model\n",
    "y_pred = clf.predict(X_test) #Make predictions and assign the variable 'y_pred'\n",
    "\n",
    "print('accuracy %s' % accuracy_score(y_pred, y_test)) #Print the accuracy\n",
    "print('f1_score %s' % f1_score(y_test,y_pred,average='weighted')) #Print the f1-score\n",
    "print(classification_report(y_test, y_pred)) #Print the classification report\n"
   ]
  },
  {
   "cell_type": "markdown",
   "id": "67c9a3a8",
   "metadata": {},
   "source": [
    "The precision, recall and f1-score values for the positive class are higher, and this has to do with the class imbalance we referred to. There are more observations with the positive label, so the model gets better at classifiying those ones because it has more evidence of them.\n",
    "\n",
    "The corresponding values in the neutral and negative class are lower.\n",
    "\n",
    "The weighted f1-score here gives us a good indication using a single value of how well the model is performed. It is somewhere between the accuracies that the model achieved for each of class 0 and 1, but slightly in favour of class 1, of which there were more examples."
   ]
  },
  {
   "cell_type": "code",
   "execution_count": 83,
   "id": "6d6d833a",
   "metadata": {},
   "outputs": [
    {
     "name": "stdout",
     "output_type": "stream",
     "text": [
      "Fitting KNN model with k = 1\n",
      "Fitting KNN model with k = 2\n",
      "Fitting KNN model with k = 3\n",
      "Fitting KNN model with k = 4\n",
      "Fitting KNN model with k = 5\n",
      "Fitting KNN model with k = 6\n",
      "Fitting KNN model with k = 7\n",
      "Fitting KNN model with k = 8\n",
      "Fitting KNN model with k = 9\n",
      "Fitting KNN model with k = 10\n",
      "Fitting KNN model with k = 20\n",
      "Fitting KNN model with k = 50\n",
      "Fitting KNN model with k = 100\n",
      "accuracy 0.621\n",
      "f1_score 0.6117283422077191\n",
      "              precision    recall  f1-score   support\n",
      "\n",
      "          -1       0.56      0.75      0.64       977\n",
      "           0       0.62      0.44      0.51      1024\n",
      "           1       0.61      0.49      0.55       995\n",
      "           2       0.70      0.81      0.75      1004\n",
      "\n",
      "    accuracy                           0.62      4000\n",
      "   macro avg       0.62      0.62      0.61      4000\n",
      "weighted avg       0.62      0.62      0.61      4000\n",
      "\n"
     ]
    }
   ],
   "source": [
    "ks = [1, 2, 3, 4, 5, 6, 7, 8, 9, 10, 20, 50, 100]\n",
    "\n",
    "results = []\n",
    "\n",
    "for k in ks:\n",
    "    print('Fitting KNN model with k = {:d}'.format(k))\n",
    "    knn = KNeighborsClassifier(k)\n",
    "    run_time = %timeit -q -o clf.fit(X_train, y_train)\n",
    "\n",
    "\n",
    "clf = Pipeline([('tfidf', tfidf), ('clf', knn)]) #Create a pipeline with the tdidf\n",
    "\n",
    "clf.fit(X_train, y_train) #Fit the model\n",
    "y_pred = clf.predict(X_test) #Make predictions and assign the variable 'y_pred'\n",
    "\n",
    "print('accuracy %s' % accuracy_score(y_pred, y_test)) #Print the accuracy\n",
    "print('f1_score %s' % f1_score(y_test,y_pred,average='weighted')) #Print the f1-score\n",
    "print(classification_report(y_test, y_pred)) #Print the classification report\n"
   ]
  },
  {
   "cell_type": "markdown",
   "id": "3c6b39cc",
   "metadata": {},
   "source": [
    "# 5.B Dealing with Imbalances"
   ]
  },
  {
   "cell_type": "markdown",
   "id": "c44149f1",
   "metadata": {},
   "source": [
    "Class imbalance occurs when the number of observations across different class labels are unevenly distributed. In training our classification model, it is preferable for all classes to have a relatively even split of observations. "
   ]
  },
  {
   "cell_type": "code",
   "execution_count": 62,
   "id": "90a2cf64",
   "metadata": {},
   "outputs": [
    {
     "data": {
      "image/png": "[encoded data removed]",
      "text/plain": [
       "<Figure size 900x400 with 1 Axes>"
      ]
     },
     "metadata": {},
     "output_type": "display_data"
    }
   ],
   "source": [
    "senti_counts = df_train[\"sentiment\"].value_counts()\n",
    "news = senti_counts[2] \n",
    "pro = senti_counts[1]   \n",
    "neutral = senti_counts[0]\n",
    "anti = senti_counts[-1]  \n",
    "\n",
    "plt.figure( figsize=(9,4))\n",
    "plt.barh(['News ','Pro','Neutral','Anti'], [news,pro,neutral,anti]) # horizontal bar graph to compare classes of tweets.\n",
    "plt.colours = ['red', 'green', 'blue', 'orange']\n",
    "plt.xlabel('Count of Tweets') #X-label of the data\n",
    "plt.ylabel('Sentiment Classification') #Y_label of the data \n",
    "plt.title('Distribution of Classes In The Dataset') #Give the data a title 'Dataset lables distribution'\n",
    "plt.show()"
   ]
  },
  {
   "cell_type": "markdown",
   "id": "f5ef0805",
   "metadata": {},
   "source": [
    "Resampling\n",
    "two variants of the most common method available: resampling. Put simply, resampling methods involve modifying the number of observations in each class as follows:\n",
    "\n",
    "- Downsampling - taking a random subset of the majority class small enough to match the number of observations in the minority class.\n",
    "\n",
    "- Upsampling - taking repeated random samples from the minority class until we have as many observations as the majority class. This grows the size of the minority class by effectively duplicating observations at random."
   ]
  },
  {
   "cell_type": "code",
   "execution_count": 15,
   "id": "b9ddc317",
   "metadata": {},
   "outputs": [],
   "source": [
    "#Import the resampling module\n",
    "from sklearn.utils import resample"
   ]
  },
  {
   "cell_type": "code",
   "execution_count": 16,
   "id": "4368cea9",
   "metadata": {},
   "outputs": [
    {
     "data": {
      "text/plain": [
       " 1    5000\n",
       " 0    5000\n",
       " 2    5000\n",
       "-1    5000\n",
       "Name: sentiment, dtype: int64"
      ]
     },
     "execution_count": 16,
     "metadata": {},
     "output_type": "execute_result"
    }
   ],
   "source": [
    "\n",
    "df_majority = df_train.copy()[df_train['sentiment'] == 1]\n",
    "df_minority1 = df_train.copy()[df_train['sentiment'] == 0]\n",
    "df_minority2 = df_train.copy()[df_train['sentiment'] == 2]\n",
    "df_minority3 = df_train.copy()[df_train['sentiment'] == -1]\n",
    "\n",
    "\n",
    "# Downsample majority class\n",
    "df_majority_downsampled = resample(df_majority, \n",
    "                                 replace=False,    # sample without replacement\n",
    "                                 n_samples=5000,     # Using a benchmark of 3640\n",
    "                                 random_state=123) # reproducible results\n",
    "#Upsampling the least minority class\n",
    "df_minority_up = resample(df_minority1, \n",
    "                        replace=True,    # sample without replacement\n",
    "                        n_samples=5000,     # to match the second majority class\n",
    "                        random_state=123) # reproducible results\n",
    "\n",
    "df_minority_up1 = resample(df_minority2, \n",
    "                        replace=True,    # sample without replacement\n",
    "                        n_samples=5000,     # to match the second majority class\n",
    "                        random_state=123) # reproducible results\n",
    "\n",
    "df_minority_up2 = resample(df_minority3, \n",
    "                        replace=True,    # sample without replacement\n",
    "                        n_samples=5000,     # to match the second majority class\n",
    "                        random_state=123) # reproducible results\n",
    "\n",
    "# Combine minority class with downsampled majority class\n",
    "df_resampled = pd.concat([df_majority_downsampled,df_minority_up,df_minority_up1, df_minority_up2])\n",
    " \n",
    "# Display new class counts\n",
    "df_resampled.sentiment.value_counts()\n"
   ]
  },
  {
   "cell_type": "code",
   "execution_count": 17,
   "id": "f941d630",
   "metadata": {},
   "outputs": [
    {
     "name": "stdout",
     "output_type": "stream",
     "text": [
      "(16000,)\n",
      "(4000,)\n",
      "(16000,)\n",
      "(4000,)\n"
     ]
    }
   ],
   "source": [
    "X = df_resampled['message']\n",
    "y = df_resampled['sentiment']\n",
    "\n",
    "X_train, X_test, y_train, y_test = train_test_split(X, y, test_size = 0.2, random_state = 42)\n",
    "\n",
    "print(X_train.shape)\n",
    "print(X_test.shape)\n",
    "print(y_train.shape)\n",
    "print(y_test.shape)"
   ]
  },
  {
   "cell_type": "markdown",
   "id": "a951cf6c",
   "metadata": {},
   "source": [
    "### 5.1 B Resampled Logical Regression - bag of words"
   ]
  },
  {
   "cell_type": "code",
   "execution_count": 18,
   "id": "155a289a",
   "metadata": {},
   "outputs": [
    {
     "name": "stderr",
     "output_type": "stream",
     "text": [
      "C:\\Users\\percy\\anaconda3\\Lib\\site-packages\\sklearn\\linear_model\\_logistic.py:460: ConvergenceWarning: lbfgs failed to converge (status=1):\n",
      "STOP: TOTAL NO. of ITERATIONS REACHED LIMIT.\n",
      "\n",
      "Increase the number of iterations (max_iter) or scale the data as shown in:\n",
      "    https://scikit-learn.org/stable/modules/preprocessing.html\n",
      "Please also refer to the documentation for alternative solver options:\n",
      "    https://scikit-learn.org/stable/modules/linear_model.html#logistic-regression\n",
      "  n_iter_i = _check_optimize_result(\n"
     ]
    },
    {
     "name": "stdout",
     "output_type": "stream",
     "text": [
      "accuracy 0.9015\n",
      "f1_score 0.8999294512136057\n",
      "              precision    recall  f1-score   support\n",
      "\n",
      "          -1       0.95      0.98      0.97       977\n",
      "           0       0.90      0.92      0.91      1024\n",
      "           1       0.88      0.77      0.82       995\n",
      "           2       0.88      0.94      0.91      1004\n",
      "\n",
      "    accuracy                           0.90      4000\n",
      "   macro avg       0.90      0.90      0.90      4000\n",
      "weighted avg       0.90      0.90      0.90      4000\n",
      "\n"
     ]
    }
   ],
   "source": [
    "model = LogisticRegression(C=20,multi_class='ovr') #Call logistic regression model and assign variable 'model'\n",
    "\n",
    "clf_sam1 = Pipeline([('cf', cf), ('clf', model)]) #Create a pipeline with the logistic model and bag-of-words\n",
    "\n",
    "\n",
    "clf_sam1.fit(X_train, y_train) #Fit the training set\n",
    "\n",
    "y_pred= clf_sam1.predict(X_test) #Fit the test set\n",
    "\n",
    "print('accuracy %s' % accuracy_score(y_pred, y_test)) #Print accuracy\n",
    "print('f1_score %s' % f1_score(y_test,y_pred,average='weighted')) #Print f1 score\n",
    "print(classification_report(y_test, y_pred)) #Print classification report"
   ]
  },
  {
   "cell_type": "code",
   "execution_count": 130,
   "id": "96dd5214",
   "metadata": {},
   "outputs": [],
   "source": [
    "from sklearn.feature_extraction.text import TfidfVectorizer\n",
    "\n",
    "# Assuming 'text_data' is a list of text documents\n",
    "vectorizer = TfidfVectorizer()\n",
    "X_tfidf = vectorizer.fit_transform(X_train)\n",
    "X_test = vectorizer.transform(X_train)\n",
    "from sklearn.preprocessing import MaxAbsScaler \n",
    "\n",
    "scaler = MaxAbsScaler()\n",
    "X_scaled = scaler.fit_transform(X_tfidf) "
   ]
  },
  {
   "cell_type": "markdown",
   "id": "47d09052",
   "metadata": {},
   "source": [
    "### 5.1 B Resampled Logical Regression - TF-DF"
   ]
  },
  {
   "cell_type": "code",
   "execution_count": 110,
   "id": "badb79f4",
   "metadata": {},
   "outputs": [
    {
     "name": "stderr",
     "output_type": "stream",
     "text": [
      "C:\\Users\\percy\\anaconda3\\Lib\\site-packages\\sklearn\\linear_model\\_logistic.py:460: ConvergenceWarning: lbfgs failed to converge (status=1):\n",
      "STOP: TOTAL NO. of ITERATIONS REACHED LIMIT.\n",
      "\n",
      "Increase the number of iterations (max_iter) or scale the data as shown in:\n",
      "    https://scikit-learn.org/stable/modules/preprocessing.html\n",
      "Please also refer to the documentation for alternative solver options:\n",
      "    https://scikit-learn.org/stable/modules/linear_model.html#logistic-regression\n",
      "  n_iter_i = _check_optimize_result(\n"
     ]
    },
    {
     "name": "stdout",
     "output_type": "stream",
     "text": [
      "accuracy 0.89475\n",
      "f1_score 0.8927841660379832\n",
      "              precision    recall  f1-score   support\n",
      "\n",
      "          -1       0.93      0.98      0.95       977\n",
      "           0       0.90      0.90      0.90      1024\n",
      "           1       0.87      0.76      0.81       995\n",
      "           2       0.88      0.94      0.91      1004\n",
      "\n",
      "    accuracy                           0.89      4000\n",
      "   macro avg       0.89      0.90      0.89      4000\n",
      "weighted avg       0.89      0.89      0.89      4000\n",
      "\n"
     ]
    }
   ],
   "source": [
    "model = LogisticRegression(C=350,multi_class='ovr') #Call logistic regression model and assign variable 'model'\n",
    "\n",
    "clf_sam1 = Pipeline([('tfidf', tfidf), ('clf', model)]) #Create a pipeline with the logistic model and bag-of-words\n",
    "\n",
    "\n",
    "clf_sam1.fit(X_train, y_train) #Fit the training set\n",
    "\n",
    "y_pred= clf_sam1.predict(X_test) #Fit the test set\n",
    "\n",
    "print('accuracy %s' % accuracy_score(y_pred, y_test)) #Print accuracy\n",
    "print('f1_score %s' % f1_score(y_test,y_pred,average='weighted')) #Print f1 score\n",
    "print(classification_report(y_test, y_pred)) #Print classification report"
   ]
  },
  {
   "cell_type": "markdown",
   "id": "281ea1f5",
   "metadata": {},
   "source": [
    " balancing the dataset has lead to a significant improvement in the model. The upsampled dataset is performing way better than the model of the original dataset. However, due to downsampling of the data, we see that the pro class f1 score and recall are significantly lower want the rest of the classes\n",
    "\n",
    "Pro class has a significantly lower f1 score now and recall score\n",
    "\n",
    "The balance now makes it easier to make predictions on the other classes and seems to be performing much better in this regards"
   ]
  },
  {
   "cell_type": "markdown",
   "id": "572ec006",
   "metadata": {},
   "source": [
    "### 5.2.B Resampled Linear SVC - TF-DF\n"
   ]
  },
  {
   "cell_type": "code",
   "execution_count": 54,
   "id": "ae4ce2eb",
   "metadata": {},
   "outputs": [
    {
     "name": "stderr",
     "output_type": "stream",
     "text": [
      "C:\\Users\\percy\\anaconda3\\Lib\\site-packages\\sklearn\\svm\\_classes.py:32: FutureWarning: The default value of `dual` will change from `True` to `'auto'` in 1.5. Set the value of `dual` explicitly to suppress the warning.\n",
      "  warnings.warn(\n"
     ]
    },
    {
     "name": "stdout",
     "output_type": "stream",
     "text": [
      "accuracy 0.88725\n",
      "f1_score 0.8847274367998845\n",
      "              precision    recall  f1-score   support\n",
      "\n",
      "          -1       0.93      0.98      0.96       977\n",
      "           0       0.86      0.91      0.89      1024\n",
      "           1       0.86      0.73      0.79       995\n",
      "           2       0.88      0.93      0.90      1004\n",
      "\n",
      "    accuracy                           0.89      4000\n",
      "   macro avg       0.89      0.89      0.88      4000\n",
      "weighted avg       0.89      0.89      0.88      4000\n",
      "\n"
     ]
    },
    {
     "name": "stderr",
     "output_type": "stream",
     "text": [
      "C:\\Users\\percy\\anaconda3\\Lib\\site-packages\\sklearn\\svm\\_base.py:1242: ConvergenceWarning: Liblinear failed to converge, increase the number of iterations.\n",
      "  warnings.warn(\n"
     ]
    }
   ],
   "source": [
    "\n",
    "clf_SVC= Pipeline([('cf', cf),('clf',  LinearSVC())]) #Create a pipeline with the bag or words features and the linearSVC\n",
    "\n",
    "clf_SVC.fit(X_train, y_train) #Fit the training data to the pipeline\n",
    "\n",
    "y_pred = clf_SVC.predict(X_test) #Make predictions with the test data\n",
    "\n",
    "print('accuracy %s' % accuracy_score(y_pred, y_test)) #Print out the accuracy\n",
    "print('f1_score %s' % f1_score(y_test,y_pred,average='weighted')) #Print out the f1 score\n",
    "print(classification_report(y_test, y_pred)) #Print out the classification report"
   ]
  },
  {
   "cell_type": "markdown",
   "id": "9c60be28",
   "metadata": {},
   "source": [
    "explanations:"
   ]
  },
  {
   "cell_type": "markdown",
   "id": "6a233200",
   "metadata": {},
   "source": [
    "### 5.2.B Resampled Linear SVC - TF-ID\n"
   ]
  },
  {
   "cell_type": "code",
   "execution_count": 31,
   "id": "b079a4a5",
   "metadata": {},
   "outputs": [
    {
     "name": "stderr",
     "output_type": "stream",
     "text": [
      "C:\\Users\\percy\\anaconda3\\Lib\\site-packages\\sklearn\\svm\\_classes.py:32: FutureWarning: The default value of `dual` will change from `True` to `'auto'` in 1.5. Set the value of `dual` explicitly to suppress the warning.\n",
      "  warnings.warn(\n"
     ]
    },
    {
     "name": "stdout",
     "output_type": "stream",
     "text": [
      "accuracy 0.90025\n",
      "f1_score 0.8981443581793039\n",
      "              precision    recall  f1-score   support\n",
      "\n",
      "          -1       0.94      0.98      0.96       977\n",
      "           0       0.92      0.90      0.91      1024\n",
      "           1       0.89      0.75      0.81       995\n",
      "           2       0.85      0.97      0.91      1004\n",
      "\n",
      "    accuracy                           0.90      4000\n",
      "   macro avg       0.90      0.90      0.90      4000\n",
      "weighted avg       0.90      0.90      0.90      4000\n",
      "\n"
     ]
    }
   ],
   "source": [
    "\n",
    "clf_SVC= Pipeline([('tfidf', tfidf),('clf',  LinearSVC())]) #Create a pipeline with the bag or words features and the linearSVC\n",
    "\n",
    "clf_SVC.fit(X_train, y_train) #Fit the training data to the pipeline\n",
    "\n",
    "y_pred = clf_SVC.predict(X_test) #Make predictions with the test data\n",
    "\n",
    "print('accuracy %s' % accuracy_score(y_pred, y_test)) #Print out the accuracy\n",
    "print('f1_score %s' % f1_score(y_test,y_pred,average='weighted')) #Print out the f1 score\n",
    "print(classification_report(y_test, y_pred)) #Print out the classification report"
   ]
  },
  {
   "cell_type": "markdown",
   "id": "0ce3f6f4",
   "metadata": {},
   "source": [
    "The model for linear SVC seems to be getting a high accuracy and high f1 score, which is good however it still struggles to locate the pro sentiments as good as it does the other models.\n",
    "\n",
    "Pro sentiments are and news sentiments are lower on the precisioin but news seem to have high recall and high f1 rating.\n",
    "\n",
    "Neutral seems to be consistent accorss all predictions\n",
    "\n",
    "Negative sentiments seem to be performing very weel, more than all the classes"
   ]
  },
  {
   "cell_type": "markdown",
   "id": "63a368d2",
   "metadata": {},
   "source": [
    "### non Linear SVC - TF-DF"
   ]
  },
  {
   "cell_type": "code",
   "execution_count": 30,
   "id": "713a5733",
   "metadata": {},
   "outputs": [
    {
     "name": "stdout",
     "output_type": "stream",
     "text": [
      "accuracy 0.90625\n",
      "f1_score 0.9056135681535357\n",
      "              precision    recall  f1-score   support\n",
      "\n",
      "          -1       0.97      0.97      0.97       977\n",
      "           0       0.94      0.89      0.91      1024\n",
      "           1       0.86      0.80      0.83       995\n",
      "           2       0.86      0.96      0.91      1004\n",
      "\n",
      "    accuracy                           0.91      4000\n",
      "   macro avg       0.91      0.91      0.91      4000\n",
      "weighted avg       0.91      0.91      0.91      4000\n",
      "\n"
     ]
    }
   ],
   "source": [
    "## create a pipeline and fit it with a  Support Vector Classifier\n",
    "from sklearn.svm import SVC #Import SVC from sklearn \n",
    "\n",
    "classifier = SVC(kernel='rbf', C=60, gamma='scale') #Call the SVC with the kernel='rbf' parameter\n",
    "\n",
    "clf_nlsvc = Pipeline([('tfidf', tfidf), ('clf', classifier)]) #Add the SVC model to the pipeline\n",
    "\n",
    "clf_nlsvc.fit(X_train, y_train) #Fit the training data\n",
    "y_pred = clf_nlsvc.predict(X_test) #Make predictions to the test set and assign the variable 'y_pred'\n",
    "\n",
    "print('accuracy %s' % accuracy_score(y_pred, y_test)) #Print the accuracy\n",
    "print('f1_score %s' % f1_score(y_test,y_pred,average='weighted')) #Print the f1 score\n",
    "print(classification_report(y_test, y_pred)) #Print out the classification"
   ]
  },
  {
   "cell_type": "markdown",
   "id": "462104e2",
   "metadata": {},
   "source": [
    "### 5.3 B Resampled Decision Trees -  bag of words"
   ]
  },
  {
   "cell_type": "code",
   "execution_count": 148,
   "id": "6b0df898",
   "metadata": {},
   "outputs": [
    {
     "name": "stdout",
     "output_type": "stream",
     "text": [
      "accuracy 0.6921618204804045\n",
      "f1_score 0.6317389903558375\n",
      "              precision    recall  f1-score   support\n",
      "\n",
      "          -1       1.00      0.04      0.07       278\n",
      "           0       0.68      0.14      0.23       425\n",
      "           1       0.67      0.94      0.78      1755\n",
      "           2       0.79      0.66      0.72       706\n",
      "\n",
      "    accuracy                           0.69      3164\n",
      "   macro avg       0.78      0.45      0.45      3164\n",
      "weighted avg       0.73      0.69      0.63      3164\n",
      "\n"
     ]
    }
   ],
   "source": [
    "\n",
    "knn = DecisionTreeClassifier(random_state=42)\n",
    "cnt= Pipeline([('cf', cf),('cnt', knn)]) #Create a pipeline with the bag or words features and the linearSVC\n",
    "\n",
    "cnb.fit(X_train, y_train) #Fit the training data to the pipeline\n",
    "\n",
    "y_pred = cnb.predict(X_test) #Make predictions with the test data\n",
    "print('accuracy %s' % accuracy_score(y_pred, y_test)) #Print the accuracy\n",
    "print('f1_score %s' % f1_score(y_test,y_pred,average='weighted')) #Print the f1-score\n",
    "print(classification_report(y_test, y_pred)) #Print the classification report\n",
    "               "
   ]
  },
  {
   "cell_type": "markdown",
   "id": "0af8a790",
   "metadata": {},
   "source": [
    "### 5.3 B Resampled Decision Trees - TF_DF"
   ]
  },
  {
   "cell_type": "code",
   "execution_count": 37,
   "id": "c12fe4e5",
   "metadata": {},
   "outputs": [
    {
     "name": "stdout",
     "output_type": "stream",
     "text": [
      "accuracy 0.46875\n",
      "f1_score 0.4361694502010846\n",
      "              precision    recall  f1-score   support\n",
      "\n",
      "          -1       0.77      0.51      0.61       977\n",
      "           0       0.34      0.97      0.50      1024\n",
      "           1       0.89      0.14      0.25       995\n",
      "           2       0.93      0.24      0.39      1004\n",
      "\n",
      "    accuracy                           0.47      4000\n",
      "   macro avg       0.73      0.47      0.44      4000\n",
      "weighted avg       0.73      0.47      0.44      4000\n",
      "\n"
     ]
    }
   ],
   "source": [
    "\n",
    "knn = DecisionTreeClassifier(random_state=42)\n",
    "cntt= Pipeline([('tfidf', tfidf),('cnb', knn)]) #Create a pipeline with the bag or words features and the linearSVC\n",
    "\n",
    "cnb.fit(X_train, y_train) #Fit the training data to the pipeline\n",
    "\n",
    "y_pred = cnb.predict(X_test) #Make predictions with the test data\n",
    "print('accuracy %s' % accuracy_score(y_pred, y_test)) #Print the accuracy\n",
    "print('f1_score %s' % f1_score(y_test,y_pred,average='weighted')) #Print the f1-score\n",
    "print(classification_report(y_test, y_pred)) #Print the classification report\n",
    "               "
   ]
  },
  {
   "cell_type": "markdown",
   "id": "02061a38",
   "metadata": {},
   "source": [
    "The model for linear SVC seems to be getting a high accuracy and high f1 score, which is good however it still struggles to locate the pro sentiments as good as it does the other models.\n",
    "\n",
    "Pro sentiments are and news sentiments are lower on the precisioin but news seem to have high recall and high f1 rating.\n",
    "\n",
    "Neutral seems to be consistent accorss all predictions\n",
    "\n",
    "Negative sentiments seem to be performing very weel, more than all the classes"
   ]
  },
  {
   "cell_type": "markdown",
   "id": "600510f5",
   "metadata": {},
   "source": [
    "### 5.4. B Resampled Naive Bayes - Bag of words"
   ]
  },
  {
   "cell_type": "code",
   "execution_count": 38,
   "id": "80ae3a32",
   "metadata": {},
   "outputs": [
    {
     "name": "stdout",
     "output_type": "stream",
     "text": [
      "accuracy 0.86075\n",
      "f1_score 0.8549093794567678\n",
      "              precision    recall  f1-score   support\n",
      "\n",
      "          -1       0.90      0.97      0.93       977\n",
      "           0       0.85      0.89      0.87      1024\n",
      "           1       0.88      0.63      0.73       995\n",
      "           2       0.82      0.95      0.88      1004\n",
      "\n",
      "    accuracy                           0.86      4000\n",
      "   macro avg       0.86      0.86      0.86      4000\n",
      "weighted avg       0.86      0.86      0.85      4000\n",
      "\n"
     ]
    }
   ],
   "source": [
    "naive_bayes =  BernoulliNB()\n",
    "cnb= Pipeline([('cf', cf),('cnb',  naive_bayes)]) #Create a pipeline with the bag or words features and the linearSVC\n",
    "\n",
    "cnb.fit(X_train, y_train) #Fit the training data to the pipeline\n",
    "\n",
    "y_pred = cnb.predict(X_test) #Make predictions with the test data\n",
    "print('accuracy %s' % accuracy_score(y_pred, y_test)) #Print the accuracy\n",
    "print('f1_score %s' % f1_score(y_test,y_pred,average='weighted')) #Print the f1-score\n",
    "print(classification_report(y_test, y_pred)) #Print the classification report\n",
    "               "
   ]
  },
  {
   "cell_type": "markdown",
   "id": "f70fd4f7",
   "metadata": {},
   "source": [
    "### 5.4. B Resampled Naive Bayes - TF-DF"
   ]
  },
  {
   "cell_type": "code",
   "execution_count": 39,
   "id": "c12690af",
   "metadata": {},
   "outputs": [
    {
     "name": "stdout",
     "output_type": "stream",
     "text": [
      "accuracy 0.86075\n",
      "f1_score 0.8549093794567678\n",
      "              precision    recall  f1-score   support\n",
      "\n",
      "          -1       0.90      0.97      0.93       977\n",
      "           0       0.85      0.89      0.87      1024\n",
      "           1       0.88      0.63      0.73       995\n",
      "           2       0.82      0.95      0.88      1004\n",
      "\n",
      "    accuracy                           0.86      4000\n",
      "   macro avg       0.86      0.86      0.86      4000\n",
      "weighted avg       0.86      0.86      0.85      4000\n",
      "\n"
     ]
    }
   ],
   "source": [
    "naive_bayes =  BernoulliNB()\n",
    "cnb= Pipeline([('tfidf', tfidf),('cnb',  naive_bayes)]) #Create a pipeline with the bag or words features and the linearSVC\n",
    "\n",
    "cnb.fit(X_train, y_train) #Fit the training data to the pipeline\n",
    "\n",
    "y_pred = cnb.predict(X_test) #Make predictions with the test data\n",
    "print('accuracy %s' % accuracy_score(y_pred, y_test)) #Print the accuracy\n",
    "print('f1_score %s' % f1_score(y_test,y_pred,average='weighted')) #Print the f1-score\n",
    "print(classification_report(y_test, y_pred)) #Print the classification report\n",
    "               "
   ]
  },
  {
   "cell_type": "markdown",
   "id": "0d81a5e5",
   "metadata": {},
   "source": [
    "The model for linear SVC seems to be getting a high accuracy and high f1 score, which is good however it still struggles to locate the pro sentiments as good as it does the other models.\n",
    "\n",
    "Pro sentiments are and news sentiments are lower on the precisioin but news seem to have high recall and high f1 rating.\n",
    "\n",
    "Neutral seems to be consistent accorss all predictions\n",
    "\n",
    "Negative sentiments seem to be performing very weel, more than all the classes"
   ]
  },
  {
   "cell_type": "markdown",
   "id": "96488a75",
   "metadata": {},
   "source": [
    "### 5.5. B Resampled KNN - bag of words\n"
   ]
  },
  {
   "cell_type": "code",
   "execution_count": 109,
   "id": "7f6c2aa7",
   "metadata": {},
   "outputs": [
    {
     "name": "stdout",
     "output_type": "stream",
     "text": [
      "accuracy 0.53\n",
      "f1_score 0.5063728150578233\n",
      "              precision    recall  f1-score   support\n",
      "\n",
      "          -1       0.62      0.62      0.62       977\n",
      "           0       0.40      0.90      0.55      1024\n",
      "           1       0.81      0.18      0.29       995\n",
      "           2       0.87      0.42      0.56      1004\n",
      "\n",
      "    accuracy                           0.53      4000\n",
      "   macro avg       0.68      0.53      0.51      4000\n",
      "weighted avg       0.67      0.53      0.51      4000\n",
      "\n"
     ]
    }
   ],
   "source": [
    "\n",
    "knn = KNeighborsClassifier(10)\n",
    "cnk= Pipeline([('cf', cf),('cnk', knn)]) #Create a pipeline with the bag or words features and the linearSVC\n",
    "\n",
    "cnk.fit(X_train, y_train) #Fit the training data to the pipeline\n",
    "\n",
    "y_pred = cnk.predict(X_test) #Make predictions with the test data\n",
    "print('accuracy %s' % accuracy_score(y_pred, y_test)) #Print the accuracy\n",
    "print('f1_score %s' % f1_score(y_test,y_pred,average='weighted')) #Print the f1-score\n",
    "print(classification_report(y_test, y_pred)) #Print the classification report\n",
    "               "
   ]
  },
  {
   "cell_type": "markdown",
   "id": "59006e5f",
   "metadata": {},
   "source": [
    "### 5.5. B Resampled KNN - TF_DF"
   ]
  },
  {
   "cell_type": "code",
   "execution_count": 110,
   "id": "55aae978",
   "metadata": {},
   "outputs": [
    {
     "name": "stdout",
     "output_type": "stream",
     "text": [
      "accuracy 0.673\n",
      "f1_score 0.6665406747481456\n",
      "              precision    recall  f1-score   support\n",
      "\n",
      "          -1       0.64      0.82      0.72       977\n",
      "           0       0.65      0.63      0.64      1024\n",
      "           1       0.67      0.47      0.56       995\n",
      "           2       0.74      0.77      0.75      1004\n",
      "\n",
      "    accuracy                           0.67      4000\n",
      "   macro avg       0.67      0.67      0.67      4000\n",
      "weighted avg       0.67      0.67      0.67      4000\n",
      "\n"
     ]
    }
   ],
   "source": [
    "\n",
    "knn = KNeighborsClassifier(10)\n",
    "cnkt= Pipeline([('tfidf', tfidf),('cnkt', knn)]) #Create a pipeline with the bag or words features and the linearSVC\n",
    "\n",
    "cnkt.fit(X_train, y_train) #Fit the training data to the pipeline\n",
    "\n",
    "y_pred = cnkt.predict(X_test) #Make predictions with the test data\n",
    "print('accuracy %s' % accuracy_score(y_pred, y_test)) #Print the accuracy\n",
    "print('f1_score %s' % f1_score(y_test,y_pred,average='weighted')) #Print the f1-score\n",
    "print(classification_report(y_test, y_pred)) #Print the classification r"
   ]
  },
  {
   "cell_type": "markdown",
   "id": "1119afd3",
   "metadata": {},
   "source": [
    "The model for linear SVC seems to be getting a high accuracy and high f1 score, which is good however it still struggles to locate the pro sentiments as good as it does the other models.\n",
    "\n",
    "Pro sentiments are and news sentiments are lower on the precisioin but news seem to have high recall and high f1 rating.\n",
    "\n",
    "Neutral seems to be consistent accorss all predictions\n",
    "\n",
    "Negative sentiments seem to be performing very weel, more than all the classes"
   ]
  },
  {
   "cell_type": "markdown",
   "id": "30c9887c",
   "metadata": {},
   "source": [
    "### Kaggle Submission Generation"
   ]
  },
  {
   "cell_type": "code",
   "execution_count": 40,
   "id": "0d34edae",
   "metadata": {},
   "outputs": [],
   "source": [
    "test_x = df_test['message'] "
   ]
  },
  {
   "cell_type": "code",
   "execution_count": 41,
   "id": "7de6aba8",
   "metadata": {},
   "outputs": [],
   "source": [
    "y3_predict = clf_nlsvc.predict(test_x)"
   ]
  },
  {
   "cell_type": "code",
   "execution_count": 42,
   "id": "53dc1ca7",
   "metadata": {
    "scrolled": true
   },
   "outputs": [],
   "source": [
    "df_test['sentiment'] = y3_predict"
   ]
  },
  {
   "cell_type": "code",
   "execution_count": 43,
   "id": "5b9d9c38",
   "metadata": {
    "scrolled": true
   },
   "outputs": [],
   "source": [
    "df_test['sentiment'] = df_test['sentiment'].astype(int)"
   ]
  },
  {
   "cell_type": "code",
   "execution_count": 44,
   "id": "1f8c0c08",
   "metadata": {},
   "outputs": [],
   "source": [
    "df_test[['tweetid', 'sentiment']].to_csv('nonlinearSVCBalanced-unclean10.csv', index=False)"
   ]
  },
  {
   "cell_type": "markdown",
   "id": "6ae4913e",
   "metadata": {},
   "source": [
    "<a id=\"six\"></a>\n",
    "\n",
    "## 6. Model Performance\n",
    "\n",
    "<a class=\"anchor\" id=\"1.1\"></a>\n",
    "<a href=#cont>Back to Table of Contents</a>\n",
    "\n",
    "---\n",
    "\n",
    "| ⚡ Description: Model performance ⚡                                                                                                                                      |\n",
    "| :------------------------------------------------------------------------------------------------------------------------------------------------------------------------ |\n",
    "| In this section you are required to compare the relative performance of the various trained ML models on a holdout dataset and comment on what model is the best and why. |\n",
    "\n",
    "---\n"
   ]
  },
  {
   "cell_type": "code",
   "execution_count": 140,
   "id": "add67fc2",
   "metadata": {},
   "outputs": [
    {
     "data": {
      "text/html": [
       "<div>\n",
       "<style scoped>\n",
       "    .dataframe tbody tr th:only-of-type {\n",
       "        vertical-align: middle;\n",
       "    }\n",
       "\n",
       "    .dataframe tbody tr th {\n",
       "        vertical-align: top;\n",
       "    }\n",
       "\n",
       "    .dataframe thead th {\n",
       "        text-align: right;\n",
       "    }\n",
       "</style>\n",
       "<table border=\"1\" class=\"dataframe\">\n",
       "  <thead>\n",
       "    <tr style=\"text-align: right;\">\n",
       "      <th></th>\n",
       "      <th>Model</th>\n",
       "      <th>Acurracy Score</th>\n",
       "      <th>f1_score</th>\n",
       "    </tr>\n",
       "  </thead>\n",
       "  <tbody>\n",
       "    <tr>\n",
       "      <th>0</th>\n",
       "      <td>Logistical Regression</td>\n",
       "      <td>75.4</td>\n",
       "      <td>74.8</td>\n",
       "    </tr>\n",
       "    <tr>\n",
       "      <th>1</th>\n",
       "      <td>Linear SVC</td>\n",
       "      <td>73.4</td>\n",
       "      <td>73.1</td>\n",
       "    </tr>\n",
       "    <tr>\n",
       "      <th>2</th>\n",
       "      <td>Decision trees</td>\n",
       "      <td>85.0</td>\n",
       "      <td>84.8</td>\n",
       "    </tr>\n",
       "    <tr>\n",
       "      <th>3</th>\n",
       "      <td>Naive Bayes</td>\n",
       "      <td>69.0</td>\n",
       "      <td>62.0</td>\n",
       "    </tr>\n",
       "    <tr>\n",
       "      <th>4</th>\n",
       "      <td>Key Nearest Neighbour</td>\n",
       "      <td>44.0</td>\n",
       "      <td>46.0</td>\n",
       "    </tr>\n",
       "  </tbody>\n",
       "</table>\n",
       "</div>"
      ],
      "text/plain": [
       "                   Model  Acurracy Score  f1_score\n",
       "0  Logistical Regression            75.4      74.8\n",
       "1             Linear SVC            73.4      73.1\n",
       "2         Decision trees            85.0      84.8\n",
       "3            Naive Bayes            69.0      62.0\n",
       "4  Key Nearest Neighbour            44.0      46.0"
      ]
     },
     "execution_count": 140,
     "metadata": {},
     "output_type": "execute_result"
    }
   ],
   "source": [
    "\n",
    "data = {\n",
    "    'Model': ['Logistical Regression', 'Linear SVC', 'Decision trees', 'Naive Bayes', 'Key Nearest Neighbour'],\n",
    "    'Acurracy Score': [75.4, 73.4, 85, 69, 44],\n",
    "    'f1_score': [74.8, 73.1, 84.8, 62, 46]\n",
    "}\n",
    "\n",
    "summary_table = pd.DataFrame(data)\n",
    "\n",
    "summary_table\n"
   ]
  },
  {
   "cell_type": "code",
   "execution_count": null,
   "id": "38ef81df",
   "metadata": {},
   "outputs": [],
   "source": []
  },
  {
   "cell_type": "markdown",
   "id": "14e58294",
   "metadata": {},
   "source": [
    "<a id=\"seven\"></a>\n",
    "\n",
    "## 7. Model Explanations\n",
    "\n",
    "<a class=\"anchor\" id=\"1.1\"></a>\n",
    "<a href=#cont>Back to Table of Contents</a>\n",
    "\n",
    "---\n",
    "\n",
    "| ⚡ Description: Model explanation ⚡                                                                                                                                                                              |\n",
    "| :---------------------------------------------------------------------------------------------------------------------------------------------------------------------------------------------------------------- |\n",
    "| In this section, you are required to discuss how the best performing model works in a simple way so that both technical and non-technical stakeholders can grasp the intuition behind the model's inner workings. |\n",
    "\n",
    "---\n"
   ]
  },
  {
   "cell_type": "code",
   "execution_count": null,
   "id": "2af89ada",
   "metadata": {},
   "outputs": [],
   "source": []
  }
 ],
 "metadata": {
  "kernelspec": {
   "display_name": "Python 3 (ipykernel)",
   "language": "python",
   "name": "python3"
  },
  "language_info": {
   "codemirror_mode": {
    "name": "ipython",
    "version": 3
   },
   "file_extension": ".py",
   "mimetype": "text/x-python",
   "name": "python",
   "nbconvert_exporter": "python",
   "pygments_lexer": "ipython3",
   "version": "3.11.3"
  }
 },
 "nbformat": 4,
 "nbformat_minor": 5
}
