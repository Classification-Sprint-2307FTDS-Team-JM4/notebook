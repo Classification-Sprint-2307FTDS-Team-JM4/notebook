{
 "cells": [
  {
   "cell_type": "markdown",
   "id": "74c6f1f9",
   "metadata": {},
   "source": [
    "# ADVANCED CLASSIFICATION PREDICT"
   ]
  },
  {
   "cell_type": "markdown",
   "id": "4ffd0329",
   "metadata": {},
   "source": [
    "# Predict Overview: EA Twitter Sentiment Classification\n",
    "Companies would like to determine how people perceive climate change and whether or not they believe it is a real threat. \n",
    "\n",
    "Our mission is to deliver a precise and durable solution to this objective, granting companies the ability to tap into a wide range of consumer sentiments across various demographics and geographic regions. This, in turn, enhances their understanding and empowers them to shape future marketing strategies based on valuable insights."
   ]
  },
  {
   "cell_type": "markdown",
   "id": "ae672501",
   "metadata": {},
   "source": [
    "<a id=\"cont\"></a>\n",
    "\n",
    "## Table of Contents\n",
    "\n",
    "<a href=#one>1. Importing Packages</a>\n",
    "\n",
    "<a href=#two>2. Loading Data</a>\n",
    "\n",
    "<a href=#three>3. Exploratory Data Analysis (EDA)</a>\n",
    "\n",
    "<a href=#four>4. Data Engineering</a>\n",
    "\n",
    "<a href=#five>5. Modeling</a>\n",
    "\n",
    "<a href=#six>6. Model Performance</a>\n",
    "\n",
    "<a href=#seven>7. Model Explanations</a>"
   ]
  },
  {
   "cell_type": "markdown",
   "id": "25ae7d9e",
   "metadata": {},
   "source": [
    "# Introduction\n",
    "\n",
    "Dataset Description\n",
    "\n",
    "Where is this data from?\n",
    "- The collection of this data was funded by a Canada Foundation for Innovation JELF Grant to Chris Bauch, University of Waterloo. The dataset aggregates tweets pertaining to climate change collected between Apr 27, 2015 and Feb 21, 2018. In total, 43,943 tweets were collected. Each tweet is labelled as one of 4 classes, which are described below.\n",
    "\n",
    "Class Description\n",
    "\n",
    "- 2 News: the tweet links to factual news about climate change\n",
    "\n",
    "- 1 Pro: the tweet supports the belief of man-made climate change\n",
    "\n",
    "- 0 Neutral: the tweet neither supports nor refutes the belief of man-made climate change\n",
    "\n",
    "- -1 Anti: the tweet does not believe in man-made climate change Variable definitions\n",
    "\n",
    "Features\n",
    "\n",
    "sentiment: Which class a tweet belongs in (refer to Class Description above)\n",
    "\n",
    "- message: Tweet body\n",
    "\n",
    "- tweetid: Twitter unique id\n",
    "\n",
    "The files provided\n",
    "\n",
    "train.csv - You will use this data to train your model.\n",
    "\n",
    "test.csv - You will use this data to test your model."
   ]
  },
  {
   "cell_type": "markdown",
   "id": "2c456b20",
   "metadata": {},
   "source": [
    "<a id=\"one\"></a>\n",
    "\n",
    "## 1. Importing Packages\n",
    "\n",
    "<a href=#cont>Back to Table of Contents</a>\n",
    "\n",
    "---\n",
    "\n",
    "| ⚡ Description: Importing Packages ⚡                                                                                                    |\n",
    "| :--------------------------------------------------------------------------------------------------------------------------------------- |\n",
    "| In this section you are required to import, and briefly discuss, the libraries that will be used throughout your analysis and modelling. |\n",
    "\n",
    "---\n"
   ]
  },
  {
   "cell_type": "code",
   "execution_count": 238,
   "id": "fdb69083",
   "metadata": {},
   "outputs": [
    {
     "name": "stderr",
     "output_type": "stream",
     "text": [
      "[nltk_data] Downloading package stopwords to\n",
      "[nltk_data]     C:\\Users\\admin\\AppData\\Roaming\\nltk_data...\n",
      "[nltk_data]   Package stopwords is already up-to-date!\n",
      "[nltk_data] Downloading package wordnet to\n",
      "[nltk_data]     C:\\Users\\admin\\AppData\\Roaming\\nltk_data...\n",
      "[nltk_data]   Package wordnet is already up-to-date!\n",
      "[nltk_data] Downloading package omw-1.4 to\n",
      "[nltk_data]     C:\\Users\\admin\\AppData\\Roaming\\nltk_data...\n",
      "[nltk_data]   Package omw-1.4 is already up-to-date!\n",
      "[nltk_data] Downloading package stopwords to\n",
      "[nltk_data]     C:\\Users\\admin\\AppData\\Roaming\\nltk_data...\n",
      "[nltk_data]   Package stopwords is already up-to-date!\n",
      "[nltk_data] Downloading package punkt to\n",
      "[nltk_data]     C:\\Users\\admin\\AppData\\Roaming\\nltk_data...\n",
      "[nltk_data]   Package punkt is already up-to-date!\n",
      "[nltk_data] Downloading package vader_lexicon to\n",
      "[nltk_data]     C:\\Users\\admin\\AppData\\Roaming\\nltk_data...\n",
      "[nltk_data]   Package vader_lexicon is already up-to-date!\n"
     ]
    }
   ],
   "source": [
    "import numpy as np # linear algebra\n",
    "import pandas as pd # data processing, CSV file I/O (e.g. pd.read_csv)\n",
    "import seaborn as sns\n",
    "import matplotlib.pyplot as plt\n",
    "import matplotlib.style as style\n",
    "%matplotlib inline\n",
    "import nltk\n",
    "import re\n",
    "import string\n",
    "nltk.download('stopwords')\n",
    "from nltk.stem import WordNetLemmatizer\n",
    "nltk.download('wordnet')\n",
    "nltk.download('omw-1.4')\n",
    "nltk.download('stopwords')\n",
    "nltk.download('punkt')\n",
    "from nltk.corpus import stopwords\n",
    "from nltk.sentiment.vader import SentimentIntensityAnalyzer \n",
    "from nltk.tokenize import word_tokenize, TreebankWordTokenizer\n",
    "from nltk import SnowballStemmer, PorterStemmer, LancasterStemmer\n",
    "nltk.download('vader_lexicon')\n",
    "from sklearn.pipeline import Pipeline\n",
    "from sklearn.linear_model import LogisticRegression #Import Logistic Regression from the sklearn\n",
    "from sklearn.metrics import accuracy_score, classification_report, confusion_matrix, f1_score\n",
    "from sklearn.feature_selection import VarianceThreshold\n",
    "from sklearn.feature_extraction.text import CountVectorizer #Import CountVectorizer from sklearn\n",
    "from wordCloud import WordCloud,ImageColorGeneratorfrom sklearn.svm import SVC #Import SVC from sklearn \n",
    "from sklearn.utils import resample #Import the resampling module\n",
    "from sklearn.feature_extraction.text import TfidfVectorizer #Import TFidfVectorizer from sklearn\n",
    "from sklearn.neighbors import KNeighborsClassifier\n",
    "from sklearn.naive_bayes import  BernoulliNB\n",
    "from sklearn.tree import DecisionTreeClassifier\n",
    "from sklearn.svm import LinearSVC #Import LinearSVC from the sklearn\n",
    "import matplotlib.patches as mpatches\n",
    "from sklearn.model_selection import train_test_split\n",
    "from wordcloud import WordCloud,ImageColorGenerator\n",
    "from nltk.util import ngrams\n",
    "\n",
    "\n",
    "\n",
    "# Input data files are available in the read-only \"../input/\" directory\n",
    "# For example, running this (by clicking run or pressing Shift+Enter) will list all files under the input directory\n",
    "\n",
    "import os\n",
    "for dirname, _, filenames in os.walk('/kaggle/input'):\n",
    "    for filename in filenames:\n",
    "        print(os.path.join(dirname, filename))"
   ]
  },
  {
   "cell_type": "markdown",
   "id": "1b28a7b2",
   "metadata": {},
   "source": [
    "<a id=\"two\"></a>\n",
    "\n",
    "## 2. Loading the Data\n",
    "\n",
    "<a class=\"anchor\" id=\"1.1\"></a>\n",
    "<a href=#cont>Back to Table of Contents</a>\n",
    "\n",
    "---\n",
    "\n",
    "| ⚡ Description: Loading the data ⚡                                                          |\n",
    "| :------------------------------------------------------------------------------------------- |\n",
    "| In this section you are required to load the data from the `df_train` file into a DataFrame. |\n",
    "\n",
    "---"
   ]
  },
  {
   "cell_type": "code",
   "execution_count": 239,
   "id": "54e1a170",
   "metadata": {},
   "outputs": [
    {
     "data": {
      "text/html": [
       "<div>\n",
       "<style scoped>\n",
       "    .dataframe tbody tr th:only-of-type {\n",
       "        vertical-align: middle;\n",
       "    }\n",
       "\n",
       "    .dataframe tbody tr th {\n",
       "        vertical-align: top;\n",
       "    }\n",
       "\n",
       "    .dataframe thead th {\n",
       "        text-align: right;\n",
       "    }\n",
       "</style>\n",
       "<table border=\"1\" class=\"dataframe\">\n",
       "  <thead>\n",
       "    <tr style=\"text-align: right;\">\n",
       "      <th></th>\n",
       "      <th>message</th>\n",
       "      <th>tweetid</th>\n",
       "    </tr>\n",
       "  </thead>\n",
       "  <tbody>\n",
       "    <tr>\n",
       "      <th>0</th>\n",
       "      <td>Europe will now be looking to China to make su...</td>\n",
       "      <td>169760</td>\n",
       "    </tr>\n",
       "    <tr>\n",
       "      <th>1</th>\n",
       "      <td>Combine this with the polling of staffers re c...</td>\n",
       "      <td>35326</td>\n",
       "    </tr>\n",
       "    <tr>\n",
       "      <th>2</th>\n",
       "      <td>The scary, unimpeachable evidence that climate...</td>\n",
       "      <td>224985</td>\n",
       "    </tr>\n",
       "    <tr>\n",
       "      <th>3</th>\n",
       "      <td>@Karoli @morgfair @OsborneInk @dailykos \\r\\nPu...</td>\n",
       "      <td>476263</td>\n",
       "    </tr>\n",
       "    <tr>\n",
       "      <th>4</th>\n",
       "      <td>RT @FakeWillMoore: 'Female orgasms cause globa...</td>\n",
       "      <td>872928</td>\n",
       "    </tr>\n",
       "  </tbody>\n",
       "</table>\n",
       "</div>"
      ],
      "text/plain": [
       "                                             message  tweetid\n",
       "0  Europe will now be looking to China to make su...   169760\n",
       "1  Combine this with the polling of staffers re c...    35326\n",
       "2  The scary, unimpeachable evidence that climate...   224985\n",
       "3  @Karoli @morgfair @OsborneInk @dailykos \\r\\nPu...   476263\n",
       "4  RT @FakeWillMoore: 'Female orgasms cause globa...   872928"
      ]
     },
     "execution_count": 239,
     "metadata": {},
     "output_type": "execute_result"
    }
   ],
   "source": [
    "df_test = pd.read_csv (\"test_with_no_labels.csv\")\n",
    "df_test.head()"
   ]
  },
  {
   "cell_type": "code",
   "execution_count": 240,
   "id": "cb02b356",
   "metadata": {},
   "outputs": [
    {
     "data": {
      "text/html": [
       "<div>\n",
       "<style scoped>\n",
       "    .dataframe tbody tr th:only-of-type {\n",
       "        vertical-align: middle;\n",
       "    }\n",
       "\n",
       "    .dataframe tbody tr th {\n",
       "        vertical-align: top;\n",
       "    }\n",
       "\n",
       "    .dataframe thead th {\n",
       "        text-align: right;\n",
       "    }\n",
       "</style>\n",
       "<table border=\"1\" class=\"dataframe\">\n",
       "  <thead>\n",
       "    <tr style=\"text-align: right;\">\n",
       "      <th></th>\n",
       "      <th>sentiment</th>\n",
       "      <th>message</th>\n",
       "      <th>tweetid</th>\n",
       "    </tr>\n",
       "  </thead>\n",
       "  <tbody>\n",
       "    <tr>\n",
       "      <th>0</th>\n",
       "      <td>1</td>\n",
       "      <td>PolySciMajor EPA chief doesn't think carbon di...</td>\n",
       "      <td>625221</td>\n",
       "    </tr>\n",
       "    <tr>\n",
       "      <th>1</th>\n",
       "      <td>1</td>\n",
       "      <td>It's not like we lack evidence of anthropogeni...</td>\n",
       "      <td>126103</td>\n",
       "    </tr>\n",
       "    <tr>\n",
       "      <th>2</th>\n",
       "      <td>2</td>\n",
       "      <td>RT @RawStory: Researchers say we have three ye...</td>\n",
       "      <td>698562</td>\n",
       "    </tr>\n",
       "    <tr>\n",
       "      <th>3</th>\n",
       "      <td>1</td>\n",
       "      <td>#TodayinMaker# WIRED : 2016 was a pivotal year...</td>\n",
       "      <td>573736</td>\n",
       "    </tr>\n",
       "    <tr>\n",
       "      <th>4</th>\n",
       "      <td>1</td>\n",
       "      <td>RT @SoyNovioDeTodas: It's 2016, and a racist, ...</td>\n",
       "      <td>466954</td>\n",
       "    </tr>\n",
       "  </tbody>\n",
       "</table>\n",
       "</div>"
      ],
      "text/plain": [
       "   sentiment                                            message  tweetid\n",
       "0          1  PolySciMajor EPA chief doesn't think carbon di...   625221\n",
       "1          1  It's not like we lack evidence of anthropogeni...   126103\n",
       "2          2  RT @RawStory: Researchers say we have three ye...   698562\n",
       "3          1  #TodayinMaker# WIRED : 2016 was a pivotal year...   573736\n",
       "4          1  RT @SoyNovioDeTodas: It's 2016, and a racist, ...   466954"
      ]
     },
     "execution_count": 240,
     "metadata": {},
     "output_type": "execute_result"
    }
   ],
   "source": [
    "df_train = pd.read_csv('train.csv')\n",
    "df_train.head()"
   ]
  },
  {
   "cell_type": "markdown",
   "id": "344506ad",
   "metadata": {},
   "source": [
    "<a id=\"three\"></a>\n",
    "\n",
    "## 3. Exploratory Data Analysis (EDA)\n",
    "\n",
    "<a class=\"anchor\" id=\"1.1\"></a>\n",
    "<a href=#cont>Back to Table of Contents</a>\n",
    "\n",
    "---\n",
    "\n",
    "| ⚡ Description: Exploratory data analysis ⚡                                                             |\n",
    "| :------------------------------------------------------------------------------------------------------- |\n",
    "| In this section, you are required to perform an in-depth analysis of all the variables in the DataFrame. |\n",
    "\n",
    "---"
   ]
  },
  {
   "cell_type": "markdown",
   "id": "032f7c10",
   "metadata": {},
   "source": [
    "The EDA  includes:\n",
    "- Summary analysis\n",
    "- Null values\n",
    "- Classes of tweets - Sentiments\n",
    "- Number of words of tweets"
   ]
  },
  {
   "cell_type": "markdown",
   "id": "e6865984",
   "metadata": {},
   "source": [
    "## Summary analysis"
   ]
  },
  {
   "cell_type": "code",
   "execution_count": 241,
   "id": "be7cbbae",
   "metadata": {},
   "outputs": [
    {
     "data": {
      "text/html": [
       "<div>\n",
       "<style scoped>\n",
       "    .dataframe tbody tr th:only-of-type {\n",
       "        vertical-align: middle;\n",
       "    }\n",
       "\n",
       "    .dataframe tbody tr th {\n",
       "        vertical-align: top;\n",
       "    }\n",
       "\n",
       "    .dataframe thead th {\n",
       "        text-align: right;\n",
       "    }\n",
       "</style>\n",
       "<table border=\"1\" class=\"dataframe\">\n",
       "  <thead>\n",
       "    <tr style=\"text-align: right;\">\n",
       "      <th></th>\n",
       "      <th>tweetid</th>\n",
       "    </tr>\n",
       "  </thead>\n",
       "  <tbody>\n",
       "    <tr>\n",
       "      <th>count</th>\n",
       "      <td>10546.000000</td>\n",
       "    </tr>\n",
       "    <tr>\n",
       "      <th>mean</th>\n",
       "      <td>496899.936943</td>\n",
       "    </tr>\n",
       "    <tr>\n",
       "      <th>std</th>\n",
       "      <td>288115.677148</td>\n",
       "    </tr>\n",
       "    <tr>\n",
       "      <th>min</th>\n",
       "      <td>231.000000</td>\n",
       "    </tr>\n",
       "    <tr>\n",
       "      <th>25%</th>\n",
       "      <td>246162.500000</td>\n",
       "    </tr>\n",
       "    <tr>\n",
       "      <th>50%</th>\n",
       "      <td>495923.000000</td>\n",
       "    </tr>\n",
       "    <tr>\n",
       "      <th>75%</th>\n",
       "      <td>742250.000000</td>\n",
       "    </tr>\n",
       "    <tr>\n",
       "      <th>max</th>\n",
       "      <td>999983.000000</td>\n",
       "    </tr>\n",
       "  </tbody>\n",
       "</table>\n",
       "</div>"
      ],
      "text/plain": [
       "             tweetid\n",
       "count   10546.000000\n",
       "mean   496899.936943\n",
       "std    288115.677148\n",
       "min       231.000000\n",
       "25%    246162.500000\n",
       "50%    495923.000000\n",
       "75%    742250.000000\n",
       "max    999983.000000"
      ]
     },
     "execution_count": 241,
     "metadata": {},
     "output_type": "execute_result"
    }
   ],
   "source": [
    "df_test.describe()\n"
   ]
  },
  {
   "cell_type": "code",
   "execution_count": 242,
   "id": "1f81ab64",
   "metadata": {},
   "outputs": [
    {
     "data": {
      "text/html": [
       "<div>\n",
       "<style scoped>\n",
       "    .dataframe tbody tr th:only-of-type {\n",
       "        vertical-align: middle;\n",
       "    }\n",
       "\n",
       "    .dataframe tbody tr th {\n",
       "        vertical-align: top;\n",
       "    }\n",
       "\n",
       "    .dataframe thead th {\n",
       "        text-align: right;\n",
       "    }\n",
       "</style>\n",
       "<table border=\"1\" class=\"dataframe\">\n",
       "  <thead>\n",
       "    <tr style=\"text-align: right;\">\n",
       "      <th></th>\n",
       "      <th>sentiment</th>\n",
       "      <th>tweetid</th>\n",
       "    </tr>\n",
       "  </thead>\n",
       "  <tbody>\n",
       "    <tr>\n",
       "      <th>count</th>\n",
       "      <td>15819.000000</td>\n",
       "      <td>15819.000000</td>\n",
       "    </tr>\n",
       "    <tr>\n",
       "      <th>mean</th>\n",
       "      <td>0.917504</td>\n",
       "      <td>501719.433656</td>\n",
       "    </tr>\n",
       "    <tr>\n",
       "      <th>std</th>\n",
       "      <td>0.836537</td>\n",
       "      <td>289045.983132</td>\n",
       "    </tr>\n",
       "    <tr>\n",
       "      <th>min</th>\n",
       "      <td>-1.000000</td>\n",
       "      <td>6.000000</td>\n",
       "    </tr>\n",
       "    <tr>\n",
       "      <th>25%</th>\n",
       "      <td>1.000000</td>\n",
       "      <td>253207.500000</td>\n",
       "    </tr>\n",
       "    <tr>\n",
       "      <th>50%</th>\n",
       "      <td>1.000000</td>\n",
       "      <td>502291.000000</td>\n",
       "    </tr>\n",
       "    <tr>\n",
       "      <th>75%</th>\n",
       "      <td>1.000000</td>\n",
       "      <td>753769.000000</td>\n",
       "    </tr>\n",
       "    <tr>\n",
       "      <th>max</th>\n",
       "      <td>2.000000</td>\n",
       "      <td>999888.000000</td>\n",
       "    </tr>\n",
       "  </tbody>\n",
       "</table>\n",
       "</div>"
      ],
      "text/plain": [
       "          sentiment        tweetid\n",
       "count  15819.000000   15819.000000\n",
       "mean       0.917504  501719.433656\n",
       "std        0.836537  289045.983132\n",
       "min       -1.000000       6.000000\n",
       "25%        1.000000  253207.500000\n",
       "50%        1.000000  502291.000000\n",
       "75%        1.000000  753769.000000\n",
       "max        2.000000  999888.000000"
      ]
     },
     "execution_count": 242,
     "metadata": {},
     "output_type": "execute_result"
    }
   ],
   "source": [
    "df_train.describe()\n"
   ]
  },
  {
   "cell_type": "markdown",
   "id": "448a2336",
   "metadata": {},
   "source": [
    "## Null values"
   ]
  },
  {
   "cell_type": "code",
   "execution_count": 243,
   "id": "000d75a0",
   "metadata": {},
   "outputs": [
    {
     "data": {
      "text/plain": [
       "message    0\n",
       "tweetid    0\n",
       "dtype: int64"
      ]
     },
     "execution_count": 243,
     "metadata": {},
     "output_type": "execute_result"
    }
   ],
   "source": [
    "df_test.isnull().sum()"
   ]
  },
  {
   "cell_type": "code",
   "execution_count": 244,
   "id": "5c25097f",
   "metadata": {},
   "outputs": [
    {
     "data": {
      "text/plain": [
       "sentiment    0\n",
       "message      0\n",
       "tweetid      0\n",
       "dtype: int64"
      ]
     },
     "execution_count": 244,
     "metadata": {},
     "output_type": "execute_result"
    }
   ],
   "source": [
    "df_train.isnull().sum()"
   ]
  },
  {
   "cell_type": "code",
   "execution_count": 245,
   "id": "2fbf82ed",
   "metadata": {},
   "outputs": [
    {
     "data": {
      "text/plain": [
       "(10546, 2)"
      ]
     },
     "execution_count": 245,
     "metadata": {},
     "output_type": "execute_result"
    }
   ],
   "source": [
    "df_test.shape"
   ]
  },
  {
   "cell_type": "code",
   "execution_count": 246,
   "id": "52998a45",
   "metadata": {},
   "outputs": [
    {
     "data": {
      "text/plain": [
       "(15819, 3)"
      ]
     },
     "execution_count": 246,
     "metadata": {},
     "output_type": "execute_result"
    }
   ],
   "source": [
    "df_train.shape"
   ]
  },
  {
   "cell_type": "markdown",
   "id": "9c7e0002",
   "metadata": {},
   "source": [
    "## Sentiments meaning"
   ]
  },
  {
   "cell_type": "markdown",
   "id": "757c8bed",
   "metadata": {},
   "source": [
    "- Negative climate Change = -1\n",
    "- Neutral = 0\n",
    "- Positive Climate change = 1\n",
    "- News = 2"
   ]
  },
  {
   "cell_type": "markdown",
   "id": "e81f98e2",
   "metadata": {},
   "source": [
    "## 3.1 Comparing the number of tweets of sentiments\n",
    "- Distribution\n",
    "- Pie chart\n",
    "- Data cleaning\n",
    "- Word cloud\n",
    "- Top 20 words used"
   ]
  },
  {
   "cell_type": "markdown",
   "id": "b7529a24",
   "metadata": {},
   "source": [
    "### 3.1.1 Bar chart showing the counts of tweets per sentiment "
   ]
  },
  {
   "cell_type": "code",
   "execution_count": 247,
   "id": "74e0c762",
   "metadata": {},
   "outputs": [
    {
     "data": {
      "image/png": "[encoded data removed]",
      "text/plain": [
       "<Figure size 900x400 with 1 Axes>"
      ]
     },
     "metadata": {},
     "output_type": "display_data"
    }
   ],
   "source": [
    "senti_counts = df_train[\"sentiment\"].value_counts()\n",
    "news = senti_counts[2] \n",
    "pro = senti_counts[1]   \n",
    "neutral = senti_counts[0]\n",
    "anti = senti_counts[-1]  \n",
    "\n",
    "plt.figure( figsize=(9,4))\n",
    "plt.barh(['News ','Pro','Neutral','Anti'], [news,pro,neutral,anti]) # horizontal bar graph to compare classes of tweets.\n",
    "plt.colours = ['red', 'green', 'blue', 'orange']\n",
    "plt.xlabel('Count of Tweets') #X-label of the data\n",
    "plt.ylabel('Sentiment Classification') #Y_label of the data \n",
    "plt.title('Distribution of Classes In The Dataset') #Give the data a title 'Dataset lables distribution'\n",
    "plt.show()"
   ]
  },
  {
   "cell_type": "markdown",
   "id": "7659c367",
   "metadata": {},
   "source": [
    "### 3.1.2 Pie chart showing the percentages of tweets per sentiment - Which one has the highest proportion between news and pro climate change"
   ]
  },
  {
   "cell_type": "code",
   "execution_count": 248,
   "id": "e3b062c8",
   "metadata": {},
   "outputs": [
    {
     "data": {
      "image/png": "[encoded data removed]",
      "text/plain": [
       "<Figure size 900x400 with 1 Axes>"
      ]
     },
     "metadata": {},
     "output_type": "display_data"
    }
   ],
   "source": [
    "class_counts = df_train[\"sentiment\"].value_counts()\n",
    "plt.figure( figsize=(9,4))\n",
    "plt.pie(class_counts, labels=['Pro ','News','Neutral','Anti'], explode=[0.05,0.05,0.05,0.05], autopct='%1.1f%%')\n",
    "plt.title(\"Pie Chart of Percentage classification of Tweets \")\n",
    "plt.axis('equal')\n",
    "plt.show()"
   ]
  },
  {
   "cell_type": "markdown",
   "id": "68864420",
   "metadata": {},
   "source": [
    "Insights:\n",
    "- News has the highest percentage of tweets followed by Pro climate change, Neutral and anti climate change respectively"
   ]
  },
  {
   "cell_type": "markdown",
   "id": "72074616",
   "metadata": {},
   "source": [
    "### 3.1.3 Data cleaning \n",
    "In order to process the tweet messages more effectively the tweets are cleaned using the clean function defined in the code cell below. The clean function does the following.\n",
    "\n",
    "- Convert all tweet text to lowercase.\n",
    "- Drop colums that are not important\n",
    "- Remove @\n",
    "- Remove punctuation.\n",
    "- Remove numbers\n",
    "- Remove stopwords\n",
    "- Remove line-break code syntax\n",
    "- Emojis"
   ]
  },
  {
   "cell_type": "code",
   "execution_count": 249,
   "id": "2dbc4be8",
   "metadata": {},
   "outputs": [
    {
     "name": "stdout",
     "output_type": "stream",
     "text": [
      "<class 'pandas.core.frame.DataFrame'>\n",
      "RangeIndex: 15819 entries, 0 to 15818\n",
      "Data columns (total 3 columns):\n",
      " #   Column     Non-Null Count  Dtype \n",
      "---  ------     --------------  ----- \n",
      " 0   sentiment  15819 non-null  int64 \n",
      " 1   message    15819 non-null  object\n",
      " 2   tweetid    15819 non-null  int64 \n",
      "dtypes: int64(2), object(1)\n",
      "memory usage: 370.9+ KB\n"
     ]
    }
   ],
   "source": [
    "df_train.info()"
   ]
  },
  {
   "cell_type": "code",
   "execution_count": 250,
   "id": "796fac3b",
   "metadata": {},
   "outputs": [
    {
     "name": "stdout",
     "output_type": "stream",
     "text": [
      "<class 'pandas.core.frame.DataFrame'>\n",
      "RangeIndex: 10546 entries, 0 to 10545\n",
      "Data columns (total 2 columns):\n",
      " #   Column   Non-Null Count  Dtype \n",
      "---  ------   --------------  ----- \n",
      " 0   message  10546 non-null  object\n",
      " 1   tweetid  10546 non-null  int64 \n",
      "dtypes: int64(1), object(1)\n",
      "memory usage: 164.9+ KB\n"
     ]
    }
   ],
   "source": [
    "df_test.info()"
   ]
  },
  {
   "cell_type": "markdown",
   "id": "5c2cf304",
   "metadata": {},
   "source": [
    "#### Removing the web-urls"
   ]
  },
  {
   "cell_type": "code",
   "execution_count": 251,
   "id": "45f54a71",
   "metadata": {},
   "outputs": [
    {
     "data": {
      "text/plain": [
       "0    PolySciMajor EPA chief doesn't think carbon di...\n",
       "1    It's not like we lack evidence of anthropogeni...\n",
       "2    RT @RawStory: Researchers say we have three ye...\n",
       "3    #TodayinMaker# WIRED : 2016 was a pivotal year...\n",
       "4    RT @SoyNovioDeTodas: It's 2016, and a racist, ...\n",
       "Name: CleanMessage, dtype: object"
      ]
     },
     "execution_count": 251,
     "metadata": {},
     "output_type": "execute_result"
    }
   ],
   "source": [
    "pattern_url = r'http[s]?://(?:[A-Za-z]|[0-9]|[$-_@.&+]|[!*\\(\\),]|(?:%[0-9A-Fa-f][0-9A-Fa-f]))+'\n",
    "subs_url = r'url-web'\n",
    "df_train['CleanMessage'] = df_train['message'].replace(to_replace = pattern_url, value = subs_url, regex = True)\n",
    "df_train['CleanMessage'].head()"
   ]
  },
  {
   "cell_type": "markdown",
   "id": "95c7b5dd",
   "metadata": {},
   "source": [
    "#### Converting every word to lower case"
   ]
  },
  {
   "cell_type": "code",
   "execution_count": 252,
   "id": "8dffe900",
   "metadata": {},
   "outputs": [
    {
     "data": {
      "text/plain": [
       "0    polyscimajor epa chief doesn't think carbon di...\n",
       "1    it's not like we lack evidence of anthropogeni...\n",
       "2    rt @rawstory: researchers say we have three ye...\n",
       "3    #todayinmaker# wired : 2016 was a pivotal year...\n",
       "4    rt @soynoviodetodas: it's 2016, and a racist, ...\n",
       "Name: CleanMessage, dtype: object"
      ]
     },
     "execution_count": 252,
     "metadata": {},
     "output_type": "execute_result"
    }
   ],
   "source": [
    "df_train['CleanMessage'] = df_train['CleanMessage'].str.lower()\n",
    "df_train['CleanMessage'].head()"
   ]
  },
  {
   "cell_type": "markdown",
   "id": "5ee8b903",
   "metadata": {},
   "source": [
    "#### Removing punctuation"
   ]
  },
  {
   "cell_type": "code",
   "execution_count": 253,
   "id": "eda2d5e5",
   "metadata": {},
   "outputs": [],
   "source": [
    "def remove_punctuation(post):\n",
    "    return ''.join([l for l in post if l not in string.punctuation])"
   ]
  },
  {
   "cell_type": "code",
   "execution_count": 254,
   "id": "6de1ce1c",
   "metadata": {},
   "outputs": [
    {
     "data": {
      "text/plain": [
       "0    polyscimajor epa chief doesnt think carbon dio...\n",
       "1    its not like we lack evidence of anthropogenic...\n",
       "2    rt rawstory researchers say we have three year...\n",
       "3    todayinmaker wired  2016 was a pivotal year in...\n",
       "4    rt soynoviodetodas its 2016 and a racist sexis...\n",
       "Name: CleanMessage, dtype: object"
      ]
     },
     "execution_count": 254,
     "metadata": {},
     "output_type": "execute_result"
    }
   ],
   "source": [
    "df_train['CleanMessage'] = df_train['CleanMessage'].apply(remove_punctuation)\n",
    "df_train['CleanMessage'].head()"
   ]
  },
  {
   "cell_type": "code",
   "execution_count": 255,
   "id": "af322908",
   "metadata": {},
   "outputs": [
    {
     "data": {
      "text/plain": [
       "0    polyscimajor epa chief doesnt think carbon dio...\n",
       "1    its not like we lack evidence of anthropogenic...\n",
       "2    rt rawstory researchers say we have three year...\n",
       "3    todayinmaker wired   was a pivotal year in the...\n",
       "4    rt soynoviodetodas its  and a racist sexist cl...\n",
       "Name: CleanMessage, dtype: object"
      ]
     },
     "execution_count": 255,
     "metadata": {},
     "output_type": "execute_result"
    }
   ],
   "source": [
    "# Replace all other characters with space except letters from a to z\n",
    "df_train['CleanMessage'] = df_train['CleanMessage'].astype(str).apply(lambda x: re.sub(\"[^a-z\\s]\", \"\", x.lower()))\n",
    "df_train['CleanMessage'].head()\n"
   ]
  },
  {
   "cell_type": "markdown",
   "id": "6aaa887f",
   "metadata": {},
   "source": [
    "#### Stop words"
   ]
  },
  {
   "cell_type": "code",
   "execution_count": 256,
   "id": "2069f46b",
   "metadata": {},
   "outputs": [
    {
     "name": "stdout",
     "output_type": "stream",
     "text": [
      "['a', 'about', 'above', 'after', 'again', 'against', 'ain', 'all', 'am', 'an', 'and', 'any', 'are', 'aren', \"aren't\", 'as', 'at', 'be', 'because', 'been', 'before', 'being', 'below', 'between', 'both', 'but', 'by', 'can', 'couldn', \"couldn't\", 'd', 'did', 'didn', \"didn't\", 'do', 'does', 'doesn', \"doesn't\", 'doing', 'don', \"don't\", 'down', 'during', 'each', 'few', 'for', 'from', 'further', 'had', 'hadn', \"hadn't\", 'has', 'hasn', \"hasn't\", 'have', 'haven', \"haven't\", 'having', 'he', 'her', 'here', 'hers', 'herself', 'him', 'himself', 'his', 'how', 'i', 'if', 'in', 'into', 'is', 'isn', \"isn't\", 'it', \"it's\", 'its', 'itself', 'just', 'll', 'm', 'ma', 'me', 'mightn', \"mightn't\", 'more', 'most', 'mustn', \"mustn't\", 'my', 'myself', 'needn', \"needn't\", 'no', 'nor', 'not', 'now', 'o', 'of', 'off', 'on', 'once', 'only', 'or', 'other', 'our', 'ours', 'ourselves', 'out', 'over', 'own', 're', 's', 'same', 'shan', \"shan't\", 'she', \"she's\", 'should', \"should've\", 'shouldn', \"shouldn't\", 'so', 'some', 'such', 't', 'than', 'that', \"that'll\", 'the', 'their', 'theirs', 'them', 'themselves', 'then', 'there', 'these', 'they', 'this', 'those', 'through', 'to', 'too', 'under', 'until', 'up', 've', 'very', 'was', 'wasn', \"wasn't\", 'we', 'were', 'weren', \"weren't\", 'what', 'when', 'where', 'which', 'while', 'who', 'whom', 'why', 'will', 'with', 'won', \"won't\", 'wouldn', \"wouldn't\", 'y', 'you', \"you'd\", \"you'll\", \"you're\", \"you've\", 'your', 'yours', 'yourself', 'yourselves']\n"
     ]
    }
   ],
   "source": [
    "from nltk.corpus import stopwords\n",
    "stopwordlist = sorted(stopwords.words('english'))\n",
    "print(stopwordlist)"
   ]
  },
  {
   "cell_type": "code",
   "execution_count": 257,
   "id": "cc6b3323",
   "metadata": {},
   "outputs": [
    {
     "data": {
      "text/plain": [
       "0    polyscimajor epa chief doesnt think carbon dio...\n",
       "1      like lack evidence anthropogenic global warming\n",
       "2    rt rawstory researchers say three years act cl...\n",
       "3    todayinmaker wired pivotal year war climate ch...\n",
       "4    rt soynoviodetodas racist sexist climate chang...\n",
       "Name: CleanMessage, dtype: object"
      ]
     },
     "execution_count": 257,
     "metadata": {},
     "output_type": "execute_result"
    }
   ],
   "source": [
    "stopwords = set(stopwordlist)\n",
    "def cleaning_stopwords(text):\n",
    "    return \" \".join([word for word in str(text).split() if word not in stopwords])\n",
    "df_train['CleanMessage'] = df_train['CleanMessage'].apply(lambda text: cleaning_stopwords(text))\n",
    "df_train['CleanMessage'].head()"
   ]
  },
  {
   "cell_type": "markdown",
   "id": "d8e53513",
   "metadata": {},
   "source": [
    "### 3.1.4 Word cloud showing top words used in every class"
   ]
  },
  {
   "cell_type": "code",
   "execution_count": 258,
   "id": "0e1541c2",
   "metadata": {},
   "outputs": [],
   "source": [
    "text = \" \".join(i for i in df_train['CleanMessage'])\n",
    "text = str(text)"
   ]
  },
  {
   "cell_type": "code",
   "execution_count": 259,
   "id": "94d78103",
   "metadata": {},
   "outputs": [
    {
     "data": {
      "image/png": "[encoded data removed]",
      "text/plain": [
       "<Figure size 900x400 with 1 Axes>"
      ]
     },
     "metadata": {},
     "output_type": "display_data"
    }
   ],
   "source": [
    "wordcloud = WordCloud()\n",
    "tweet_cloud = wordcloud.generate(text)\n",
    "plt.figure( figsize=(9,4))\n",
    "plt.imshow(tweet_cloud, interpolation='bilinear')\n",
    "plt.axis(\"off\")\n",
    "plt.show()"
   ]
  },
  {
   "cell_type": "markdown",
   "id": "bb3ff31d",
   "metadata": {},
   "source": [
    " ### 3.1.5 Top 20 words in the tweets"
   ]
  },
  {
   "cell_type": "code",
   "execution_count": 260,
   "id": "7f95dcd6",
   "metadata": {},
   "outputs": [],
   "source": [
    "freq_dict = {}\n",
    "words = text.split(\" \")\n",
    "for word in words:\n",
    "    if word != \" \" and word !=\"\":\n",
    "        if word not in freq_dict:\n",
    "            freq_dict[word] = 1\n",
    "        else:\n",
    "            freq_dict[word] += 1"
   ]
  },
  {
   "cell_type": "code",
   "execution_count": 261,
   "id": "06863a6f",
   "metadata": {},
   "outputs": [],
   "source": [
    "sorted_freq_dict = sorted(freq_dict.items(), key=lambda x:x[1], reverse=True)[:21]\n",
    "top_20_words = dict(sorted_freq_dict)"
   ]
  },
  {
   "cell_type": "code",
   "execution_count": 262,
   "id": "245f71d4",
   "metadata": {},
   "outputs": [
    {
     "data": {
      "image/png": "[encoded data removed]",
      "text/plain": [
       "<Figure size 900x400 with 1 Axes>"
      ]
     },
     "metadata": {},
     "output_type": "display_data"
    }
   ],
   "source": [
    "x_labels = list(top_20_words.keys())\n",
    "values = list(top_20_words.values())\n",
    "\n",
    "# Create the figure and axes\n",
    "fig, ax = plt.subplots(figsize=(9,4))\n",
    "\n",
    "# Plot the data\n",
    "ax.bar(x_labels, values)\n",
    "\n",
    "# Customize the plot\n",
    "ax.set_xlabel('word')\n",
    "ax.set_ylabel('Word Count')\n",
    "ax.set_title('Top 20 Most Used Words')\n",
    "\n",
    "# Rotate the x-labels if needed\n",
    "plt.xticks(rotation=90)\n",
    "\n",
    "# Display the plot\n",
    "plt.show()"
   ]
  },
  {
   "cell_type": "markdown",
   "id": "59d96fe9",
   "metadata": {},
   "source": [
    "The top of words used\n",
    "- 1. Climate\n",
    "- 2. Change\n",
    "- 3. rt\n",
    "- 4. Trump\n",
    "- 5. Global\n",
    "- 6. US\n",
    "- 7. via\n",
    "- 8. Says\n",
    "- 9. EPA\n",
    "- 10. New\n",
    "- 11. Scientists\n",
    "- 12. Trumps\n",
    "- 13. Donald\n",
    "- 14. Fight\n",
    "- 15. China\n",
    "- 16. Could\n",
    "- 17. News\n",
    "- 18. world\n",
    "- 19. Scott\n",
    "- 20. Paris"
   ]
  },
  {
   "cell_type": "code",
   "execution_count": 263,
   "id": "f873fd3b",
   "metadata": {},
   "outputs": [],
   "source": [
    "freq_dict = {}\n",
    "words = text.split(\" \")\n",
    "for word in words:\n",
    "    if word != \" \" and word !=\"\":\n",
    "        if word not in freq_dict:\n",
    "            freq_dict[word] = 1\n",
    "        else:\n",
    "            freq_dict[word] += 1"
   ]
  },
  {
   "cell_type": "code",
   "execution_count": 264,
   "id": "0f74fc6b",
   "metadata": {},
   "outputs": [],
   "source": [
    "sorted_freq_dict = sorted(freq_dict.items(), key=lambda x:x[1], reverse=True)[:21]\n",
    "top_20_words = dict(sorted_freq_dict)"
   ]
  },
  {
   "cell_type": "code",
   "execution_count": 265,
   "id": "c4a1c621",
   "metadata": {},
   "outputs": [
    {
     "data": {
      "image/png": "[encoded data removed]",
      "text/plain": [
       "<Figure size 900x400 with 1 Axes>"
      ]
     },
     "metadata": {},
     "output_type": "display_data"
    }
   ],
   "source": [
    "x_labels = list(top_20_words.keys())\n",
    "values = list(top_20_words.values())\n",
    "\n",
    "# Create the figure and axes\n",
    "fig, ax = plt.subplots(figsize=(9,4))\n",
    "\n",
    "# Plot the data\n",
    "ax.bar(x_labels, values)\n",
    "\n",
    "# Customize the plot\n",
    "ax.set_xlabel('word')\n",
    "ax.set_ylabel('Word Count')\n",
    "ax.set_title('Top 20 Most Used Words')\n",
    "\n",
    "# Rotate the x-labels if needed\n",
    "plt.xticks(rotation=90)\n",
    "\n",
    "# Display the plot\n",
    "plt.show()"
   ]
  },
  {
   "cell_type": "code",
   "execution_count": 266,
   "id": "6e01f6a0",
   "metadata": {},
   "outputs": [],
   "source": [
    "text = \" \".join(i for i in df_pro[\"message\"])\n",
    "text = str(text)"
   ]
  },
  {
   "cell_type": "code",
   "execution_count": 267,
   "id": "4f2a2075",
   "metadata": {},
   "outputs": [],
   "source": [
    "freq_dict = {}\n",
    "words = text.split(\" \")\n",
    "for word in words:\n",
    "    if word != \" \" and word !=\"\":\n",
    "        if word not in freq_dict:\n",
    "            freq_dict[word] = 1\n",
    "        else:\n",
    "            freq_dict[word] += 1"
   ]
  },
  {
   "cell_type": "code",
   "execution_count": 268,
   "id": "d63b8cb7",
   "metadata": {},
   "outputs": [],
   "source": [
    "sorted_freq_dict = sorted(freq_dict.items(), key=lambda x:x[1], reverse=True)[:21]\n",
    "top_20_words = dict(sorted_freq_dict)"
   ]
  },
  {
   "cell_type": "code",
   "execution_count": 269,
   "id": "3a89fbb0",
   "metadata": {},
   "outputs": [
    {
     "data": {
      "image/png": "[encoded data removed]",
      "text/plain": [
       "<Figure size 900x400 with 1 Axes>"
      ]
     },
     "metadata": {},
     "output_type": "display_data"
    }
   ],
   "source": [
    "x_labels = list(top_20_words.keys())\n",
    "values = list(top_20_words.values())\n",
    "\n",
    "# Create the figure and axes\n",
    "fig, ax = plt.subplots(figsize=(9,4))\n",
    "\n",
    "# Plot the data\n",
    "ax.bar(x_labels, values)\n",
    "\n",
    "# Customize the plot\n",
    "ax.set_xlabel('word')\n",
    "ax.set_ylabel('Word Count')\n",
    "ax.set_title('Top 20 Most Used Words')\n",
    "\n",
    "# Rotate the x-labels if needed\n",
    "plt.xticks(rotation=90)\n",
    "\n",
    "# Display the plot\n",
    "plt.show()"
   ]
  },
  {
   "cell_type": "markdown",
   "id": "a74dd888",
   "metadata": {},
   "source": [
    "## 3.2 Comparing the *length of the tweet* per categories\n",
    "- Length of tweets\n",
    "- Box plots\n",
    "- Distribution bar graphs\n",
    "- Summary of Stats\n",
    "- Correlation"
   ]
  },
  {
   "cell_type": "markdown",
   "id": "22e95971",
   "metadata": {},
   "source": [
    "### 3.2.1 Length tweets"
   ]
  },
  {
   "cell_type": "code",
   "execution_count": 270,
   "id": "eb732a6d",
   "metadata": {},
   "outputs": [],
   "source": [
    "length = [len(tweet) for tweet in df_train['message']]\n",
    "df_train['length'] = length"
   ]
  },
  {
   "cell_type": "markdown",
   "id": "4bb75785",
   "metadata": {},
   "source": [
    "### 3.2.2 Box plot"
   ]
  },
  {
   "cell_type": "code",
   "execution_count": 271,
   "id": "f9eae2de",
   "metadata": {},
   "outputs": [
    {
     "data": {
      "image/png": "[encoded data removed]",
      "text/plain": [
       "<Figure size 900x400 with 1 Axes>"
      ]
     },
     "metadata": {},
     "output_type": "display_data"
    }
   ],
   "source": [
    "#creating class subsets for the datase\n",
    "\n",
    "df_anti = df_train.copy()[df_train['sentiment'] == -1]\n",
    "df_neutral = df_train.copy()[df_train['sentiment'] == 0]\n",
    "df_pro = df_train.copy()[df_train['sentiment'] == 1]\n",
    "df_news = df_train.copy()[df_train['sentiment'] == 2]\n",
    "\n",
    "#storing the size data in separate variables\n",
    "\n",
    "pro_len = df_pro['length']\n",
    "neutral_len = df_neutral['length']\n",
    "anti_len = df_anti['length']\n",
    "news_len = df_news['length']\n",
    "data_len = df_train['length']\n",
    "\n",
    "#creating a list of all the length datasets\n",
    "\n",
    "len_data = [pro_len, anti_len, neutral_len, news_len, data_len]\n",
    "\n",
    "# Create a figure and axis\n",
    "fig, ax = plt.subplots(figsize=(9,4))\n",
    "\n",
    "# Create the box plots\n",
    "ax.boxplot(len_data, vert=False)\n",
    "\n",
    "# Set the labels for each box plot\n",
    "labels = ['pro', 'anti', 'neutral', 'news', 'main data']\n",
    "ax.set_yticklabels(labels)\n",
    "\n",
    "# Set the title and axis labels\n",
    "plt.title('Box and Whiskers Diagram For Tweet Lengths Per Category')\n",
    "plt.xlabel('Length In Characters')\n",
    "plt.ylabel('Class of Tweet')\n",
    "\n",
    "# Show the plot\n",
    "plt.show()"
   ]
  },
  {
   "cell_type": "markdown",
   "id": "822d09f5",
   "metadata": {},
   "source": [
    "### 3.2.3 Summary"
   ]
  },
  {
   "cell_type": "code",
   "execution_count": 272,
   "id": "48a09107",
   "metadata": {},
   "outputs": [
    {
     "name": "stdout",
     "output_type": "stream",
     "text": [
      "mean of pro-climate is:   129.13\n"
     ]
    },
    {
     "data": {
      "text/plain": [
       "count    8530.00\n",
       "mean      129.13\n",
       "std        20.00\n",
       "min        22.00\n",
       "25%       123.00\n",
       "50%       137.00\n",
       "75%       140.00\n",
       "max       211.00\n",
       "Name: length, dtype: float64"
      ]
     },
     "execution_count": 272,
     "metadata": {},
     "output_type": "execute_result"
    }
   ],
   "source": [
    "print('mean of pro-climate is:  ', round(df_pro['length'].mean(),2))\n",
    "round(df_pro['length'].describe(),2)"
   ]
  },
  {
   "cell_type": "code",
   "execution_count": 273,
   "id": "b5d00d80",
   "metadata": {},
   "outputs": [
    {
     "name": "stdout",
     "output_type": "stream",
     "text": [
      "mean of anti-climate is:   123.96\n"
     ]
    },
    {
     "data": {
      "text/plain": [
       "count    1296.00\n",
       "mean      123.96\n",
       "std        24.38\n",
       "min        34.00\n",
       "25%       114.00\n",
       "50%       135.00\n",
       "75%       140.00\n",
       "max       166.00\n",
       "Name: length, dtype: float64"
      ]
     },
     "execution_count": 273,
     "metadata": {},
     "output_type": "execute_result"
    }
   ],
   "source": [
    "print('mean of anti-climate is:  ', round(df_anti['length'].mean(),2))\n",
    "round(df_anti['length'].describe(),2)"
   ]
  },
  {
   "cell_type": "code",
   "execution_count": 274,
   "id": "c379a098",
   "metadata": {},
   "outputs": [
    {
     "name": "stdout",
     "output_type": "stream",
     "text": [
      "mean of neutral-climate is:   111.12\n"
     ]
    },
    {
     "data": {
      "text/plain": [
       "count    2353.00\n",
       "mean      111.12\n",
       "std        32.46\n",
       "min        14.00\n",
       "25%        85.00\n",
       "50%       124.00\n",
       "75%       139.00\n",
       "max       174.00\n",
       "Name: length, dtype: float64"
      ]
     },
     "execution_count": 274,
     "metadata": {},
     "output_type": "execute_result"
    }
   ],
   "source": [
    "print('mean of neutral-climate is:  ', round(df_neutral['length'].mean(),2))\n",
    "round(df_neutral['length'].describe(),2)"
   ]
  },
  {
   "cell_type": "code",
   "execution_count": 275,
   "id": "63dbf0ba",
   "metadata": {},
   "outputs": [
    {
     "name": "stdout",
     "output_type": "stream",
     "text": [
      "mean of news is:   120.0\n"
     ]
    },
    {
     "data": {
      "text/plain": [
       "count    3640.00\n",
       "mean      120.00\n",
       "std        19.03\n",
       "min        48.00\n",
       "25%       108.00\n",
       "50%       123.00\n",
       "75%       137.00\n",
       "max       166.00\n",
       "Name: length, dtype: float64"
      ]
     },
     "execution_count": 275,
     "metadata": {},
     "output_type": "execute_result"
    }
   ],
   "source": [
    "print('mean of news is:  ', round(df_news['length'].mean(),2))\n",
    "round(df_news['length'].describe(),2)"
   ]
  },
  {
   "cell_type": "markdown",
   "id": "af29915b",
   "metadata": {},
   "source": [
    "### 3.2.4 Bar graph"
   ]
  },
  {
   "cell_type": "code",
   "execution_count": 276,
   "id": "93199a29",
   "metadata": {},
   "outputs": [
    {
     "data": {
      "image/png": "[encoded data removed]",
      "text/plain": [
       "<Figure size 900x400 with 1 Axes>"
      ]
     },
     "metadata": {},
     "output_type": "display_data"
    }
   ],
   "source": [
    "plt.figure( figsize=(9,4))\n",
    "plt.hist(df_train['length'])\n",
    "plt.title(\"Distribution of Tweet Lengths\")\n",
    "plt.xlabel(\"Length of Tweet In Charaters\") #X-label of the data\n",
    "plt.ylabel(\"Number of Tweets\")      #Y_label of the data\n",
    "plt.show()"
   ]
  },
  {
   "cell_type": "markdown",
   "id": "cf8f0c0b",
   "metadata": {},
   "source": [
    "### 3.2.5 Correlation between length of tweets and sentiment "
   ]
  },
  {
   "cell_type": "code",
   "execution_count": 277,
   "id": "dd91f2e0",
   "metadata": {},
   "outputs": [
    {
     "name": "stderr",
     "output_type": "stream",
     "text": [
      "C:\\Users\\admin\\AppData\\Local\\Temp\\ipykernel_15912\\28272172.py:2: FutureWarning: The default value of numeric_only in DataFrame.corr is deprecated. In a future version, it will default to False. Select only valid columns or specify the value of numeric_only to silence this warning.\n",
      "  correlation_matrix = df_train.corr()\n"
     ]
    },
    {
     "data": {
      "text/plain": [
       "Text(0.5, 1.0, 'Correlation with sentiments')"
      ]
     },
     "execution_count": 277,
     "metadata": {},
     "output_type": "execute_result"
    },
    {
     "data": {
      "image/png": "[encoded data removed]",
      "text/plain": [
       "<Figure size 700x500 with 2 Axes>"
      ]
     },
     "metadata": {},
     "output_type": "display_data"
    }
   ],
   "source": [
    "# Calculate the correlation matrix\n",
    "correlation_matrix = df_train.corr()\n",
    "\n",
    "# Calculate the correlations with the target variable\n",
    "target_correlations = correlation_matrix['sentiment']\n",
    "\n",
    "# Sort the features by their correlations with the target variable\n",
    "sorted_features = target_correlations.abs().sort_values(ascending=False).index\n",
    "\n",
    "# Reorder the correlation matrix\n",
    "sorted_corr_matrix = correlation_matrix.loc[sorted_features, sorted_features]\n",
    "\n",
    "# Create a heatmap for the sorted correlations without annotations\n",
    "plt.figure(figsize=(7, 5))\n",
    "sns.heatmap(sorted_corr_matrix, cmap='coolwarm')\n",
    "plt.title('Correlation with sentiments')"
   ]
  },
  {
   "cell_type": "markdown",
   "id": "cbc4ebbf",
   "metadata": {},
   "source": [
    "<a id=\"four\"></a>\n",
    "\n",
    "## 4. Feature Engineering\n",
    "\n",
    "<a class=\"anchor\" id=\"1.1\"></a>\n",
    "<a href=#cont>Back to Table of Contents</a>\n",
    "\n",
    "---\n",
    "\n",
    "| ⚡ Description: Data engineering ⚡                                                                                        |\n",
    "| :------------------------------------------------------------------------------------------------------------------------- |\n",
    "| In this section you are required to: clean the dataset, and possibly create new features - as identified in the EDA phase. |\n",
    "\n",
    "---\n"
   ]
  },
  {
   "cell_type": "markdown",
   "id": "de4e296b",
   "metadata": {},
   "source": [
    "Tweet id column has no siginificance in the project as it only shows unique twitter number"
   ]
  },
  {
   "cell_type": "code",
   "execution_count": 328,
   "id": "e61073c2",
   "metadata": {},
   "outputs": [
    {
     "data": {
      "text/html": [
       "<div>\n",
       "<style scoped>\n",
       "    .dataframe tbody tr th:only-of-type {\n",
       "        vertical-align: middle;\n",
       "    }\n",
       "\n",
       "    .dataframe tbody tr th {\n",
       "        vertical-align: top;\n",
       "    }\n",
       "\n",
       "    .dataframe thead th {\n",
       "        text-align: right;\n",
       "    }\n",
       "</style>\n",
       "<table border=\"1\" class=\"dataframe\">\n",
       "  <thead>\n",
       "    <tr style=\"text-align: right;\">\n",
       "      <th></th>\n",
       "      <th>sentiment</th>\n",
       "      <th>message</th>\n",
       "      <th>CleanMessage</th>\n",
       "      <th>length</th>\n",
       "      <th>tokens</th>\n",
       "    </tr>\n",
       "  </thead>\n",
       "  <tbody>\n",
       "    <tr>\n",
       "      <th>0</th>\n",
       "      <td>1</td>\n",
       "      <td>PolySciMajor EPA chief doesn't think carbon di...</td>\n",
       "      <td>[polyscimajor, epa, chief, doesnt, think, carb...</td>\n",
       "      <td>140</td>\n",
       "      <td>[polyscimajor, epa, chief, doesnt, think, carb...</td>\n",
       "    </tr>\n",
       "    <tr>\n",
       "      <th>1</th>\n",
       "      <td>1</td>\n",
       "      <td>It's not like we lack evidence of anthropogeni...</td>\n",
       "      <td>[like, lack, evidence, anthropogenic, global, ...</td>\n",
       "      <td>62</td>\n",
       "      <td>[like, lack, evidence, anthropogenic, global, ...</td>\n",
       "    </tr>\n",
       "    <tr>\n",
       "      <th>2</th>\n",
       "      <td>2</td>\n",
       "      <td>RT @RawStory: Researchers say we have three ye...</td>\n",
       "      <td>[rt, rawstory, researchers, say, three, years,...</td>\n",
       "      <td>140</td>\n",
       "      <td>[rt, rawstory, researchers, say, three, years,...</td>\n",
       "    </tr>\n",
       "    <tr>\n",
       "      <th>3</th>\n",
       "      <td>1</td>\n",
       "      <td>#TodayinMaker# WIRED : 2016 was a pivotal year...</td>\n",
       "      <td>[todayinmaker, wired, pivotal, year, war, clim...</td>\n",
       "      <td>99</td>\n",
       "      <td>[todayinmaker, wired, pivotal, year, war, clim...</td>\n",
       "    </tr>\n",
       "    <tr>\n",
       "      <th>4</th>\n",
       "      <td>1</td>\n",
       "      <td>RT @SoyNovioDeTodas: It's 2016, and a racist, ...</td>\n",
       "      <td>[rt, soynoviodetodas, racist, sexist, climate,...</td>\n",
       "      <td>122</td>\n",
       "      <td>[rt, soynoviodetodas, racist, sexist, climate,...</td>\n",
       "    </tr>\n",
       "  </tbody>\n",
       "</table>\n",
       "</div>"
      ],
      "text/plain": [
       "   sentiment                                            message  \\\n",
       "0          1  PolySciMajor EPA chief doesn't think carbon di...   \n",
       "1          1  It's not like we lack evidence of anthropogeni...   \n",
       "2          2  RT @RawStory: Researchers say we have three ye...   \n",
       "3          1  #TodayinMaker# WIRED : 2016 was a pivotal year...   \n",
       "4          1  RT @SoyNovioDeTodas: It's 2016, and a racist, ...   \n",
       "\n",
       "                                        CleanMessage  length  \\\n",
       "0  [polyscimajor, epa, chief, doesnt, think, carb...     140   \n",
       "1  [like, lack, evidence, anthropogenic, global, ...      62   \n",
       "2  [rt, rawstory, researchers, say, three, years,...     140   \n",
       "3  [todayinmaker, wired, pivotal, year, war, clim...      99   \n",
       "4  [rt, soynoviodetodas, racist, sexist, climate,...     122   \n",
       "\n",
       "                                              tokens  \n",
       "0  [polyscimajor, epa, chief, doesnt, think, carb...  \n",
       "1  [like, lack, evidence, anthropogenic, global, ...  \n",
       "2  [rt, rawstory, researchers, say, three, years,...  \n",
       "3  [todayinmaker, wired, pivotal, year, war, clim...  \n",
       "4  [rt, soynoviodetodas, racist, sexist, climate,...  "
      ]
     },
     "execution_count": 328,
     "metadata": {},
     "output_type": "execute_result"
    }
   ],
   "source": [
    "df_train.head()"
   ]
  },
  {
   "cell_type": "code",
   "execution_count": 279,
   "id": "c1303532",
   "metadata": {},
   "outputs": [
    {
     "data": {
      "text/html": [
       "<div>\n",
       "<style scoped>\n",
       "    .dataframe tbody tr th:only-of-type {\n",
       "        vertical-align: middle;\n",
       "    }\n",
       "\n",
       "    .dataframe tbody tr th {\n",
       "        vertical-align: top;\n",
       "    }\n",
       "\n",
       "    .dataframe thead th {\n",
       "        text-align: right;\n",
       "    }\n",
       "</style>\n",
       "<table border=\"1\" class=\"dataframe\">\n",
       "  <thead>\n",
       "    <tr style=\"text-align: right;\">\n",
       "      <th></th>\n",
       "      <th>sentiment</th>\n",
       "      <th>message</th>\n",
       "      <th>CleanMessage</th>\n",
       "      <th>length</th>\n",
       "    </tr>\n",
       "  </thead>\n",
       "  <tbody>\n",
       "    <tr>\n",
       "      <th>0</th>\n",
       "      <td>1</td>\n",
       "      <td>PolySciMajor EPA chief doesn't think carbon di...</td>\n",
       "      <td>polyscimajor epa chief doesnt think carbon dio...</td>\n",
       "      <td>140</td>\n",
       "    </tr>\n",
       "    <tr>\n",
       "      <th>1</th>\n",
       "      <td>1</td>\n",
       "      <td>It's not like we lack evidence of anthropogeni...</td>\n",
       "      <td>like lack evidence anthropogenic global warming</td>\n",
       "      <td>62</td>\n",
       "    </tr>\n",
       "    <tr>\n",
       "      <th>2</th>\n",
       "      <td>2</td>\n",
       "      <td>RT @RawStory: Researchers say we have three ye...</td>\n",
       "      <td>rt rawstory researchers say three years act cl...</td>\n",
       "      <td>140</td>\n",
       "    </tr>\n",
       "    <tr>\n",
       "      <th>3</th>\n",
       "      <td>1</td>\n",
       "      <td>#TodayinMaker# WIRED : 2016 was a pivotal year...</td>\n",
       "      <td>todayinmaker wired pivotal year war climate ch...</td>\n",
       "      <td>99</td>\n",
       "    </tr>\n",
       "    <tr>\n",
       "      <th>4</th>\n",
       "      <td>1</td>\n",
       "      <td>RT @SoyNovioDeTodas: It's 2016, and a racist, ...</td>\n",
       "      <td>rt soynoviodetodas racist sexist climate chang...</td>\n",
       "      <td>122</td>\n",
       "    </tr>\n",
       "  </tbody>\n",
       "</table>\n",
       "</div>"
      ],
      "text/plain": [
       "   sentiment                                            message  \\\n",
       "0          1  PolySciMajor EPA chief doesn't think carbon di...   \n",
       "1          1  It's not like we lack evidence of anthropogeni...   \n",
       "2          2  RT @RawStory: Researchers say we have three ye...   \n",
       "3          1  #TodayinMaker# WIRED : 2016 was a pivotal year...   \n",
       "4          1  RT @SoyNovioDeTodas: It's 2016, and a racist, ...   \n",
       "\n",
       "                                        CleanMessage  length  \n",
       "0  polyscimajor epa chief doesnt think carbon dio...     140  \n",
       "1    like lack evidence anthropogenic global warming      62  \n",
       "2  rt rawstory researchers say three years act cl...     140  \n",
       "3  todayinmaker wired pivotal year war climate ch...      99  \n",
       "4  rt soynoviodetodas racist sexist climate chang...     122  "
      ]
     },
     "execution_count": 279,
     "metadata": {},
     "output_type": "execute_result"
    }
   ],
   "source": [
    "df_train = df_train.drop('tweetid', axis=1)\n",
    "df_train.head()"
   ]
  },
  {
   "cell_type": "markdown",
   "id": "0c5f89de",
   "metadata": {},
   "source": [
    "### Cleaning also included:\n",
    "- Tokenization\n",
    "- Stemming\n",
    "- Lemmatization"
   ]
  },
  {
   "cell_type": "markdown",
   "id": "bc1fa699",
   "metadata": {},
   "source": [
    "#### Applying Tokenisation"
   ]
  },
  {
   "cell_type": "markdown",
   "id": "7ad80eba",
   "metadata": {},
   "source": [
    "A tokeniser divides text into a sequence of tokens, which roughly correspond to \"words\""
   ]
  },
  {
   "cell_type": "code",
   "execution_count": 280,
   "id": "f6e01d43",
   "metadata": {},
   "outputs": [
    {
     "data": {
      "text/plain": [
       "0    [polyscimajor, epa, chief, doesnt, think, carb...\n",
       "1    [like, lack, evidence, anthropogenic, global, ...\n",
       "2    [rt, rawstory, researchers, say, three, years,...\n",
       "3    [todayinmaker, wired, pivotal, year, war, clim...\n",
       "4    [rt, soynoviodetodas, racist, sexist, climate,...\n",
       "Name: CleanMessage, dtype: object"
      ]
     },
     "execution_count": 280,
     "metadata": {},
     "output_type": "execute_result"
    }
   ],
   "source": [
    "from nltk.tokenize import word_tokenize, TreebankWordTokenizer\n",
    "tokeniser = TreebankWordTokenizer()\n",
    "df_train['CleanMessage'] = df_train['CleanMessage'].apply(tokeniser.tokenize)\n",
    "df_train['CleanMessage'].head()"
   ]
  },
  {
   "cell_type": "markdown",
   "id": "dc3b5766",
   "metadata": {},
   "source": [
    "#### Applying Stemming"
   ]
  },
  {
   "cell_type": "markdown",
   "id": "65c5c6bc",
   "metadata": {},
   "source": [
    "Stemming is the process of transforming to the root word. It uses an algorithm that removes common word-endings from English words, such as “ly,” “es,” “ed,” and “s.”"
   ]
  },
  {
   "cell_type": "code",
   "execution_count": 281,
   "id": "57de8555",
   "metadata": {},
   "outputs": [],
   "source": [
    "st = nltk.PorterStemmer()\n",
    "def stemming_on_text(data):\n",
    "    text = [st.stem(word) for word in data]\n",
    "    return data"
   ]
  },
  {
   "cell_type": "code",
   "execution_count": 282,
   "id": "80df6278",
   "metadata": {},
   "outputs": [
    {
     "data": {
      "text/plain": [
       "0    [polyscimajor, epa, chief, doesnt, think, carb...\n",
       "1    [like, lack, evidence, anthropogenic, global, ...\n",
       "2    [rt, rawstory, researchers, say, three, years,...\n",
       "3    [todayinmaker, wired, pivotal, year, war, clim...\n",
       "4    [rt, soynoviodetodas, racist, sexist, climate,...\n",
       "Name: tokens, dtype: object"
      ]
     },
     "execution_count": 282,
     "metadata": {},
     "output_type": "execute_result"
    }
   ],
   "source": [
    "df_train['tokens']= df_train['CleanMessage'].apply(lambda x: stemming_on_text(x))\n",
    "df_train['tokens'].head()"
   ]
  },
  {
   "cell_type": "markdown",
   "id": "fe47eab8",
   "metadata": {},
   "source": [
    "#### Applying Lemmatization"
   ]
  },
  {
   "cell_type": "markdown",
   "id": "7bd3f6f2",
   "metadata": {},
   "source": [
    "Lemmatizing is the process of grouping words of similar meaning together. So, your root stem, meaning the word you end up with, is not something you can just look up in a dictionary, but you can look up a lemma."
   ]
  },
  {
   "cell_type": "code",
   "execution_count": 283,
   "id": "5209787e",
   "metadata": {},
   "outputs": [],
   "source": [
    "lm = nltk.WordNetLemmatizer()\n",
    "def lemmatizer_on_text(data):\n",
    "    text = [lm.lemmatize(word) for word in data]\n",
    "    return data"
   ]
  },
  {
   "cell_type": "code",
   "execution_count": 284,
   "id": "defd3000",
   "metadata": {},
   "outputs": [
    {
     "data": {
      "text/plain": [
       "0    [polyscimajor, epa, chief, doesnt, think, carb...\n",
       "1    [like, lack, evidence, anthropogenic, global, ...\n",
       "2    [rt, rawstory, researchers, say, three, years,...\n",
       "3    [todayinmaker, wired, pivotal, year, war, clim...\n",
       "4    [rt, soynoviodetodas, racist, sexist, climate,...\n",
       "Name: CleanMessage, dtype: object"
      ]
     },
     "execution_count": 284,
     "metadata": {},
     "output_type": "execute_result"
    }
   ],
   "source": [
    "df_train['CleanMessage'] = df_train['CleanMessage'].apply(lambda x: lemmatizer_on_text(x))\n",
    "df_train['CleanMessage'].head()"
   ]
  },
  {
   "cell_type": "markdown",
   "id": "03945024",
   "metadata": {},
   "source": [
    "We added the following features to modify our and for more insights:\n",
    "- Bag of words\n",
    "- N-grams\n",
    "- TFIDVectorizer"
   ]
  },
  {
   "cell_type": "markdown",
   "id": "d0537e89",
   "metadata": {},
   "source": [
    "### Text Feature extraction"
   ]
  },
  {
   "cell_type": "markdown",
   "id": "e5933093",
   "metadata": {},
   "source": [
    "Text feature extraction is the process of transforming what is essentially a list of words into a feature set that is usable by a classifier. The NLTK classifiers expect dict style feature sets, so we must therefore transform our text into a dict"
   ]
  },
  {
   "cell_type": "markdown",
   "id": "cec5fbc2",
   "metadata": {},
   "source": [
    "#### Bag of word"
   ]
  },
  {
   "cell_type": "markdown",
   "id": "e80c48c6",
   "metadata": {},
   "source": [
    "The Bag of Words model is the simplest method; it constructs a word presence feature set from all the words in the text, indicating the number of times each word has appeared."
   ]
  },
  {
   "cell_type": "markdown",
   "id": "4b0d8231",
   "metadata": {},
   "source": [
    "#### Comment\n",
    "\n",
    "* There are 15819 rows and 24819 features for each word"
   ]
  },
  {
   "cell_type": "code",
   "execution_count": 287,
   "id": "597e6cfc",
   "metadata": {},
   "outputs": [],
   "source": [
    "def bag_of_words_count(words, word_dict={}):\n",
    "    \"\"\" this function takes in a list of words and returns a dictionary \n",
    "        with each word as a key, and the value represents the number of \n",
    "        times that word appeared\"\"\"\n",
    "    for word in words:\n",
    "        if word in word_dict.keys():\n",
    "            word_dict[word] += 1\n",
    "        else:\n",
    "            word_dict[word] = 1\n",
    "    return word_dict"
   ]
  },
  {
   "cell_type": "code",
   "execution_count": 288,
   "id": "4b7be734",
   "metadata": {},
   "outputs": [
    {
     "name": "stdout",
     "output_type": "stream",
     "text": [
      "[1, 2, 0, -1]\n"
     ]
    }
   ],
   "source": [
    "unique_sentiment = list(df_train[\"sentiment\"].unique())\n",
    "print(unique_sentiment)"
   ]
  },
  {
   "cell_type": "code",
   "execution_count": 289,
   "id": "ca15eba0",
   "metadata": {},
   "outputs": [
    {
     "data": {
      "text/html": [
       "<div>\n",
       "<style scoped>\n",
       "    .dataframe tbody tr th:only-of-type {\n",
       "        vertical-align: middle;\n",
       "    }\n",
       "\n",
       "    .dataframe tbody tr th {\n",
       "        vertical-align: top;\n",
       "    }\n",
       "\n",
       "    .dataframe thead th {\n",
       "        text-align: right;\n",
       "    }\n",
       "</style>\n",
       "<table border=\"1\" class=\"dataframe\">\n",
       "  <thead>\n",
       "    <tr style=\"text-align: right;\">\n",
       "      <th></th>\n",
       "      <th>sentiment</th>\n",
       "      <th>message</th>\n",
       "      <th>CleanMessage</th>\n",
       "      <th>length</th>\n",
       "      <th>tokens</th>\n",
       "    </tr>\n",
       "  </thead>\n",
       "  <tbody>\n",
       "    <tr>\n",
       "      <th>0</th>\n",
       "      <td>1</td>\n",
       "      <td>PolySciMajor EPA chief doesn't think carbon di...</td>\n",
       "      <td>[polyscimajor, epa, chief, doesnt, think, carb...</td>\n",
       "      <td>140</td>\n",
       "      <td>[polyscimajor, epa, chief, doesnt, think, carb...</td>\n",
       "    </tr>\n",
       "    <tr>\n",
       "      <th>1</th>\n",
       "      <td>1</td>\n",
       "      <td>It's not like we lack evidence of anthropogeni...</td>\n",
       "      <td>[like, lack, evidence, anthropogenic, global, ...</td>\n",
       "      <td>62</td>\n",
       "      <td>[like, lack, evidence, anthropogenic, global, ...</td>\n",
       "    </tr>\n",
       "    <tr>\n",
       "      <th>2</th>\n",
       "      <td>2</td>\n",
       "      <td>RT @RawStory: Researchers say we have three ye...</td>\n",
       "      <td>[rt, rawstory, researchers, say, three, years,...</td>\n",
       "      <td>140</td>\n",
       "      <td>[rt, rawstory, researchers, say, three, years,...</td>\n",
       "    </tr>\n",
       "    <tr>\n",
       "      <th>3</th>\n",
       "      <td>1</td>\n",
       "      <td>#TodayinMaker# WIRED : 2016 was a pivotal year...</td>\n",
       "      <td>[todayinmaker, wired, pivotal, year, war, clim...</td>\n",
       "      <td>99</td>\n",
       "      <td>[todayinmaker, wired, pivotal, year, war, clim...</td>\n",
       "    </tr>\n",
       "    <tr>\n",
       "      <th>4</th>\n",
       "      <td>1</td>\n",
       "      <td>RT @SoyNovioDeTodas: It's 2016, and a racist, ...</td>\n",
       "      <td>[rt, soynoviodetodas, racist, sexist, climate,...</td>\n",
       "      <td>122</td>\n",
       "      <td>[rt, soynoviodetodas, racist, sexist, climate,...</td>\n",
       "    </tr>\n",
       "  </tbody>\n",
       "</table>\n",
       "</div>"
      ],
      "text/plain": [
       "   sentiment                                            message  \\\n",
       "0          1  PolySciMajor EPA chief doesn't think carbon di...   \n",
       "1          1  It's not like we lack evidence of anthropogeni...   \n",
       "2          2  RT @RawStory: Researchers say we have three ye...   \n",
       "3          1  #TodayinMaker# WIRED : 2016 was a pivotal year...   \n",
       "4          1  RT @SoyNovioDeTodas: It's 2016, and a racist, ...   \n",
       "\n",
       "                                        CleanMessage  length  \\\n",
       "0  [polyscimajor, epa, chief, doesnt, think, carb...     140   \n",
       "1  [like, lack, evidence, anthropogenic, global, ...      62   \n",
       "2  [rt, rawstory, researchers, say, three, years,...     140   \n",
       "3  [todayinmaker, wired, pivotal, year, war, clim...      99   \n",
       "4  [rt, soynoviodetodas, racist, sexist, climate,...     122   \n",
       "\n",
       "                                              tokens  \n",
       "0  [polyscimajor, epa, chief, doesnt, think, carb...  \n",
       "1  [like, lack, evidence, anthropogenic, global, ...  \n",
       "2  [rt, rawstory, researchers, say, three, years,...  \n",
       "3  [todayinmaker, wired, pivotal, year, war, clim...  \n",
       "4  [rt, soynoviodetodas, racist, sexist, climate,...  "
      ]
     },
     "execution_count": 289,
     "metadata": {},
     "output_type": "execute_result"
    }
   ],
   "source": [
    "df_train.head()"
   ]
  },
  {
   "cell_type": "code",
   "execution_count": 290,
   "id": "5f41be8a",
   "metadata": {},
   "outputs": [],
   "source": [
    "personality = {}\n",
    "for pp in unique_sentiment:\n",
    "    df = df_train.groupby('sentiment')\n",
    "    personality[pp] = {}\n",
    "    for row in df.get_group(pp)['CleanMessage']:\n",
    "        personality[pp] = bag_of_words_count(row, personality[pp])        "
   ]
  },
  {
   "cell_type": "code",
   "execution_count": 291,
   "id": "5af9aea8",
   "metadata": {},
   "outputs": [],
   "source": [
    "all_words = set()\n",
    "for pp in unique_sentiment:\n",
    "    for word in personality[pp]:\n",
    "        all_words.add(word)"
   ]
  },
  {
   "cell_type": "code",
   "execution_count": 292,
   "id": "cd2fd982",
   "metadata": {},
   "outputs": [],
   "source": [
    "personality['all'] = {}\n",
    "for pp in unique_sentiment:    \n",
    "    for word in all_words:\n",
    "        if word in personality[pp].keys():\n",
    "            if word in personality['all']:\n",
    "                personality['all'][word] += personality[pp][word]\n",
    "            else:\n",
    "                personality['all'][word] = personality[pp][word]"
   ]
  },
  {
   "cell_type": "code",
   "execution_count": 293,
   "id": "6904dc5e",
   "metadata": {},
   "outputs": [
    {
     "data": {
      "text/plain": [
       "192703"
      ]
     },
     "execution_count": 293,
     "metadata": {},
     "output_type": "execute_result"
    }
   ],
   "source": [
    "total_words = sum([v for v in personality['all'].values()])\n",
    "total_words"
   ]
  },
  {
   "cell_type": "code",
   "execution_count": 294,
   "id": "f1725fbd",
   "metadata": {},
   "outputs": [
    {
     "data": {
      "text/plain": [
       "Text(0.5, 0, 'word frequency')"
      ]
     },
     "execution_count": 294,
     "metadata": {},
     "output_type": "execute_result"
    },
    {
     "data": {
      "image/png": "[encoded data removed]",
      "text/plain": [
       "<Figure size 640x480 with 1 Axes>"
      ]
     },
     "metadata": {},
     "output_type": "display_data"
    }
   ],
   "source": [
    "all_words = plt.hist([v for v in personality['all'].values() if v < 10],bins=8)\n",
    "plt.ylabel(\"# of words\")\n",
    "plt.xlabel(\"word frequency\")"
   ]
  },
  {
   "cell_type": "code",
   "execution_count": 295,
   "id": "bf4089e4",
   "metadata": {},
   "outputs": [
    {
     "data": {
      "text/plain": [
       "14621"
      ]
     },
     "execution_count": 295,
     "metadata": {},
     "output_type": "execute_result"
    }
   ],
   "source": [
    "len([v for v in personality['all'].values() if v == 1])"
   ]
  },
  {
   "cell_type": "code",
   "execution_count": 296,
   "id": "2c66ab03",
   "metadata": {},
   "outputs": [
    {
     "data": {
      "text/plain": [
       "164"
      ]
     },
     "execution_count": 296,
     "metadata": {},
     "output_type": "execute_result"
    }
   ],
   "source": [
    "len([v for v in personality['all'].values() if v == 10])"
   ]
  },
  {
   "cell_type": "code",
   "execution_count": 297,
   "id": "f301ee7a",
   "metadata": {},
   "outputs": [
    {
     "name": "stdout",
     "output_type": "stream",
     "text": [
      "['brother', 'plumvillageom', 'struc', 'mxschell', 'fionaskywalker', 'fcmdcausley', 'primaries', 'yeseniatwigs', 'sidrurana', 'streams', 'jembloomfield', 'harsherheat', 'aj', 'tokimonsta', 'arcticlive', 'lodizzle', 'callieerwin', 'predators', 'ignoble', 'marknelsenkptv', 'daysofshame', 'herding', 'shreec', 'rainbows', 'tragedia', 'donnaphoto', 'pagesclimate', 'decisively', 'crim', 'iamsambee', 'sobering', 'champ', 'huffpostuktech', 'chnges', 'galivestock', 'techtoday', 'bsnlcorporate', 'aligning', 'assad', 'raullabrador', 'keepalive', 'buggwen', 'insanity', 'tulips', 'uni', 'posionoat', 'districts', 'lizhansonndp', 'ericajong', 'intend', 'packs', 'burdett', 'ecoconscious', 'cem', 'torturing', 'misandrism', 'adkeducation', 'vmataaa', 'natgeomag', 'doomers', 'felicitycarter', 'femmenucleaire', 'thenightridah', 'hellaroasty', 'whirlwind', 'framed', 'addresed', 'gregthykipp', 'kstreethipster', 'nosidonlook', 'johnfdaley', 'shoved', 'sylviaearle', 'davidsheen', 'brin', 'hcombs', 'rstiggers', 'bozeman', 'jermny', 'smytho', 'forgetdup', 'mediccaptfm', 'rickklein', 'decay', 'prophetic', 'ucdavis', 'deportation', 'anothers', 'lena', 'dieschbourgc', 'forachelp', 'vbiruta', 'columbus', 'azeemtuba', 'geothermal', 'midwestspitfire', 'producers', 'itsuptous', 'mdsienzant', 'myanmar']\n"
     ]
    }
   ],
   "source": [
    "rare_words = [k for k, v in personality['all'].items() if v==1] \n",
    "print(rare_words[:100])"
   ]
  },
  {
   "cell_type": "code",
   "execution_count": 298,
   "id": "6eb620a4",
   "metadata": {},
   "outputs": [
    {
     "name": "stdout",
     "output_type": "stream",
     "text": [
      "['brother', 'plumvillageom', 'struc', 'mxschell', 'fionaskywalker', 'fcmdcausley', 'primaries', 'yeseniatwigs', 'sidrurana', 'streams', 'jembloomfield', 'harsherheat', 'aj', 'tokimonsta', 'arcticlive', 'lodizzle', 'callieerwin', 'predators', 'ignoble', 'marknelsenkptv', 'daysofshame', 'herding', 'shreec', 'rainbows', 'tragedia', 'donnaphoto', 'pagesclimate', 'decisively', 'crim', 'iamsambee', 'sobering', 'champ', 'huffpostuktech', 'chnges', 'galivestock', 'techtoday', 'bsnlcorporate', 'aligning', 'assad', 'raullabrador', 'keepalive', 'buggwen', 'insanity', 'tulips', 'uni', 'posionoat', 'districts', 'lizhansonndp', 'ericajong', 'intend', 'packs', 'burdett', 'ecoconscious', 'cem', 'torturing', 'misandrism', 'adkeducation', 'vmataaa', 'natgeomag', 'doomers', 'felicitycarter', 'femmenucleaire', 'thenightridah', 'hellaroasty', 'whirlwind', 'framed', 'addresed', 'gregthykipp', 'kstreethipster', 'nosidonlook', 'johnfdaley', 'shoved', 'sylviaearle', 'davidsheen', 'brin', 'hcombs', 'rstiggers', 'bozeman', 'jermny', 'smytho', 'forgetdup', 'mediccaptfm', 'rickklein', 'decay', 'prophetic', 'ucdavis', 'deportation', 'anothers', 'lena', 'dieschbourgc', 'forachelp', 'vbiruta', 'columbus', 'azeemtuba', 'geothermal', 'midwestspitfire', 'producers', 'itsuptous', 'mdsienzant', 'myanmar']\n"
     ]
    }
   ],
   "source": [
    "# Words that appear more than 10 times \n",
    "com_words = [k for k, v in personality['all'].items() if v>10] \n",
    "print(rare_words[:100])"
   ]
  },
  {
   "cell_type": "code",
   "execution_count": 299,
   "id": "ce37d49b",
   "metadata": {},
   "outputs": [
    {
     "name": "stdout",
     "output_type": "stream",
     "text": [
      "2294\n",
      "154064\n"
     ]
    }
   ],
   "source": [
    "# how many words appear more than 10 times?\n",
    "print(len([v for v in personality['all'].values() if v >= 10]))\n",
    "# how many words of the total does that account for?\n",
    "occurs_more_than_10_times = sum([v for v in personality['all'].values() if v >= 10])\n",
    "print(occurs_more_than_10_times)"
   ]
  },
  {
   "cell_type": "code",
   "execution_count": 300,
   "id": "55f73203",
   "metadata": {},
   "outputs": [
    {
     "data": {
      "text/plain": [
       "0.7994893696517439"
      ]
     },
     "execution_count": 300,
     "metadata": {},
     "output_type": "execute_result"
    }
   ],
   "source": [
    "occurs_more_than_10_times/total_words"
   ]
  },
  {
   "cell_type": "code",
   "execution_count": 301,
   "id": "d008b04c",
   "metadata": {},
   "outputs": [
    {
     "data": {
      "text/plain": [
       "['idiots',\n",
       " 'family',\n",
       " 'lose',\n",
       " 'since',\n",
       " 'war',\n",
       " 'get',\n",
       " 'science',\n",
       " 'gravity',\n",
       " 'cars',\n",
       " 'debating',\n",
       " 'regardless',\n",
       " 'ill',\n",
       " 'peace',\n",
       " 'access',\n",
       " 'explore',\n",
       " 'begins',\n",
       " 'mayors',\n",
       " 'failed',\n",
       " 'simply',\n",
       " 'paid',\n",
       " 'halloween',\n",
       " 'uses',\n",
       " 'call',\n",
       " 'bay',\n",
       " 'allow',\n",
       " 'motherboard',\n",
       " 'agreement',\n",
       " 'protection',\n",
       " 'leaders',\n",
       " 'toward',\n",
       " 'unless',\n",
       " 'eu',\n",
       " 'hillaryclinton',\n",
       " 'united',\n",
       " 'continues',\n",
       " 'discussing',\n",
       " 'especially',\n",
       " 'sensanders',\n",
       " 'led',\n",
       " 'india',\n",
       " 'admits',\n",
       " 'taxes',\n",
       " 'ceo',\n",
       " 'settled',\n",
       " 'letter',\n",
       " 'nice',\n",
       " 'inequality',\n",
       " 'deluged',\n",
       " 'alaska',\n",
       " 'envdefensefund',\n",
       " 'reminder',\n",
       " 'unchecked',\n",
       " 'girl',\n",
       " 'dioxide',\n",
       " 'wondering',\n",
       " 'fiction',\n",
       " 'december',\n",
       " 'politickels',\n",
       " 'rather',\n",
       " 'reindeer',\n",
       " 'cdnpoli',\n",
       " 'algore',\n",
       " 'support',\n",
       " 'doubts',\n",
       " 'keeping',\n",
       " 'san',\n",
       " 'chance',\n",
       " 'smart',\n",
       " 'leadership',\n",
       " 'hopes',\n",
       " 'good',\n",
       " 'chicago',\n",
       " 'fire',\n",
       " 'happens',\n",
       " 'bad',\n",
       " 'frankieboyle',\n",
       " 'youre',\n",
       " 'focus',\n",
       " 'launch',\n",
       " 'position',\n",
       " 'f',\n",
       " 'points',\n",
       " 'ddlovato',\n",
       " 'canadian',\n",
       " 'officially',\n",
       " 'urlweb',\n",
       " 'wanted',\n",
       " 'measures',\n",
       " 'right',\n",
       " 'wait',\n",
       " 'weeks',\n",
       " 'turning',\n",
       " 'nonsense',\n",
       " 'bottles',\n",
       " 'ready',\n",
       " 'retweeted',\n",
       " 'maga',\n",
       " 'except',\n",
       " 'https',\n",
       " 'movement',\n",
       " 'gov',\n",
       " 'earthday',\n",
       " 'consequence',\n",
       " 'marriage',\n",
       " 'religion',\n",
       " 'scared',\n",
       " 'death',\n",
       " 'reverse',\n",
       " 'argument',\n",
       " 'la',\n",
       " 'extinct',\n",
       " 'candidate',\n",
       " 'list',\n",
       " 'paris',\n",
       " 'goals',\n",
       " 'disagree',\n",
       " 'claim',\n",
       " 'clinton',\n",
       " 'droughts',\n",
       " 'percent',\n",
       " 'getting',\n",
       " 'driver',\n",
       " 'storms',\n",
       " 'literally',\n",
       " 'richarddawkins',\n",
       " 'joke',\n",
       " 'london',\n",
       " 'destroy',\n",
       " 'another',\n",
       " 'double',\n",
       " 'college',\n",
       " 'kamalaharris',\n",
       " 'sea',\n",
       " 'west',\n",
       " 'launched',\n",
       " 'gave',\n",
       " 'kinda',\n",
       " 'lol',\n",
       " 'mps',\n",
       " 'big',\n",
       " 'st',\n",
       " 'pole',\n",
       " 'pakusalumni',\n",
       " 'based',\n",
       " 'health',\n",
       " 'globe',\n",
       " 'imagine',\n",
       " 'hates',\n",
       " 'jerry',\n",
       " 'shocking',\n",
       " 'funny',\n",
       " 'u',\n",
       " 'disappeared',\n",
       " 'country',\n",
       " 'hit',\n",
       " 'feels',\n",
       " 'canada',\n",
       " 'attorney',\n",
       " 'studying',\n",
       " 'soils',\n",
       " 'preventing',\n",
       " 'nations',\n",
       " 'snow',\n",
       " 'new',\n",
       " 'agree',\n",
       " 'budget',\n",
       " 'election',\n",
       " 'physics',\n",
       " 'vs',\n",
       " 'paying',\n",
       " 'conversation',\n",
       " 'society',\n",
       " 'icymi',\n",
       " 'experts',\n",
       " 'discuss',\n",
       " 'em',\n",
       " 'polar',\n",
       " 'governments',\n",
       " 'excellent',\n",
       " 'waves',\n",
       " 'story',\n",
       " 'failing',\n",
       " 'apple',\n",
       " 'fight',\n",
       " 'spring',\n",
       " 'buzzfeednews',\n",
       " 'caused',\n",
       " 'profit',\n",
       " 'seas',\n",
       " 'wisconsin',\n",
       " 'plus',\n",
       " 'include',\n",
       " 'billnye',\n",
       " 'control',\n",
       " 'mind',\n",
       " 'elect',\n",
       " 'value',\n",
       " 'offers',\n",
       " 'theeconomist',\n",
       " 'smh',\n",
       " 'decision',\n",
       " 'gon',\n",
       " 'think',\n",
       " 'factor',\n",
       " 'sweeping',\n",
       " 'radical',\n",
       " 'term',\n",
       " 'basically',\n",
       " 'hes',\n",
       " 'pr',\n",
       " 'contributor',\n",
       " 'fake',\n",
       " 'school',\n",
       " 'press',\n",
       " 'putting',\n",
       " 'idiot',\n",
       " 'decades',\n",
       " 'interesting',\n",
       " 'cuts',\n",
       " 'becoming',\n",
       " 'beforetheflood',\n",
       " 'wi',\n",
       " 'designed',\n",
       " 'risk',\n",
       " 'clean',\n",
       " 'books',\n",
       " 'reality',\n",
       " 'nuccitelli',\n",
       " 'greenhouse',\n",
       " 'billmckibben',\n",
       " 'millions',\n",
       " 'account',\n",
       " 'little',\n",
       " 'invented',\n",
       " 'people',\n",
       " 'frightening',\n",
       " 'manufacturing',\n",
       " 'bright',\n",
       " 'corrupt',\n",
       " 'wish',\n",
       " 'glad',\n",
       " 'gay',\n",
       " 'levels',\n",
       " 'team',\n",
       " 'accelerate',\n",
       " 'video',\n",
       " 'noaa',\n",
       " 'th',\n",
       " 'parks',\n",
       " 'parent',\n",
       " 'book',\n",
       " 'block',\n",
       " 'lying',\n",
       " 'links',\n",
       " 'takes',\n",
       " 'taxpayers',\n",
       " 'discussions',\n",
       " 'braddjaffy',\n",
       " 'delay',\n",
       " 'building',\n",
       " 'tracker',\n",
       " 'cracks',\n",
       " 'mitigation',\n",
       " 'kurteichenwald',\n",
       " 'whats',\n",
       " 'trial',\n",
       " 'wired',\n",
       " 'link',\n",
       " 'game',\n",
       " 'linked',\n",
       " 'killed',\n",
       " 'slams',\n",
       " 'renewable',\n",
       " 'truth',\n",
       " 'heard',\n",
       " 'realdonaldtrump',\n",
       " 'dramatically',\n",
       " 'much',\n",
       " 'april',\n",
       " 'friend',\n",
       " 'history',\n",
       " 'billion',\n",
       " 'beyond',\n",
       " 'silly',\n",
       " 'potus',\n",
       " 'east',\n",
       " 'actual',\n",
       " 'year',\n",
       " 'presidentelect',\n",
       " 'opportunity',\n",
       " 'low',\n",
       " 'abc',\n",
       " 'rolling',\n",
       " 'large',\n",
       " 'increase',\n",
       " 'manmade',\n",
       " 'mental',\n",
       " 'hoax',\n",
       " 'pretty',\n",
       " 'emergency',\n",
       " 'deaths',\n",
       " 'serious',\n",
       " 'otherwise',\n",
       " 'disaster',\n",
       " 'enters',\n",
       " 'merkel',\n",
       " 'implications',\n",
       " 'spreading',\n",
       " 'bunch',\n",
       " 'thousands',\n",
       " 'wearing',\n",
       " 'wrong',\n",
       " 'false',\n",
       " 'greatbarrierreef',\n",
       " 'living',\n",
       " 'europe',\n",
       " 'husband',\n",
       " 'damage',\n",
       " 'affecting',\n",
       " 'exist',\n",
       " 'bernie',\n",
       " 'heres',\n",
       " 'sen',\n",
       " 'threatens',\n",
       " 'guardian',\n",
       " 'wealth',\n",
       " 'politicians',\n",
       " 'expected',\n",
       " 'gives',\n",
       " 'kill',\n",
       " 'guess',\n",
       " 'morning',\n",
       " 'k',\n",
       " 'concept',\n",
       " 'donald',\n",
       " 'importance',\n",
       " 'gtgt',\n",
       " 'na',\n",
       " 'faster',\n",
       " 'majority',\n",
       " 'taking',\n",
       " 'something',\n",
       " 'cant',\n",
       " 'understanding',\n",
       " 'stopping',\n",
       " 'face',\n",
       " 'remember',\n",
       " 'rising',\n",
       " 'creationist',\n",
       " 'wasnt',\n",
       " 'presidents',\n",
       " 'helped',\n",
       " 'save',\n",
       " 'line',\n",
       " 'lies',\n",
       " 'tank',\n",
       " 'started',\n",
       " 'threaten',\n",
       " 'nearly',\n",
       " 'reading',\n",
       " 'tweeted',\n",
       " 'page',\n",
       " 'true',\n",
       " 'indigenous',\n",
       " 'recent',\n",
       " 'hillary',\n",
       " 'youve',\n",
       " 'step',\n",
       " 'front',\n",
       " 'panel',\n",
       " 'four',\n",
       " 'crap',\n",
       " 'approach',\n",
       " 'diet',\n",
       " 'ccities',\n",
       " 'making',\n",
       " 'natgeo',\n",
       " 'telling',\n",
       " 'transition',\n",
       " 'whole',\n",
       " 'stake',\n",
       " 'bleached',\n",
       " 'etc',\n",
       " 'cancels',\n",
       " 'activist',\n",
       " 'editorial',\n",
       " 'epa',\n",
       " 'reduce',\n",
       " 'amid',\n",
       " 'antiscience',\n",
       " 'gets',\n",
       " 'influence',\n",
       " 'hunger',\n",
       " 'club',\n",
       " 'investment',\n",
       " 'economist',\n",
       " 'town',\n",
       " 'vital',\n",
       " 'kills',\n",
       " 'thats',\n",
       " 'pablorodas',\n",
       " 'dangerous',\n",
       " 'religious',\n",
       " 'taken',\n",
       " 'see',\n",
       " 'want',\n",
       " 'sexist',\n",
       " 'humans',\n",
       " 'gore',\n",
       " 'affects',\n",
       " 'entire',\n",
       " 'amazing',\n",
       " 'copy',\n",
       " 'mattis',\n",
       " 'convince',\n",
       " 'curb',\n",
       " 'small',\n",
       " 'guide',\n",
       " 'skeptic',\n",
       " 'learn',\n",
       " 'rex',\n",
       " 'govt',\n",
       " 'needs',\n",
       " 'disappear',\n",
       " 'seriously',\n",
       " 'answer',\n",
       " 'seen',\n",
       " 'claims',\n",
       " 'resistance',\n",
       " 'fun',\n",
       " 'statement',\n",
       " 'choose',\n",
       " 'fights',\n",
       " 'justintrudeau',\n",
       " 'november',\n",
       " 'g',\n",
       " 'fires',\n",
       " 'denying',\n",
       " 'unstoppable',\n",
       " 'safety',\n",
       " 'mid',\n",
       " 'stop',\n",
       " 'nothing',\n",
       " 'comments',\n",
       " 'remove',\n",
       " 'ap',\n",
       " 'court',\n",
       " 'highest',\n",
       " 'shes',\n",
       " 'references',\n",
       " 'place',\n",
       " 'bans',\n",
       " 'difference',\n",
       " 'dup',\n",
       " 'co',\n",
       " 'humanity',\n",
       " 'anthropogenic',\n",
       " 'dad',\n",
       " 'website',\n",
       " 'abt',\n",
       " 'efforts',\n",
       " 'proposed',\n",
       " 'sector',\n",
       " 'agriculture',\n",
       " 'crime',\n",
       " 'threats',\n",
       " 'climate',\n",
       " 'withdraw',\n",
       " 'wonder',\n",
       " 'development',\n",
       " 'refugees',\n",
       " 'found',\n",
       " 'trump',\n",
       " 'ideas',\n",
       " 'famine',\n",
       " 'cares',\n",
       " 'feeling',\n",
       " 'crop',\n",
       " 'director',\n",
       " 'schools',\n",
       " 'environmentalist',\n",
       " 'terrifying',\n",
       " 'degree',\n",
       " 'potential',\n",
       " 'google',\n",
       " 'visit',\n",
       " 'fucking',\n",
       " 'probably',\n",
       " 'done',\n",
       " 'talk',\n",
       " 'temperatures',\n",
       " 'rate',\n",
       " 'work',\n",
       " 'towards',\n",
       " 'arctic',\n",
       " 'shuts',\n",
       " 'sustainability',\n",
       " 'climatechangrr',\n",
       " 'apparently',\n",
       " 'scam',\n",
       " 'verge',\n",
       " 'ny',\n",
       " 'c',\n",
       " 'guardianeco',\n",
       " 'causing',\n",
       " 'hot',\n",
       " 'star',\n",
       " 'struggle',\n",
       " 'trudeau',\n",
       " 'internet',\n",
       " 'foeus',\n",
       " 'journalists',\n",
       " 'party',\n",
       " 'ya',\n",
       " 'irrefutable',\n",
       " 'six',\n",
       " 'farming',\n",
       " 'knowledge',\n",
       " 'super',\n",
       " 'days',\n",
       " 'whitehouse',\n",
       " 'species',\n",
       " 'barrier',\n",
       " 'eyes',\n",
       " 'ne',\n",
       " 'signs',\n",
       " 'working',\n",
       " 'push',\n",
       " 'next',\n",
       " 'priority',\n",
       " 'cooperation',\n",
       " 'back',\n",
       " 'emails',\n",
       " 'stupid',\n",
       " 'sustainable',\n",
       " 'dear',\n",
       " 'bear',\n",
       " 'ask',\n",
       " 'roberts',\n",
       " 'soil',\n",
       " 'knowing',\n",
       " 'boost',\n",
       " 'theory',\n",
       " 'accept',\n",
       " 'skeptics',\n",
       " 'protesters',\n",
       " 'food',\n",
       " 'warns',\n",
       " 'daily',\n",
       " 'bullshit',\n",
       " 'giving',\n",
       " 'go',\n",
       " 'battle',\n",
       " 'didnt',\n",
       " 'move',\n",
       " 'spread',\n",
       " 'overwhelming',\n",
       " 'anymore',\n",
       " 'fucked',\n",
       " 'predictions',\n",
       " 'fund',\n",
       " 'reporting',\n",
       " 'broke',\n",
       " 'independent',\n",
       " 'worldwildlife',\n",
       " 'teaching',\n",
       " 'early',\n",
       " 'amp',\n",
       " 'general',\n",
       " 'nyt',\n",
       " 'name',\n",
       " 'poll',\n",
       " 'summer',\n",
       " 'often',\n",
       " 'peoples',\n",
       " 'british',\n",
       " 'republican',\n",
       " 'understand',\n",
       " 'law',\n",
       " 'fraud',\n",
       " 'humancaused',\n",
       " 'far',\n",
       " 'loss',\n",
       " 'oklahoma',\n",
       " 'washed',\n",
       " 'say',\n",
       " 'dont',\n",
       " 'talking',\n",
       " 'cnn',\n",
       " 'marks',\n",
       " 'fast',\n",
       " 'thoughts',\n",
       " 'pollution',\n",
       " 'final',\n",
       " 'isis',\n",
       " 'young',\n",
       " 'job',\n",
       " 'endangered',\n",
       " 'duped',\n",
       " 'nasas',\n",
       " 'ignoring',\n",
       " 'martin',\n",
       " 'lets',\n",
       " 'red',\n",
       " 'source',\n",
       " 'pushes',\n",
       " 'either',\n",
       " 'sec',\n",
       " 'university',\n",
       " 'bs',\n",
       " 'former',\n",
       " 'blog',\n",
       " 'equity',\n",
       " 'buying',\n",
       " 'places',\n",
       " 'aint',\n",
       " 'ha',\n",
       " 'sanders',\n",
       " 'two',\n",
       " 'exactly',\n",
       " 'agenda',\n",
       " 'congress',\n",
       " 'huffpostgreen',\n",
       " 'refuting',\n",
       " 'steps',\n",
       " 'published',\n",
       " 'possible',\n",
       " 'melting',\n",
       " 'event',\n",
       " 'read',\n",
       " 'melt',\n",
       " 'first',\n",
       " 'elected',\n",
       " 'trying',\n",
       " 'debates',\n",
       " 'disappearing',\n",
       " 'facing',\n",
       " 'words',\n",
       " 'god',\n",
       " 'piece',\n",
       " 'sick',\n",
       " 'fox',\n",
       " 'really',\n",
       " 'open',\n",
       " 'cabinet',\n",
       " 'florida',\n",
       " 'advance',\n",
       " 'lot',\n",
       " 'deleted',\n",
       " 'golf',\n",
       " 'gone',\n",
       " 'arnold',\n",
       " 'confused',\n",
       " 'request',\n",
       " 'ridiculous',\n",
       " 'interest',\n",
       " 'temperature',\n",
       " 'worse',\n",
       " 'biggest',\n",
       " 'goal',\n",
       " 'worst',\n",
       " 'arent',\n",
       " 'ivankatrump',\n",
       " 'reform',\n",
       " 'natural',\n",
       " 'uncharted',\n",
       " 'acting',\n",
       " 'anyway',\n",
       " 'lgbt',\n",
       " 'forests',\n",
       " 'creating',\n",
       " 'rain',\n",
       " 'spent',\n",
       " 'using',\n",
       " 'pushing',\n",
       " 'sethmacfarlane',\n",
       " 'best',\n",
       " 'wayne',\n",
       " 'official',\n",
       " 'gas',\n",
       " 'greenpeace',\n",
       " 'pause',\n",
       " 'chelseaclinton',\n",
       " 'technology',\n",
       " 'fish',\n",
       " 'finds',\n",
       " 'meeting',\n",
       " 'tech',\n",
       " 'theresa',\n",
       " 'deep',\n",
       " 'mother',\n",
       " 'rare',\n",
       " 'different',\n",
       " 'mark',\n",
       " 'legit',\n",
       " 'sun',\n",
       " 'ft',\n",
       " 'expert',\n",
       " 'wont',\n",
       " 'natgeochannel',\n",
       " 'production',\n",
       " 'community',\n",
       " 'high',\n",
       " 'raising',\n",
       " 'kind',\n",
       " 'regulations',\n",
       " 'victims',\n",
       " 'plan',\n",
       " 'pipeline',\n",
       " 'christmas',\n",
       " 'abandoning',\n",
       " 'air',\n",
       " 'ancient',\n",
       " 'helping',\n",
       " 'likely',\n",
       " 'growing',\n",
       " 'reducing',\n",
       " 'brought',\n",
       " 'effective',\n",
       " 'w',\n",
       " 'behind',\n",
       " 'future',\n",
       " 'personal',\n",
       " 'denies',\n",
       " 'chomsky',\n",
       " 'went',\n",
       " 'happen',\n",
       " 'combating',\n",
       " 'facts',\n",
       " 'highlight',\n",
       " 'problems',\n",
       " 'alias',\n",
       " 'blow',\n",
       " 'tells',\n",
       " 'plants',\n",
       " 'talked',\n",
       " 'paper',\n",
       " 'legacy',\n",
       " 'administrator',\n",
       " 'stopped',\n",
       " 'contradicts',\n",
       " 'understands',\n",
       " 'flooding',\n",
       " 'surprise',\n",
       " 'officials',\n",
       " 'program',\n",
       " 'commitments',\n",
       " 'concerned',\n",
       " 'rick',\n",
       " 'dealing',\n",
       " 'trumpn',\n",
       " 'set',\n",
       " 'doomed',\n",
       " 'ones',\n",
       " 'france',\n",
       " 'ericholthaus',\n",
       " 'supporters',\n",
       " 'lie',\n",
       " 'kelkulus',\n",
       " 'president',\n",
       " 'invent',\n",
       " 'come',\n",
       " 'rapid',\n",
       " 'stave',\n",
       " 'positions',\n",
       " 'myron',\n",
       " 'die',\n",
       " 'cnnpolitics',\n",
       " 'shifting',\n",
       " 'cool',\n",
       " 'ocean',\n",
       " 'sequel',\n",
       " 'like',\n",
       " 'proven',\n",
       " 'power',\n",
       " 'model',\n",
       " 'ch',\n",
       " 'liberal',\n",
       " 'warming',\n",
       " 'none',\n",
       " 'actions',\n",
       " 'follow',\n",
       " 'generation',\n",
       " 'real',\n",
       " 'plant',\n",
       " 'build',\n",
       " 'combat',\n",
       " 'climatehawk',\n",
       " 'park',\n",
       " 'whos',\n",
       " 'obviously',\n",
       " 'giant',\n",
       " 'perfect',\n",
       " 'betwe',\n",
       " 'flat',\n",
       " 'affected',\n",
       " 'via',\n",
       " 'inconvenient',\n",
       " 'explain',\n",
       " 'idea',\n",
       " 'latimes',\n",
       " 'vortex',\n",
       " 'yeah',\n",
       " 'documents',\n",
       " 'momentum',\n",
       " 'answers',\n",
       " 'limited',\n",
       " 'di',\n",
       " 'reuters',\n",
       " 'faces',\n",
       " 'three',\n",
       " 'vaccines',\n",
       " 'normal',\n",
       " 'workers',\n",
       " 'images',\n",
       " 'welcome',\n",
       " 'bringing',\n",
       " 'ajplus',\n",
       " 'reject',\n",
       " 'losing',\n",
       " 'know',\n",
       " 'phrase',\n",
       " 'addressing',\n",
       " 'end',\n",
       " 'wild',\n",
       " 'climateaction',\n",
       " 'russian',\n",
       " 'crucial',\n",
       " 'one',\n",
       " 'irresponsible',\n",
       " 'emissions',\n",
       " 'summers',\n",
       " 'coastal',\n",
       " 'korea',\n",
       " 'marine',\n",
       " 'pathetic',\n",
       " 'immigration',\n",
       " 'across',\n",
       " 'caps',\n",
       " 'realize',\n",
       " 'extinction',\n",
       " 'reveal',\n",
       " 'consequences',\n",
       " 'convinced',\n",
       " 'info',\n",
       " 'putin',\n",
       " 'dc',\n",
       " 'state',\n",
       " 'show',\n",
       " 'popular',\n",
       " 'secret',\n",
       " 'asked',\n",
       " 'interior',\n",
       " 'iansomerhalder',\n",
       " 'harder',\n",
       " 'urgent',\n",
       " 'seems',\n",
       " 'choice',\n",
       " 'increasing',\n",
       " 'americas',\n",
       " 'theblaze',\n",
       " 'planet',\n",
       " 'civil',\n",
       " 'century',\n",
       " 'hold',\n",
       " 'crisis',\n",
       " 'davidcorndc',\n",
       " 'review',\n",
       " 'nuclear',\n",
       " 'middle',\n",
       " 'cause',\n",
       " 'coast',\n",
       " 'run',\n",
       " 'supporting',\n",
       " 'environment',\n",
       " 'carbon',\n",
       " 'care',\n",
       " 'severe',\n",
       " 'models',\n",
       " 'underwater',\n",
       " 'barack',\n",
       " 'tell',\n",
       " 'roguenasa',\n",
       " 'secretary',\n",
       " 'around',\n",
       " 'past',\n",
       " 'car',\n",
       " 'healthcare',\n",
       " 'beautiful',\n",
       " 'ever',\n",
       " 'senatormroberts',\n",
       " 'hits',\n",
       " 'safe',\n",
       " 'citizens',\n",
       " 'youll',\n",
       " 'died',\n",
       " 'jerrybrowngov',\n",
       " 'everything',\n",
       " 'uproar',\n",
       " 'wall',\n",
       " 'orders',\n",
       " 'politifact',\n",
       " 'start',\n",
       " 'initiative',\n",
       " 'someone',\n",
       " 'tomorrow',\n",
       " 'weve',\n",
       " 'badlands',\n",
       " 'opinion',\n",
       " 'feel',\n",
       " 'prochoice',\n",
       " 'river',\n",
       " 'stay',\n",
       " 'sure',\n",
       " 'asks',\n",
       " 'denied',\n",
       " 'scientific',\n",
       " 'grist',\n",
       " 'security',\n",
       " 'diabetes',\n",
       " 'issues',\n",
       " 'recordbreaking',\n",
       " 'individuals',\n",
       " 'released',\n",
       " 'racist',\n",
       " 'let',\n",
       " 'tweet',\n",
       " 'infrastructure',\n",
       " 'listen',\n",
       " 'noncompetiti',\n",
       " 'minimum',\n",
       " 'black',\n",
       " 'protest',\n",
       " 'leecamp',\n",
       " 'photo',\n",
       " 'wants',\n",
       " 'worry',\n",
       " 'hearing',\n",
       " 'schwarzenegger',\n",
       " 'lord',\n",
       " 'salon',\n",
       " 'birds',\n",
       " 'defense',\n",
       " 'beef',\n",
       " 'february',\n",
       " 'documentary',\n",
       " 'staff',\n",
       " 'rights',\n",
       " 'remain',\n",
       " 'agencies',\n",
       " 'nature',\n",
       " 'word',\n",
       " 'alone',\n",
       " 'moment',\n",
       " 'antarctica',\n",
       " 'bannon',\n",
       " 'course',\n",
       " 'information',\n",
       " 'tveitdal',\n",
       " 'employees',\n",
       " 'met',\n",
       " 'coal',\n",
       " 'affect',\n",
       " 'world',\n",
       " 'expect',\n",
       " 'extreme',\n",
       " 'chief',\n",
       " 'main',\n",
       " 'long',\n",
       " 'v',\n",
       " 'money',\n",
       " 'per',\n",
       " 'solar',\n",
       " 'prof',\n",
       " 'stronger',\n",
       " 'break',\n",
       " 'believes',\n",
       " 'executive',\n",
       " 'series',\n",
       " 'hrc',\n",
       " 'national',\n",
       " 'march',\n",
       " 'hired',\n",
       " 'respond',\n",
       " 'markruffalo',\n",
       " 'office',\n",
       " 'auspol',\n",
       " 'motherjones',\n",
       " 'uncertainty',\n",
       " 'penguin',\n",
       " 'acknowledge',\n",
       " 'everybody',\n",
       " 'id',\n",
       " 'drvox',\n",
       " 'msnbc',\n",
       " 'skepticism',\n",
       " 'retweet',\n",
       " 'doctors',\n",
       " 'bill',\n",
       " 'change',\n",
       " ...]"
      ]
     },
     "execution_count": 301,
     "metadata": {},
     "output_type": "execute_result"
    }
   ],
   "source": [
    "max_count = 10\n",
    "remaining_word_index = [k for k, v in personality['all'].items() if v > max_count]\n",
    "remaining_word_index"
   ]
  },
  {
   "cell_type": "markdown",
   "id": "1404e187",
   "metadata": {},
   "source": [
    "### N-grams"
   ]
  },
  {
   "cell_type": "code",
   "execution_count": 303,
   "id": "bbd3de76",
   "metadata": {},
   "outputs": [],
   "source": [
    "def word_grams(words, min_n=1, max_n=4):\n",
    "    s = []\n",
    "    for n in range(min_n, max_n):\n",
    "        for ngram in ngrams(words, n):\n",
    "            s.append(' '.join(str(i) for i in ngram))\n",
    "    return s"
   ]
  },
  {
   "cell_type": "code",
   "execution_count": 304,
   "id": "3b4dd03b",
   "metadata": {},
   "outputs": [
    {
     "data": {
      "text/plain": [
       "[('rt', 'richarddawkins', 'president'),\n",
       " ('richarddawkins', 'president', 'trump'),\n",
       " ('president', 'trump', 'may'),\n",
       " ('trump', 'may', 'destroy'),\n",
       " ('may', 'destroy', 'america'),\n",
       " ('destroy', 'america', 'maybe'),\n",
       " ('america', 'maybe', 'stop'),\n",
       " ('maybe', 'stop', 'destroying'),\n",
       " ('stop', 'destroying', 'world'),\n",
       " ('destroying', 'world', 'sign'),\n",
       " ('world', 'sign', 'climate'),\n",
       " ('sign', 'climate', 'change'),\n",
       " ('climate', 'change', 'petition'),\n",
       " ('change', 'petition', 'ht')]"
      ]
     },
     "execution_count": 304,
     "metadata": {},
     "output_type": "execute_result"
    }
   ],
   "source": [
    "[x for x in ngrams(df_train.iloc[5000]['tokens'], 3)]"
   ]
  },
  {
   "cell_type": "markdown",
   "id": "5a50eaac",
   "metadata": {},
   "source": [
    "### Term Frequency – Inverse Document Frequency (TF – IDF)"
   ]
  },
  {
   "cell_type": "code",
   "execution_count": 305,
   "id": "2203c280",
   "metadata": {},
   "outputs": [
    {
     "name": "stdout",
     "output_type": "stream",
     "text": [
      "  (0, 17819)\t0.29617953391365087\n",
      "  (0, 29419)\t0.17919926422611793\n",
      "  (0, 31171)\t0.4083807629436574\n",
      "  (0, 6552)\t0.0685938251926709\n",
      "  (0, 13502)\t0.06563679654204725\n",
      "  (0, 30178)\t0.17000387831408595\n",
      "  (0, 29832)\t0.27500470572274316\n",
      "  (0, 2968)\t0.11167930341655102\n",
      "  (0, 29896)\t0.10281932328060743\n",
      "  (0, 12011)\t0.10018392293695356\n",
      "  (0, 20208)\t0.09946418435998201\n",
      "  (0, 5682)\t0.21540366535326275\n",
      "  (0, 17537)\t0.28184336593277864\n",
      "  (0, 14605)\t0.09816618321079935\n",
      "  (0, 8392)\t0.24742439027234542\n",
      "  (0, 5534)\t0.21805790613752135\n",
      "  (0, 27605)\t0.1959115811865097\n",
      "  (0, 8694)\t0.16310935709469898\n",
      "  (0, 6065)\t0.22305131300999193\n",
      "  (0, 9847)\t0.17641536800457827\n",
      "  (0, 21784)\t0.4083807629436574\n",
      "  (1, 3128)\t0.52094265118164\n",
      "  (1, 10106)\t0.3932716987989639\n",
      "  (1, 16408)\t0.4980168835789958\n",
      "  (1, 30027)\t0.2199002975347319\n",
      "  :\t:\n",
      "  (15817, 27728)\t0.33170980422665547\n",
      "  (15817, 7222)\t0.3100987527608332\n",
      "  (15817, 16862)\t0.26955708032839304\n",
      "  (15817, 13300)\t0.181220288532438\n",
      "  (15817, 4207)\t0.21234098193339193\n",
      "  (15817, 5925)\t0.29092752255083043\n",
      "  (15817, 13106)\t0.2502183112064296\n",
      "  (15817, 27371)\t0.12778298508225192\n",
      "  (15817, 27383)\t0.1526587023460654\n",
      "  (15817, 5924)\t0.04791834737794704\n",
      "  (15817, 6366)\t0.09481238776653392\n",
      "  (15817, 27852)\t0.07567381851114427\n",
      "  (15817, 24252)\t0.05766702803605628\n",
      "  (15817, 14605)\t0.1852097791752494\n",
      "  (15818, 17256)\t0.46981186458747914\n",
      "  (15818, 24902)\t0.46981186458747914\n",
      "  (15818, 6049)\t0.46981186458747914\n",
      "  (15818, 9886)\t0.43716826127447506\n",
      "  (15818, 16288)\t0.3299208945182724\n",
      "  (15818, 14106)\t0.11930942164807452\n",
      "  (15818, 5924)\t0.058437082160821184\n",
      "  (15818, 6366)\t0.05781250394631152\n",
      "  (15818, 24252)\t0.0703257319943444\n",
      "  (15818, 6552)\t0.0789121227960545\n",
      "  (15818, 13502)\t0.07551028003055735\n"
     ]
    }
   ],
   "source": [
    "from sklearn.feature_extraction.text import TfidfVectorizer\n",
    "obj = TfidfVectorizer()\n",
    "corpus = df_train[\"message\"]\n",
    "X = obj.fit_transform(corpus)\n",
    "print (X)"
   ]
  },
  {
   "cell_type": "markdown",
   "id": "d4af53a2",
   "metadata": {},
   "source": [
    "<a id=\"five\"></a>\n",
    "​\n",
    "## 5. Modelling\n",
    "​\n",
    "<a class=\"anchor\" id=\"1.1\"></a>\n",
    "<a href=#cont>Back to Table of Contents</a>\n",
    "​\n",
    "---\n",
    "​\n",
    "| ⚡ Description: Modelling ⚡                                                                                                                |\n",
    "| :------------------------------------------------------------------------------------------------------------------------------------------ |\n",
    "| In this section, you are required to create one or more regression models that are able to accurately predict the twitter sentiments. |\n",
    "​\n",
    "---"
   ]
  },
  {
   "cell_type": "markdown",
   "id": "558a8b85",
   "metadata": {},
   "source": [
    "### Pre processing"
   ]
  },
  {
   "cell_type": "markdown",
   "id": "4db66a8f",
   "metadata": {},
   "source": [
    "The line X_train, X_val, y_train, y_val = train_test_split(X, y, test_size=0.2, random_state=50) is splitting the data into training and validation sets.\n",
    "\n",
    "X and y are the feature matrix and target variable, respectively. X contains the features we use to make predictions, and y contains the corresponding target values (in this case, sentiment).\n",
    "\n",
    "train_test_split() is a function provided by scikit-learn (a popular machine learning library) that is used to split a dataset into training and validation subsets.\n",
    "\n",
    "The function takes the following arguments:\n",
    "\n",
    "X: The feature matrix (independent variables). y: The target variable (dependent variable). test_size: This parameter specifies the proportion of the data that should be used for the validation set. In this case, it's set to 0.2, meaning 20% of the data will be used for validation, and the remaining 80% for training. random_state: This is a seed for the random number generator used in the data splitting process. Setting this to a specific value (e.g., 42) ensures that the split is reproducible.\n",
    "\n",
    "train_test_split() returns four sets of data:\n",
    "\n",
    "X_train: This contains the feature data for the training set. X_val: This contains the feature data for the validation set. y_train: This contains the target data for the training set. y_val: This contains the target data for the validation set. By splitting the data into training and validation sets, you can train your machine learning model on a portion of the data (X_train and y_train) and evaluate its performance on another portion that it hasn't seen during training (X_val and y_val). This allows us to estimate how well your model is likely to perform on unseen data (seen in Model Performance section)."
   ]
  },
  {
   "cell_type": "code",
   "execution_count": 307,
   "id": "efe5c032",
   "metadata": {},
   "outputs": [
    {
     "name": "stdout",
     "output_type": "stream",
     "text": [
      "(12655,)\n",
      "(3164,)\n",
      "(12655,)\n",
      "(3164,)\n"
     ]
    }
   ],
   "source": [
    "#Splitting features and target variables\n",
    "X = df_train['CleanMessage'] #X is the features of the cleaned tweets\n",
    "y = df_train['sentiment']    #Y is the target variable which is the train sentiment\n",
    "\n",
    "X_train, X_test, y_train, y_test = train_test_split(X, y, test_size = 0.2, random_state = 42) #Splitting train set into training and testing data\n",
    "#Print out the shape of the training set and the testing set\n",
    "print(X_train.shape)\n",
    "print(X_test.shape)\n",
    "print(y_train.shape)\n",
    "print(y_test.shape)"
   ]
  },
  {
   "cell_type": "code",
   "execution_count": 308,
   "id": "a653ed75",
   "metadata": {},
   "outputs": [
    {
     "name": "stderr",
     "output_type": "stream",
     "text": [
      "C:\\Users\\admin\\AppData\\Local\\Temp\\ipykernel_15912\\1374117344.py:21: MatplotlibDeprecationWarning: Passing the emit parameter of set_xlim() positionally is deprecated since Matplotlib 3.6; the parameter will become keyword-only two minor releases later.\n",
      "  ax.set_xlim(-0.5, len(steps), 1)\n"
     ]
    },
    {
     "data": {
      "image/png": "[encoded data removed]",
      "text/plain": [
       "<Figure size 800x400 with 1 Axes>"
      ]
     },
     "metadata": {},
     "output_type": "display_data"
    }
   ],
   "source": [
    "# Create a step-by-step flow diagram\n",
    "steps = ['Step 1', 'Step 2', 'Step 3', 'Step 4', 'Step 5']\n",
    "actions = ['Clean data', 'BOW and TFID', 'Balance data', 'BOW & TFID', 'Hyperparameter T']\n",
    "\n",
    "fig, ax = plt.subplots(figsize=(8, 4))\n",
    "\n",
    "# Draw rectangles for each step\n",
    "for i, step in enumerate(steps):\n",
    "    rect = mpatches.Rectangle((i, 0), 1, 1, ec='black', fc='White')\n",
    "    ax.add_patch(rect)\n",
    "    ax.text(i + 0.5, 0.5, step, ha='center', va='center', color='black')\n",
    "\n",
    "# Draw arrows between steps\n",
    "for i in range(len(steps) - 1):\n",
    "    ax.arrow(i + 0.5, 0.5, 1, 0, head_width=0.05, head_length=0.05, fc='black', ec='black')\n",
    "\n",
    "# Set axis limits and remove ticks\n",
    "ax.set_xlim(-0.5, len(steps), 1)\n",
    "ax.set_ylim(0, 1)\n",
    "ax.set_xticks([])\n",
    "ax.set_yticks([])\n",
    "\n",
    "# Add action labels below steps\n",
    "for i, action in enumerate(actions):\n",
    "    ax.text(i + 0.5, -0.2, action, ha='center', va='center', color='black')\n",
    "\n",
    "plt.title('Modelling process')\n",
    "plt.show()"
   ]
  },
  {
   "cell_type": "markdown",
   "id": "79730a7f",
   "metadata": {},
   "source": [
    "## 5.A Modelling - Clean data"
   ]
  },
  {
   "cell_type": "markdown",
   "id": "7abd5d57",
   "metadata": {},
   "source": [
    "In building a model to classify twitter sentiments for climate change we used the following classifiers on clean data:\n",
    "-  Logistic Regression\n",
    "- Linear SVC\n",
    "- Decision Trees\n",
    "- Naive Bayes\n",
    "- KNN"
   ]
  },
  {
   "cell_type": "markdown",
   "id": "c7c32ac4",
   "metadata": {},
   "source": [
    "The modelling was done using the bag words and Term Frequency – Inverse Document Frequency (TF – IDF)"
   ]
  },
  {
   "cell_type": "markdown",
   "id": "8ccccfe1",
   "metadata": {},
   "source": [
    "Scaling"
   ]
  },
  {
   "cell_type": "code",
   "execution_count": 317,
   "id": "e2d15616",
   "metadata": {},
   "outputs": [],
   "source": [
    "cf = CountVectorizer() "
   ]
  },
  {
   "cell_type": "code",
   "execution_count": 318,
   "id": "72ef9c4e",
   "metadata": {},
   "outputs": [],
   "source": [
    "tfidf = TfidfVectorizer()"
   ]
  },
  {
   "cell_type": "code",
   "execution_count": null,
   "id": "a5134d80",
   "metadata": {},
   "outputs": [],
   "source": [
    "X_train = cf.fit.transform(X_train)\n",
    "X_test  = cf.fit.transform(X_test)"
   ]
  },
  {
   "cell_type": "markdown",
   "id": "85d746ee",
   "metadata": {},
   "source": [
    "### 5.1 Logistic Regression - Bag of words\n",
    "it makes use of a common S-shaped curve known as the logistic function. This curve is commonly known as a sigmoid. It solves the problem for the following reasons:\n",
    "\n",
    "-  It squeezes the range of output values to exist only between 0 and 1.\n",
    "-  It has a point of inflection, which can be used to separate the feature space into two distinct areas (one for each class).\n",
    "-  It has shallow gradients at both its top and bottom, which can be mapped to zeroes or ones respectively with little ambiguity"
   ]
  },
  {
   "cell_type": "code",
   "execution_count": 323,
   "id": "5911fae9",
   "metadata": {},
   "outputs": [],
   "source": [
    "lr = LogisticRegression()"
   ]
  },
  {
   "cell_type": "code",
   "execution_count": null,
   "id": "f9045ae2",
   "metadata": {},
   "outputs": [],
   "source": [
    "model = LogisticRegression() #Call logistic regression model and assign variable 'model'\n",
    "\n",
    "text_lr = Pipeline([('cf', cf), ('clf', model)]) #Create a pipeline with the logistic model and tf-idf vectorizer\n",
    "\n",
    "\n",
    "text_lr.fit(X_train, y_train) #Fit the training set\n",
    "\n",
    "y_pred= text_lr.predict(X_test) #Fit the test set\n",
    "\n",
    "print('accuracy %s' % accuracy_score(y_pred, y_test)) #Print accuracy\n",
    "print('f1_score %s' % f1_score(y_test,y_pred,average='weighted')) #Print f1 score\n",
    "print(classification_report(y_test, y_pred)) #Print classification report"
   ]
  },
  {
   "cell_type": "markdown",
   "id": "6f1e4613",
   "metadata": {},
   "source": [
    "### 5.2 Linear SVM - Bag of words"
   ]
  },
  {
   "cell_type": "markdown",
   "id": "b730ab03",
   "metadata": {},
   "source": [
    "Separate points using a  (p−1)\n",
    "  dimensional hyperplane. This means that the SVM will construct a decision boundary such that points on the left are assigned a label of  A\n",
    "  and points on the right are assigned a label of  B\n",
    " . When finding this separating hyperplane we wish to maximise the distance of the nearest points to the hyperplane. The technical term for this is maximum separating hyperplane. The data points which dictate where the separating hyperplane goes are called support vectors. "
   ]
  },
  {
   "cell_type": "code",
   "execution_count": null,
   "id": "48171589",
   "metadata": {},
   "outputs": [],
   "source": [
    "#Create a pipeline and make predictions of the bag of words using linearSVC\n",
    "clf= Pipeline([('cf', cf),('clf',  LinearSVC())]) #Create a pipeline with the bag or words features and the linearSVC\n",
    "\n",
    "clf.fit(X_train, y_train) #Fit the training data to the pipeline\n",
    "\n",
    "y_pred = clf.predict(X_test) #Make predictions with the test data\n",
    "\n",
    "print('accuracy %s' % accuracy_score(y_pred, y_test)) #Print out the accuracy\n",
    "print('f1_score %s' % f1_score(y_test,y_pred,average='weighted')) #Print out the f1 score\n",
    "print(classification_report(y_test, y_pred)) #Print out the classification repor"
   ]
  },
  {
   "cell_type": "markdown",
   "id": "5325631d",
   "metadata": {},
   "source": [
    "The precision, recall and f1-score values for the positive class are higher, and this has to do with the class imbalance we referred to. There are more observations with the positive label, so the model gets better at classifiying those ones because it has more evidence of them.\n",
    "\n",
    "The corresponding values in the neutral and negative class are lower.\n",
    "\n",
    "The weighted f1-score here gives us a good indication using a single value of how well the model is performed. It is somewhere between the accuracies that the model achieved for each of class 0 and 1, but slightly in favour of class 1, of which there were more examples."
   ]
  },
  {
   "cell_type": "markdown",
   "id": "c475551f",
   "metadata": {},
   "source": [
    "### 5.3 Decision Trees - Bag of Words"
   ]
  },
  {
   "cell_type": "markdown",
   "id": "18107b97",
   "metadata": {},
   "source": [
    "A decision tree is a decision support tool that uses a tree-like graph or model of decisions and their possible consequences. It is one way to display an algorithm that only contains conditional control statements.\n",
    "\n",
    "Decision trees are extremely intuitive ways to classify objects or predict continuous values: you simply ask a series of questions designed to zero-in on the classification/prediction."
   ]
  },
  {
   "cell_type": "code",
   "execution_count": null,
   "id": "71e5d16d",
   "metadata": {},
   "outputs": [],
   "source": [
    "clx= Pipeline([('cf', cf),('clx',  DecisionTreeClassifier(random_state=42))]) #Create a pipeline with the bag or words features and the linearSVC\n",
    "\n",
    "clx.fit(X_train, y_train) #Fit the training data to the pipeline\n",
    "\n",
    "y_pred = clx.predict(X_test) #Make predictions with the test data\n",
    "\n",
    "print('accuracy %s' % accuracy_score(y_pred, y_test)) #Print out the accuracy\n",
    "print('f1_score %s' % f1_score(y_test,y_pred,average='weighted')) #Print out the f1 score\n",
    "print(classification_report(y_test, y_pred)) #Print out the classification repor"
   ]
  },
  {
   "cell_type": "markdown",
   "id": "81cbfd0c",
   "metadata": {},
   "source": [
    "The precision, recall and f1-score values for the positive class are higher, and this has to do with the class imbalance we referred to. There are more observations with the positive label, so the model gets better at classifiying those ones because it has more evidence of them.\n",
    "\n",
    "The corresponding values in the neutral and negative class are lower.\n",
    "\n",
    "The weighted f1-score here gives us a good indication using a single value of how well the model is performed. It is somewhere between the accuracies that the model achieved for each of class 0 and 1, but slightly in favour of class 1, of which there were more examples."
   ]
  },
  {
   "cell_type": "markdown",
   "id": "237d3d61",
   "metadata": {},
   "source": [
    "### 5.4 NAIVE BAYES (Bernoulli) - Bag of words"
   ]
  },
  {
   "cell_type": "markdown",
   "id": "c81b8a06",
   "metadata": {},
   "source": [
    "Naive Bayes is a classification algorithm that uses the principle of Bayes theorem to make classifications.The assumption is Naive because it often does not hold. The assumption of independence implies that the model assumes that there is zero correlation among the features. Hence, the joint probability distribution  P(X,Y)\n",
    "  can be obtained from the marginal probability distributions  P(X)\n",
    "  and  P(Y)\n",
    "  simply by multiplication. We will use the above independence assumption, conditional probability rules, and Bayes theorem to develop some theory for how the Naive Bayes model works."
   ]
  },
  {
   "cell_type": "code",
   "execution_count": null,
   "id": "c426d943",
   "metadata": {},
   "outputs": [],
   "source": [
    "naive_bayes =  BernoulliNB()\n",
    "nb= Pipeline([('cf', cf),('nb',  naive_bayes)]) #Create a pipeline with the bag or words features and the linearSVC\n",
    "\n",
    "nb.fit(X_train, y_train) #Fit the training data to the pipeline\n",
    "\n",
    "y_pred = nb.predict(X_test) #Make predictions with the test data\n",
    "print('accuracy %s' % accuracy_score(y_pred, y_test)) #Print the accuracy\n",
    "print('f1_score %s' % f1_score(y_test,y_pred,average='weighted')) #Print the f1-score\n",
    "print(classification_report(y_test, y_pred)) #Print the classification report"
   ]
  },
  {
   "cell_type": "markdown",
   "id": "1079b491",
   "metadata": {},
   "source": [
    "The precision, recall and f1-score values for the positive class are higher, and this has to do with the class imbalance we referred to. There are more observations with the positive label, so the model gets better at classifiying those ones because it has more evidence of them.\n",
    "\n",
    "The corresponding values in the neutral and negative class are lower.\n",
    "\n",
    "The weighted f1-score here gives us a good indication using a single value of how well the model is performed. It is somewhere between the accuracies that the model achieved for each of class 0 and 1, but slightly in favour of class 1, of which there were more examples."
   ]
  },
  {
   "cell_type": "markdown",
   "id": "3dc0966e",
   "metadata": {},
   "source": [
    "### 5.5 K Nearest Neighbours - Bag of words"
   ]
  },
  {
   "cell_type": "markdown",
   "id": "e176d4a1",
   "metadata": {},
   "source": [
    "In principle, this algorithm works by assigning the majority class of the N closest neighbors to the current data point. As such, absolutely no training is required for the algorithm! All we do is choose K (i.e. the number of neighbors to consider), choose a distance function to calculate proximity and we're good to go."
   ]
  },
  {
   "cell_type": "code",
   "execution_count": null,
   "id": "2edfb32e",
   "metadata": {},
   "outputs": [],
   "source": [
    "knn = KNeighborsClassifier(10)\n",
    "cnb= Pipeline([('cf', cf),('cnb', knn)]) #Create a pipeline with the bag or words features and the linearSVC\n",
    "\n",
    "cnb.fit(X_train, y_train) #Fit the training data to the pipeline\n",
    "\n",
    "y_pred = cnb.predict(X_test) #Make predictions with the test data\n",
    "print('accuracy %s' % accuracy_score(y_pred, y_test)) #Print the accuracy\n",
    "print('f1_score %s' % f1_score(y_test,y_pred,average='weighted')) #Print the f1-score\n",
    "print(classification_report(y_test, y_pred)) #Print the classification report"
   ]
  },
  {
   "cell_type": "markdown",
   "id": "e2bf16eb",
   "metadata": {},
   "source": [
    "The precision, recall and f1-score values for the positive class are higher, and this has to do with the class imbalance we referred to. There are more observations with the positive label, so the model gets better at classifiying those ones because it has more evidence of them.\n",
    "\n",
    "The corresponding values in the neutral and negative class are lower.\n",
    "\n",
    "The weighted f1-score here gives us a good indication using a single value of how well the model is performed. It is somewhere between the accuracies that the model achieved for each of class 0 and 1, but slightly in favour of class 1, of which there were more examples."
   ]
  },
  {
   "cell_type": "code",
   "execution_count": null,
   "id": "0d35c58f",
   "metadata": {},
   "outputs": [],
   "source": [
    "X_train = sca(X_train)"
   ]
  },
  {
   "cell_type": "markdown",
   "id": "4b3e995e",
   "metadata": {},
   "source": [
    "### 5.1.B.1. Logistic Regression - TF – IDF"
   ]
  },
  {
   "cell_type": "code",
   "execution_count": null,
   "id": "de3944eb",
   "metadata": {},
   "outputs": [],
   "source": [
    "model = LogisticRegression(C=50,multi_class='ovr') #Call logistic regression model and assign variable 'model'\n",
    "\n",
    "clf_sam = Pipeline([('tfidf', tfidf), ('clf', model)]) #Create a pipeline with the logistic model and tf-idf vectorizer\n",
    "\n",
    "\n",
    "clf_sam.fit(X_train, y_train) #Fit the training set\n",
    "\n",
    "y_pred= clf_sam.predict(X_test) #Fit the test set\n",
    "\n",
    "print('accuracy %s' % accuracy_score(y_pred, y_test)) #Print accuracy\n",
    "print('f1_score %s' % f1_score(y_test,y_pred,average='weighted')) #Print f1 score\n",
    "print(classification_report(y_test, y_pred)) #Print classification report"
   ]
  },
  {
   "cell_type": "markdown",
   "id": "3e2edb4f",
   "metadata": {},
   "source": [
    "The precision, recall and f1-score values for the positive class are higher, and this has to do with the class imbalance we referred to. There are more observations with the positive label, so the model gets better at classifiying those ones because it has more evidence of them.\n",
    "\n",
    "The corresponding values in the neutral and negative class are lower.\n",
    "\n",
    "The weighted f1-score here gives us a good indication using a single value of how well the model is performed. It is somewhere between the accuracies that the model achieved for each of class 0 and 1, but slightly in favour of class 1, of which there were more examples."
   ]
  },
  {
   "cell_type": "markdown",
   "id": "102ceab2",
   "metadata": {},
   "source": [
    "### 5.1.B.2. Linear SVC - TF – IDF"
   ]
  },
  {
   "cell_type": "code",
   "execution_count": null,
   "id": "bbd01207",
   "metadata": {},
   "outputs": [],
   "source": [
    "## create a pipeline and fit it with a Linear Support Vector Classifier\n",
    "\n",
    "classifier = LinearSVC() #Call LinearSVC and assign the variable 'classifier'\n",
    "\n",
    "clft = Pipeline([('tfidf', tfidf), ('clf', classifier)]) #Create a pipeline with the tdidf\n",
    "\n",
    "clft.fit(X_train, y_train) #Fit the model\n",
    "y_pred = clft.predict(X_test) #Make predictions and assign the variable 'y_pred'\n",
    "\n",
    "print('accuracy %s' % accuracy_score(y_pred, y_test)) #Print the accuracy\n",
    "print('f1_score %s' % f1_score(y_test,y_pred,average='weighted')) #Print the f1-score\n",
    "print(classification_report(y_test, y_pred)) #Print the classification report"
   ]
  },
  {
   "cell_type": "markdown",
   "id": "1504df6a",
   "metadata": {},
   "source": [
    "The precision, recall and f1-score values for the positive class are higher, and this has to do with the class imbalance we referred to. There are more observations with the positive label, so the model gets better at classifiying those ones because it has more evidence of them.\n",
    "\n",
    "The corresponding values in the neutral and negative class are lower.\n",
    "\n",
    "The weighted f1-score here gives us a good indication using a single value of how well the model is performed. It is somewhere between the accuracies that the model achieved for each of class 0 and 1, but slightly in favour of class 1, of which there were more examples."
   ]
  },
  {
   "cell_type": "markdown",
   "id": "6b1f6756",
   "metadata": {},
   "source": [
    "### 5.1.B.3. Decision Trees - TF – IDF"
   ]
  },
  {
   "cell_type": "code",
   "execution_count": null,
   "id": "c2ba2935",
   "metadata": {},
   "outputs": [],
   "source": [
    "## create a pipeline and fit it with a Linear Support Vector Classifier\n",
    "classifier =  DecisionTreeClassifier(random_state=42) #Call LinearSVC and assign the variable 'classifier'\n",
    "\n",
    "clf = Pipeline([('tfidf', tfidf), ('clf', classifier)]) #Create a pipeline with the tdidf\n",
    "\n",
    "clf.fit(X_train, y_train) #Fit the model\n",
    "y_pred = clf.predict(X_test) #Make predictions and assign the variable 'y_pred'\n",
    "\n",
    "print('accuracy %s' % accuracy_score(y_pred, y_test)) #Print the accuracy\n",
    "print('f1_score %s' % f1_score(y_test,y_pred,average='weighted')) #Print the f1-score\n",
    "print(classification_report(y_test, y_pred)) #Print the classification report\n"
   ]
  },
  {
   "cell_type": "markdown",
   "id": "6d7b64a3",
   "metadata": {},
   "source": [
    "The precision, recall and f1-score values for the positive class are higher, and this has to do with the class imbalance we referred to. There are more observations with the positive label, so the model gets better at classifiying those ones because it has more evidence of them.\n",
    "\n",
    "The corresponding values in the neutral and negative class are lower.\n",
    "\n",
    "The weighted f1-score here gives us a good indication using a single value of how well the model is performed. It is somewhere between the accuracies that the model achieved for each of class 0 and 1, but slightly in favour of class 1, of which there were more examples."
   ]
  },
  {
   "cell_type": "markdown",
   "id": "34b5b23d",
   "metadata": {},
   "source": [
    "### 5.1.B.4. Naive Bayes - TF – IDF"
   ]
  },
  {
   "cell_type": "code",
   "execution_count": null,
   "id": "8666d703",
   "metadata": {},
   "outputs": [],
   "source": [
    "## create a pipeline and fit it with a Linear Support Vector Classifier\n",
    "\n",
    "classifier = BernoulliNB() #Call LinearSVC and assign the variable 'classifier'\n",
    "\n",
    "clf = Pipeline([('tfidf', tfidf), ('clf', classifier)]) #Create a pipeline with the tdidf\n",
    "\n",
    "clf.fit(X_train, y_train) #Fit the model\n",
    "y_pred = clf.predict(X_test) #Make predictions and assign the variable 'y_pred'\n",
    "\n",
    "print('accuracy %s' % accuracy_score(y_pred, y_test)) #Print the accuracy\n",
    "print('f1_score %s' % f1_score(y_test,y_pred,average='weighted')) #Print the f1-score\n",
    "print(classification_report(y_test, y_pred)) #Print the classification report"
   ]
  },
  {
   "cell_type": "markdown",
   "id": "3f71a135",
   "metadata": {},
   "source": [
    "The precision, recall and f1-score values for the positive class are higher, and this has to do with the class imbalance we referred to. There are more observations with the positive label, so the model gets better at classifiying those ones because it has more evidence of them.\n",
    "\n",
    "The corresponding values in the neutral and negative class are lower.\n",
    "\n",
    "The weighted f1-score here gives us a good indication using a single value of how well the model is performed. It is somewhere between the accuracies that the model achieved for each of class 0 and 1, but slightly in favour of class 1, of which there were more examples."
   ]
  },
  {
   "cell_type": "markdown",
   "id": "5d901f55",
   "metadata": {},
   "source": [
    "### 5.1.B.5. K Nearest Neighbour - TF – IDF"
   ]
  },
  {
   "cell_type": "code",
   "execution_count": null,
   "id": "f83d5710",
   "metadata": {},
   "outputs": [],
   "source": [
    "## create a pipeline and fit it with a Linear Support Vector Classifier\n",
    "\n",
    "\n",
    "Classifier =  KNeighborsClassifier(50) #Call LinearSVC and assign the variable 'classifier'\n",
    "\n",
    "clf = Pipeline([('tfidf', tfidf), ('clf', classifier)]) #Create a pipeline with the tdidf\n",
    "\n",
    "clf.fit(X_train, y_train) #Fit the model\n",
    "y_pred = clf.predict(X_test) #Make predictions and assign the variable 'y_pred'\n",
    "\n",
    "print('accuracy %s' % accuracy_score(y_pred, y_test)) #Print the accuracy\n",
    "print('f1_score %s' % f1_score(y_test,y_pred,average='weighted')) #Print the f1-score\n",
    "print(classification_report(y_test, y_pred)) #Print the classification report\n"
   ]
  },
  {
   "cell_type": "markdown",
   "id": "ffd6fef8",
   "metadata": {},
   "source": [
    "The precision, recall and f1-score values for the positive class are higher, and this has to do with the class imbalance we referred to. There are more observations with the positive label, so the model gets better at classifiying those ones because it has more evidence of them.\n",
    "\n",
    "The corresponding values in the neutral and negative class are lower.\n",
    "\n",
    "The weighted f1-score here gives us a good indication using a single value of how well the model is performed. It is somewhere between the accuracies that the model achieved for each of class 0 and 1, but slightly in favour of class 1, of which there were more examples."
   ]
  },
  {
   "cell_type": "code",
   "execution_count": null,
   "id": "6b9cac78",
   "metadata": {},
   "outputs": [],
   "source": [
    "ks = [1, 2, 3, 4, 5, 6, 7, 8, 9, 10, 20, 50, 100]\n",
    "\n",
    "results = []\n",
    "\n",
    "for k in ks:\n",
    "    print('Fitting KNN model with k = {:d}'.format(k))\n",
    "    knn = KNeighborsClassifier(k)\n",
    "    run_time = %timeit -q -o clf.fit(X_train, y_train)\n",
    "\n",
    "\n",
    "clf = Pipeline([('tfidf', tfidf), ('clf', knn)]) #Create a pipeline with the tdidf\n",
    "\n",
    "clf.fit(X_train, y_train) #Fit the model\n",
    "y_pred = clf.predict(X_test) #Make predictions and assign the variable 'y_pred'\n",
    "\n",
    "print('accuracy %s' % accuracy_score(y_pred, y_test)) #Print the accuracy\n",
    "print('f1_score %s' % f1_score(y_test,y_pred,average='weighted')) #Print the f1-score\n",
    "print(classification_report(y_test, y_pred)) #Print the classification report\n"
   ]
  },
  {
   "cell_type": "markdown",
   "id": "c2d20853",
   "metadata": {},
   "source": [
    "# 5.B Dealing with Imbalances"
   ]
  },
  {
   "cell_type": "markdown",
   "id": "6d561c6e",
   "metadata": {},
   "source": [
    "Class imbalance occurs when the number of observations across different class labels are unevenly distributed. In training our classification model, it is preferable for all classes to have a relatively even split of observations. "
   ]
  },
  {
   "cell_type": "code",
   "execution_count": null,
   "id": "6a4a7af0",
   "metadata": {},
   "outputs": [],
   "source": [
    "senti_counts = df_train[\"sentiment\"].value_counts()\n",
    "news = senti_counts[2] \n",
    "pro = senti_counts[1]   \n",
    "neutral = senti_counts[0]\n",
    "anti = senti_counts[-1]  \n",
    "\n",
    "plt.figure( figsize=(9,4))\n",
    "plt.barh(['News ','Pro','Neutral','Anti'], [news,pro,neutral,anti]) # horizontal bar graph to compare classes of tweets.\n",
    "plt.colours = ['red', 'green', 'blue', 'orange']\n",
    "plt.xlabel('Count of Tweets') #X-label of the data\n",
    "plt.ylabel('Sentiment Classification') #Y_label of the data \n",
    "plt.title('Distribution of Classes In The Dataset') #Give the data a title 'Dataset lables distribution'\n",
    "plt.show()"
   ]
  },
  {
   "cell_type": "markdown",
   "id": "ced5b24c",
   "metadata": {},
   "source": [
    "Resampling\n",
    "two variants of the most common method available: resampling. Put simply, resampling methods involve modifying the number of observations in each class as follows:\n",
    "\n",
    "- Downsampling - taking a random subset of the majority class small enough to match the number of observations in the minority class.\n",
    "\n",
    "- Upsampling - taking repeated random samples from the minority class until we have as many observations as the majority class. This grows the size of the minority class by effectively duplicating observations at random."
   ]
  },
  {
   "cell_type": "code",
   "execution_count": null,
   "id": "7fd0a56e",
   "metadata": {},
   "outputs": [],
   "source": [
    "df_majority = df_train.copy()[df_train['sentiment'] == 1]\n",
    "df_minority1 = df_train.copy()[df_train['sentiment'] == 0]\n",
    "df_minority2 = df_train.copy()[df_train['sentiment'] == 2]\n",
    "df_minority3 = df_train.copy()[df_train['sentiment'] == -1]\n",
    "\n",
    "\n",
    "# Downsample majority class\n",
    "df_majority_downsampled = resample(df_majority, \n",
    "                                 replace=False,    # sample without replacement\n",
    "                                 n_samples=5000,     # Using a benchmark of 3640\n",
    "                                 random_state=123) # reproducible results\n",
    "#Upsampling the least minority class\n",
    "df_minority_up = resample(df_minority1, \n",
    "                        replace=True,    # sample without replacement\n",
    "                        n_samples=5000,     # to match the second majority class\n",
    "                        random_state=123) # reproducible results\n",
    "\n",
    "df_minority_up1 = resample(df_minority2, \n",
    "                        replace=True,    # sample without replacement\n",
    "                        n_samples=5000,     # to match the second majority class\n",
    "                        random_state=123) # reproducible results\n",
    "\n",
    "df_minority_up2 = resample(df_minority3, \n",
    "                        replace=True,    # sample without replacement\n",
    "                        n_samples=5000,     # to match the second majority class\n",
    "                        random_state=123) # reproducible results\n",
    "\n",
    "# Combine minority class with downsampled majority class\n",
    "df_resampled = pd.concat([df_majority_downsampled,df_minority_up,df_minority_up1, df_minority_up2])\n",
    " \n",
    "# Display new class counts\n",
    "df_resampled.sentiment.value_counts()"
   ]
  },
  {
   "cell_type": "code",
   "execution_count": null,
   "id": "c0fb1fd5",
   "metadata": {},
   "outputs": [],
   "source": [
    "X = df_resampled['message']\n",
    "y = df_resampled['sentiment']\n",
    "\n",
    "X_train, X_test, y_train, y_test = train_test_split(X, y, test_size = 0.2, random_state = 42)\n",
    "\n",
    "print(X_train.shape)\n",
    "print(X_test.shape)\n",
    "print(y_train.shape)\n",
    "print(y_test.shape)"
   ]
  },
  {
   "cell_type": "markdown",
   "id": "b1420580",
   "metadata": {},
   "source": [
    "### 5.1 B Resampled Logical Regression - bag of words"
   ]
  },
  {
   "cell_type": "code",
   "execution_count": null,
   "id": "be900778",
   "metadata": {},
   "outputs": [],
   "source": [
    "model = LogisticRegression(C=20,multi_class='ovr') #Call logistic regression model and assign variable 'model'\n",
    "\n",
    "clf_sam1 = Pipeline([('cf', cf), ('clf', model)]) #Create a pipeline with the logistic model and bag-of-words\n",
    "\n",
    "\n",
    "clf_sam1.fit(X_train, y_train) #Fit the training set\n",
    "\n",
    "y_pred= clf_sam1.predict(X_test) #Fit the test set\n",
    "\n",
    "print('accuracy %s' % accuracy_score(y_pred, y_test)) #Print accuracy\n",
    "print('f1_score %s' % f1_score(y_test,y_pred,average='weighted')) #Print f1 score\n",
    "print(classification_report(y_test, y_pred)) #Print classification report"
   ]
  },
  {
   "cell_type": "code",
   "execution_count": null,
   "id": "921bfaca",
   "metadata": {},
   "outputs": [],
   "source": [
    "# Assuming 'text_data' is a list of text documents\n",
    "vectorizer = TfidfVectorizer()\n",
    "X_tfidf = vectorizer.fit_transform(X_train)\n",
    "X_test = vectorizer.transform(X_train)\n",
    "from sklearn.preprocessing import MaxAbsScaler \n",
    "\n",
    "scaler = MaxAbsScaler()\n",
    "X_scaled = scaler.fit_transform(X_tfidf) "
   ]
  },
  {
   "cell_type": "markdown",
   "id": "71398502",
   "metadata": {},
   "source": [
    "### 5.1 B Resampled Logical Regression - TF-DF"
   ]
  },
  {
   "cell_type": "code",
   "execution_count": null,
   "id": "f689a165",
   "metadata": {},
   "outputs": [],
   "source": [
    "model = LogisticRegression(C=350,multi_class='ovr') #Call logistic regression model and assign variable 'model'\n",
    "\n",
    "clf_sam1 = Pipeline([('tfidf', tfidf), ('clf', model)]) #Create a pipeline with the logistic model and bag-of-words\n",
    "\n",
    "\n",
    "clf_sam1.fit(X_train, y_train) #Fit the training set\n",
    "\n",
    "y_pred= clf_sam1.predict(X_test) #Fit the test set\n",
    "\n",
    "print('accuracy %s' % accuracy_score(y_pred, y_test)) #Print accuracy\n",
    "print('f1_score %s' % f1_score(y_test,y_pred,average='weighted')) #Print f1 score\n",
    "print(classification_report(y_test, y_pred)) #Print classification report"
   ]
  },
  {
   "cell_type": "markdown",
   "id": "c046b815",
   "metadata": {},
   "source": [
    "Balancing the dataset has lead to a significant improvement in the model. The upsampled dataset is performing way better than the model of the original dataset. However, due to downsampling of the data, we see that the pro class f1 score and recall are significantly lower want the rest of the classes\n",
    "\n",
    "Pro class has a significantly lower f1 score now and recall score\n",
    "\n",
    "The balance now makes it easier to make predictions on the other classes and seems to be performing much better in this regards"
   ]
  },
  {
   "cell_type": "markdown",
   "id": "71e734b3",
   "metadata": {},
   "source": [
    "### 5.2.B Resampled Linear SVC - TF-DF"
   ]
  },
  {
   "cell_type": "code",
   "execution_count": null,
   "id": "462296fa",
   "metadata": {},
   "outputs": [],
   "source": [
    "clf_SVC= Pipeline([('cf', cf),('clf',  LinearSVC())]) #Create a pipeline with the bag or words features and the linearSVC\n",
    "\n",
    "clf_SVC.fit(X_train, y_train) #Fit the training data to the pipeline\n",
    "\n",
    "y_pred = clf_SVC.predict(X_test) #Make predictions with the test data\n",
    "\n",
    "print('accuracy %s' % accuracy_score(y_pred, y_test)) #Print out the accuracy\n",
    "print('f1_score %s' % f1_score(y_test,y_pred,average='weighted')) #Print out the f1 score\n",
    "print(classification_report(y_test, y_pred)) #Print out the classification report"
   ]
  },
  {
   "cell_type": "markdown",
   "id": "6a7c86a9",
   "metadata": {},
   "source": [
    "### 5.2.B Resampled Linear SVC - TF-ID"
   ]
  },
  {
   "cell_type": "code",
   "execution_count": null,
   "id": "dbbfea87",
   "metadata": {},
   "outputs": [],
   "source": [
    "clf_SVC= Pipeline([('tfidf', tfidf),('clf',  LinearSVC())]) #Create a pipeline with the bag or words features and the linearSVC\n",
    "\n",
    "clf_SVC.fit(X_train, y_train) #Fit the training data to the pipeline\n",
    "\n",
    "y_pred = clf_SVC.predict(X_test) #Make predictions with the test data\n",
    "\n",
    "print('accuracy %s' % accuracy_score(y_pred, y_test)) #Print out the accuracy\n",
    "print('f1_score %s' % f1_score(y_test,y_pred,average='weighted')) #Print out the f1 score\n",
    "print(classification_report(y_test, y_pred)) #Print out the classification report"
   ]
  },
  {
   "cell_type": "markdown",
   "id": "a8dfa00d",
   "metadata": {},
   "source": [
    "The model for linear SVC seems to be getting a high accuracy and high f1 score, which is good however it still struggles to locate the pro sentiments as good as it does the other models.\n",
    "\n",
    "Pro sentiments are and news sentiments are lower on the precisioin but news seem to have high recall and high f1 rating.\n",
    "\n",
    "Neutral seems to be consistent accorss all predictions\n",
    "\n",
    "Negative sentiments seem to be performing very weel, more than all the classes"
   ]
  },
  {
   "cell_type": "markdown",
   "id": "1eb70d4f",
   "metadata": {},
   "source": [
    "### non Linear SVC - TF-DF"
   ]
  },
  {
   "cell_type": "code",
   "execution_count": null,
   "id": "c1c60fca",
   "metadata": {},
   "outputs": [],
   "source": [
    "## create a pipeline and fit it with a  Support Vector Classifier\n",
    "\n",
    "\n",
    "classifier = SVC(kernel='rbf', C=60, gamma='scale') #Call the SVC with the kernel='rbf' parameter\n",
    "\n",
    "clf_nlsvc = Pipeline([('tfidf', tfidf), ('clf', classifier)]) #Add the SVC model to the pipeline\n",
    "\n",
    "clf_nlsvc.fit(X_train, y_train) #Fit the training data\n",
    "y_pred = clf_nlsvc.predict(X_test) #Make predictions to the test set and assign the variable 'y_pred'\n",
    "\n",
    "print('accuracy %s' % accuracy_score(y_pred, y_test)) #Print the accuracy\n",
    "print('f1_score %s' % f1_score(y_test,y_pred,average='weighted')) #Print the f1 score\n",
    "print(classification_report(y_test, y_pred)) #Print out the classification"
   ]
  },
  {
   "cell_type": "markdown",
   "id": "3cba5f38",
   "metadata": {},
   "source": [
    "### 5.3 B Resampled Decision Trees -  bag of words"
   ]
  },
  {
   "cell_type": "code",
   "execution_count": null,
   "id": "0be116f1",
   "metadata": {},
   "outputs": [],
   "source": [
    "knn = DecisionTreeClassifier(random_state=42)\n",
    "cnt= Pipeline([('cf', cf),('cnt', knn)]) #Create a pipeline with the bag or words features and the linearSVC\n",
    "\n",
    "cnb.fit(X_train, y_train) #Fit the training data to the pipeline\n",
    "\n",
    "y_pred = cnb.predict(X_test) #Make predictions with the test data\n",
    "print('accuracy %s' % accuracy_score(y_pred, y_test)) #Print the accuracy\n",
    "print('f1_score %s' % f1_score(y_test,y_pred,average='weighted')) #Print the f1-score\n",
    "print(classification_report(y_test, y_pred)) #Print the classification report"
   ]
  },
  {
   "cell_type": "markdown",
   "id": "772e1efa",
   "metadata": {},
   "source": [
    "### 5.3 B Resampled Decision Trees - TF_DF"
   ]
  },
  {
   "cell_type": "code",
   "execution_count": null,
   "id": "9a509d40",
   "metadata": {},
   "outputs": [],
   "source": [
    "knn = DecisionTreeClassifier(random_state=42)\n",
    "cntt= Pipeline([('tfidf', tfidf),('cnb', knn)]) #Create a pipeline with the bag or words features and the linearSVC\n",
    "\n",
    "cnb.fit(X_train, y_train) #Fit the training data to the pipeline\n",
    "\n",
    "y_pred = cnb.predict(X_test) #Make predictions with the test data\n",
    "print('accuracy %s' % accuracy_score(y_pred, y_test)) #Print the accuracy\n",
    "print('f1_score %s' % f1_score(y_test,y_pred,average='weighted')) #Print the f1-score\n",
    "print(classification_report(y_test, y_pred)) #Print the classification report"
   ]
  },
  {
   "cell_type": "markdown",
   "id": "2b5fe847",
   "metadata": {},
   "source": [
    "The model for linear SVC seems to be getting a high accuracy and high f1 score, which is good however it still struggles to locate the pro sentiments as good as it does the other models.\n",
    "\n",
    "Pro sentiments are and news sentiments are lower on the precisioin but news seem to have high recall and high f1 rating.\n",
    "\n",
    "Neutral seems to be consistent accorss all predictions\n",
    "\n",
    "Negative sentiments seem to be performing very weel, more than all the classes"
   ]
  },
  {
   "cell_type": "markdown",
   "id": "5630a8d8",
   "metadata": {},
   "source": [
    "### 5.4. B Resampled Naive Bayes - Bag of words"
   ]
  },
  {
   "cell_type": "code",
   "execution_count": null,
   "id": "35eb57c8",
   "metadata": {},
   "outputs": [],
   "source": [
    "naive_bayes =  BernoulliNB()\n",
    "cnb= Pipeline([('cf', cf),('cnb',  naive_bayes)]) #Create a pipeline with the bag or words features and the linearSVC\n",
    "\n",
    "cnb.fit(X_train, y_train) #Fit the training data to the pipeline\n",
    "\n",
    "y_pred = cnb.predict(X_test) #Make predictions with the test data\n",
    "print('accuracy %s' % accuracy_score(y_pred, y_test)) #Print the accuracy\n",
    "print('f1_score %s' % f1_score(y_test,y_pred,average='weighted')) #Print the f1-score\n",
    "print(classification_report(y_test, y_pred)) #Print the classification report"
   ]
  },
  {
   "cell_type": "markdown",
   "id": "c696ed22",
   "metadata": {},
   "source": [
    "### 5.4. B Resampled Naive Bayes - TF-DF"
   ]
  },
  {
   "cell_type": "code",
   "execution_count": null,
   "id": "931a4fff",
   "metadata": {},
   "outputs": [],
   "source": [
    "naive_bayes =  BernoulliNB()\n",
    "cnb= Pipeline([('tfidf', tfidf),('cnb',  naive_bayes)]) #Create a pipeline with the bag or words features and the linearSVC\n",
    "\n",
    "cnb.fit(X_train, y_train) #Fit the training data to the pipeline\n",
    "\n",
    "y_pred = cnb.predict(X_test) #Make predictions with the test data\n",
    "print('accuracy %s' % accuracy_score(y_pred, y_test)) #Print the accuracy\n",
    "print('f1_score %s' % f1_score(y_test,y_pred,average='weighted')) #Print the f1-score\n",
    "print(classification_report(y_test, y_pred)) #Print the classification report"
   ]
  },
  {
   "cell_type": "markdown",
   "id": "451abbd2",
   "metadata": {},
   "source": [
    "The model for linear SVC seems to be getting a high accuracy and high f1 score, which is good however it still struggles to locate the pro sentiments as good as it does the other models.\n",
    "\n",
    "Pro sentiments are and news sentiments are lower on the precisioin but news seem to have high recall and high f1 rating.\n",
    "\n",
    "Neutral seems to be consistent accorss all predictions\n",
    "\n",
    "Negative sentiments seem to be performing very weel, more than all the classes"
   ]
  },
  {
   "cell_type": "markdown",
   "id": "9cf7e136",
   "metadata": {},
   "source": [
    "### 5.5. B Resampled KNN - bag of words"
   ]
  },
  {
   "cell_type": "code",
   "execution_count": null,
   "id": "9bab8c76",
   "metadata": {},
   "outputs": [],
   "source": [
    "knn = KNeighborsClassifier(10)\n",
    "cnk= Pipeline([('cf', cf),('cnk', knn)]) #Create a pipeline with the bag or words features and the linearSVC\n",
    "\n",
    "cnk.fit(X_train, y_train) #Fit the training data to the pipeline\n",
    "\n",
    "y_pred = cnk.predict(X_test) #Make predictions with the test data\n",
    "print('accuracy %s' % accuracy_score(y_pred, y_test)) #Print the accuracy\n",
    "print('f1_score %s' % f1_score(y_test,y_pred,average='weighted')) #Print the f1-score\n",
    "print(classification_report(y_test, y_pred)) #Print the classification report"
   ]
  },
  {
   "cell_type": "markdown",
   "id": "53912766",
   "metadata": {},
   "source": [
    "### 5.5. B Resampled KNN - TF_DF"
   ]
  },
  {
   "cell_type": "code",
   "execution_count": null,
   "id": "78f3861c",
   "metadata": {},
   "outputs": [],
   "source": [
    "knn = KNeighborsClassifier(10)\n",
    "cnkt= Pipeline([('tfidf', tfidf),('cnkt', knn)]) #Create a pipeline with the bag or words features and the linearSVC\n",
    "\n",
    "cnkt.fit(X_train, y_train) #Fit the training data to the pipeline\n",
    "\n",
    "y_pred = cnkt.predict(X_test) #Make predictions with the test data\n",
    "print('accuracy %s' % accuracy_score(y_pred, y_test)) #Print the accuracy\n",
    "print('f1_score %s' % f1_score(y_test,y_pred,average='weighted')) #Print the f1-score\n",
    "print(classification_report(y_test, y_pred)) #Print the classification r"
   ]
  },
  {
   "cell_type": "markdown",
   "id": "1995c572",
   "metadata": {},
   "source": [
    "The model for linear SVC seems to be getting a high accuracy and high f1 score, which is good however it still struggles to locate the pro sentiments as good as it does the other models.\n",
    "\n",
    "Pro sentiments are and news sentiments are lower on the precisioin but news seem to have high recall and high f1 rating.\n",
    "\n",
    "Neutral seems to be consistent accorss all predictions\n",
    "\n",
    "Negative sentiments seem to be performing very weel, more than all the classes"
   ]
  },
  {
   "cell_type": "markdown",
   "id": "202ae886",
   "metadata": {},
   "source": [
    "### Kaggle Submission Generation"
   ]
  },
  {
   "cell_type": "code",
   "execution_count": null,
   "id": "bddde6ac",
   "metadata": {},
   "outputs": [],
   "source": [
    "test_x = df_test['message'] "
   ]
  },
  {
   "cell_type": "code",
   "execution_count": null,
   "id": "692c5a06",
   "metadata": {},
   "outputs": [],
   "source": [
    "y3_predict = clf_nlsvc.predict(test_x)"
   ]
  },
  {
   "cell_type": "code",
   "execution_count": null,
   "id": "02397886",
   "metadata": {},
   "outputs": [],
   "source": [
    "df_test['sentiment'] = y3_predict"
   ]
  },
  {
   "cell_type": "code",
   "execution_count": null,
   "id": "18bbe9a7",
   "metadata": {},
   "outputs": [],
   "source": [
    "df_test['sentiment'] = df_test['sentiment'].astype(int)"
   ]
  },
  {
   "cell_type": "code",
   "execution_count": null,
   "id": "d6c05c7e",
   "metadata": {},
   "outputs": [],
   "source": [
    "df_test[['tweetid', 'sentiment']].to_csv('nonlinearSVCBalanced-unclean10.csv', index=False)"
   ]
  },
  {
   "cell_type": "markdown",
   "id": "6e00dec9",
   "metadata": {},
   "source": [
    "<a id=\"six\"></a>\n",
    "\n",
    "## 6. Model Performance\n",
    "\n",
    "<a class=\"anchor\" id=\"1.1\"></a>\n",
    "<a href=#cont>Back to Table of Contents</a>\n",
    "\n",
    "---\n",
    "\n",
    "| ⚡ Description: Model performance ⚡                                                                                                                                      |\n",
    "| :------------------------------------------------------------------------------------------------------------------------------------------------------------------------ |\n",
    "| In this section you are required to compare the relative performance of the various trained ML models on a holdout dataset and comment on what model is the best and why. |\n",
    "\n",
    "---\n"
   ]
  },
  {
   "cell_type": "code",
   "execution_count": null,
   "id": "fc63c5f7",
   "metadata": {},
   "outputs": [],
   "source": [
    "data = {\n",
    "    'Model': ['Logistical Regression', 'Linear SVC', 'Decision trees', 'Naive Bayes', 'Key Nearest Neighbour'],\n",
    "    'Acurracy Score': [75.4, 73.4, 85, 69, 44],\n",
    "    'f1_score': [74.8, 73.1, 84.8, 62, 46]\n",
    "}\n",
    "\n",
    "summary_table = pd.DataFrame(data)\n",
    "\n",
    "summary_table\n"
   ]
  },
  {
   "cell_type": "markdown",
   "id": "5b6fdcf0",
   "metadata": {},
   "source": [
    "<a id=\"seven\"></a>\n",
    "\n",
    "## 7. Model Explanations\n",
    "\n",
    "<a class=\"anchor\" id=\"1.1\"></a>\n",
    "<a href=#cont>Back to Table of Contents</a>\n",
    "\n",
    "---\n",
    "\n",
    "| ⚡ Description: Model explanation ⚡                                                                                                                                                                              |\n",
    "| :---------------------------------------------------------------------------------------------------------------------------------------------------------------------------------------------------------------- |\n",
    "| In this section, you are required to discuss how the best performing model works in a simple way so that both technical and non-technical stakeholders can grasp the intuition behind the model's inner workings. |\n",
    "\n",
    "---\n"
   ]
  },
  {
   "cell_type": "code",
   "execution_count": null,
   "id": "8aec90fb",
   "metadata": {},
   "outputs": [],
   "source": []
  }
 ],
 "metadata": {
  "kernelspec": {
   "display_name": "Python 3 (ipykernel)",
   "language": "python",
   "name": "python3"
  },
  "language_info": {
   "codemirror_mode": {
    "name": "ipython",
    "version": 3
   },
   "file_extension": ".py",
   "mimetype": "text/x-python",
   "name": "python",
   "nbconvert_exporter": "python",
   "pygments_lexer": "ipython3",
   "version": "3.11.3"
  }
 },
 "nbformat": 4,
 "nbformat_minor": 5
}
