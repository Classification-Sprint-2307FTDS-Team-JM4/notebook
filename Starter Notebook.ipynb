{
 "cells": [
  {
   "cell_type": "markdown",
   "id": "ae672501",
   "metadata": {},
   "source": [
    "<a id=\"cont\"></a>\n",
    "\n",
    "## Table of Contents\n",
    "\n",
    "<a href=#one>1. Importing Packages</a>\n",
    "\n",
    "<a href=#two>2. Loading Data</a>\n",
    "\n",
    "<a href=#three>3. Exploratory Data Analysis (EDA)</a>\n",
    "\n",
    "<a href=#four>4. Data Engineering</a>\n",
    "\n",
    "<a href=#five>5. Modeling</a>\n",
    "\n",
    "<a href=#six>6. Model Performance</a>\n",
    "\n",
    "<a href=#seven>7. Model Explanations</a>"
   ]
  },
  {
   "cell_type": "markdown",
   "id": "58222955",
   "metadata": {},
   "source": [
    "# 1. Importing Packages"
   ]
  },
  {
   "cell_type": "code",
   "execution_count": 120,
   "id": "89df1d66",
   "metadata": {},
   "outputs": [
    {
     "name": "stderr",
     "output_type": "stream",
     "text": [
      "[nltk_data] Downloading package stopwords to\n",
      "[nltk_data]     C:\\Users\\admin\\AppData\\Roaming\\nltk_data...\n",
      "[nltk_data]   Package stopwords is already up-to-date!\n",
      "[nltk_data] Downloading package wordnet to\n",
      "[nltk_data]     C:\\Users\\admin\\AppData\\Roaming\\nltk_data...\n",
      "[nltk_data]   Package wordnet is already up-to-date!\n",
      "[nltk_data] Downloading package omw-1.4 to\n",
      "[nltk_data]     C:\\Users\\admin\\AppData\\Roaming\\nltk_data...\n",
      "[nltk_data]   Package omw-1.4 is already up-to-date!\n",
      "[nltk_data] Downloading package stopwords to\n",
      "[nltk_data]     C:\\Users\\admin\\AppData\\Roaming\\nltk_data...\n",
      "[nltk_data]   Package stopwords is already up-to-date!\n",
      "[nltk_data] Downloading package punkt to\n",
      "[nltk_data]     C:\\Users\\admin\\AppData\\Roaming\\nltk_data...\n",
      "[nltk_data]   Package punkt is already up-to-date!\n",
      "[nltk_data] Downloading package vader_lexicon to\n",
      "[nltk_data]     C:\\Users\\admin\\AppData\\Roaming\\nltk_data...\n",
      "[nltk_data]   Package vader_lexicon is already up-to-date!\n"
     ]
    }
   ],
   "source": [
    "import numpy as np # linear algebra\n",
    "import pandas as pd # data processing, CSV file I/O (e.g. pd.read_csv)\n",
    "import seaborn as sns\n",
    "import matplotlib.pyplot as plt\n",
    "import matplotlib.style as style\n",
    "%matplotlib inline\n",
    "import nltk\n",
    "import re\n",
    "import string\n",
    "nltk.download('stopwords')\n",
    "from nltk.stem import WordNetLemmatizer\n",
    "nltk.download('wordnet')\n",
    "nltk.download('omw-1.4')\n",
    "nltk.download('stopwords')\n",
    "nltk.download('punkt')\n",
    "from nltk.corpus import stopwords\n",
    "from nltk.sentiment.vader import SentimentIntensityAnalyzer \n",
    "from nltk.tokenize import word_tokenize, TreebankWordTokenizer\n",
    "from nltk import SnowballStemmer, PorterStemmer, LancasterStemmer\n",
    "nltk.download('vader_lexicon')\n",
    "\n",
    "# Input data files are available in the read-only \"../input/\" directory\n",
    "# For example, running this (by clicking run or pressing Shift+Enter) will list all files under the input directory\n",
    "\n",
    "import os\n",
    "for dirname, _, filenames in os.walk('/kaggle/input'):\n",
    "    for filename in filenames:\n",
    "        print(os.path.join(dirname, filename))"
   ]
  },
  {
   "cell_type": "markdown",
   "id": "1b28a7b2",
   "metadata": {},
   "source": [
    "# 2. Loading Data"
   ]
  },
  {
   "cell_type": "code",
   "execution_count": 121,
   "id": "54e1a170",
   "metadata": {},
   "outputs": [
    {
     "data": {
      "text/html": [
       "<div>\n",
       "<style scoped>\n",
       "    .dataframe tbody tr th:only-of-type {\n",
       "        vertical-align: middle;\n",
       "    }\n",
       "\n",
       "    .dataframe tbody tr th {\n",
       "        vertical-align: top;\n",
       "    }\n",
       "\n",
       "    .dataframe thead th {\n",
       "        text-align: right;\n",
       "    }\n",
       "</style>\n",
       "<table border=\"1\" class=\"dataframe\">\n",
       "  <thead>\n",
       "    <tr style=\"text-align: right;\">\n",
       "      <th></th>\n",
       "      <th>message</th>\n",
       "      <th>tweetid</th>\n",
       "    </tr>\n",
       "  </thead>\n",
       "  <tbody>\n",
       "    <tr>\n",
       "      <th>0</th>\n",
       "      <td>Europe will now be looking to China to make su...</td>\n",
       "      <td>169760</td>\n",
       "    </tr>\n",
       "    <tr>\n",
       "      <th>1</th>\n",
       "      <td>Combine this with the polling of staffers re c...</td>\n",
       "      <td>35326</td>\n",
       "    </tr>\n",
       "    <tr>\n",
       "      <th>2</th>\n",
       "      <td>The scary, unimpeachable evidence that climate...</td>\n",
       "      <td>224985</td>\n",
       "    </tr>\n",
       "    <tr>\n",
       "      <th>3</th>\n",
       "      <td>@Karoli @morgfair @OsborneInk @dailykos \\r\\nPu...</td>\n",
       "      <td>476263</td>\n",
       "    </tr>\n",
       "    <tr>\n",
       "      <th>4</th>\n",
       "      <td>RT @FakeWillMoore: 'Female orgasms cause globa...</td>\n",
       "      <td>872928</td>\n",
       "    </tr>\n",
       "  </tbody>\n",
       "</table>\n",
       "</div>"
      ],
      "text/plain": [
       "                                             message  tweetid\n",
       "0  Europe will now be looking to China to make su...   169760\n",
       "1  Combine this with the polling of staffers re c...    35326\n",
       "2  The scary, unimpeachable evidence that climate...   224985\n",
       "3  @Karoli @morgfair @OsborneInk @dailykos \\r\\nPu...   476263\n",
       "4  RT @FakeWillMoore: 'Female orgasms cause globa...   872928"
      ]
     },
     "execution_count": 121,
     "metadata": {},
     "output_type": "execute_result"
    }
   ],
   "source": [
    "df_test = pd.read_csv (\"test_with_no_labels.csv\")\n",
    "df_test.head()"
   ]
  },
  {
   "cell_type": "code",
   "execution_count": 122,
   "id": "cb02b356",
   "metadata": {},
   "outputs": [
    {
     "data": {
      "text/html": [
       "<div>\n",
       "<style scoped>\n",
       "    .dataframe tbody tr th:only-of-type {\n",
       "        vertical-align: middle;\n",
       "    }\n",
       "\n",
       "    .dataframe tbody tr th {\n",
       "        vertical-align: top;\n",
       "    }\n",
       "\n",
       "    .dataframe thead th {\n",
       "        text-align: right;\n",
       "    }\n",
       "</style>\n",
       "<table border=\"1\" class=\"dataframe\">\n",
       "  <thead>\n",
       "    <tr style=\"text-align: right;\">\n",
       "      <th></th>\n",
       "      <th>sentiment</th>\n",
       "      <th>message</th>\n",
       "      <th>tweetid</th>\n",
       "    </tr>\n",
       "  </thead>\n",
       "  <tbody>\n",
       "    <tr>\n",
       "      <th>0</th>\n",
       "      <td>1</td>\n",
       "      <td>PolySciMajor EPA chief doesn't think carbon di...</td>\n",
       "      <td>625221</td>\n",
       "    </tr>\n",
       "    <tr>\n",
       "      <th>1</th>\n",
       "      <td>1</td>\n",
       "      <td>It's not like we lack evidence of anthropogeni...</td>\n",
       "      <td>126103</td>\n",
       "    </tr>\n",
       "    <tr>\n",
       "      <th>2</th>\n",
       "      <td>2</td>\n",
       "      <td>RT @RawStory: Researchers say we have three ye...</td>\n",
       "      <td>698562</td>\n",
       "    </tr>\n",
       "    <tr>\n",
       "      <th>3</th>\n",
       "      <td>1</td>\n",
       "      <td>#TodayinMaker# WIRED : 2016 was a pivotal year...</td>\n",
       "      <td>573736</td>\n",
       "    </tr>\n",
       "    <tr>\n",
       "      <th>4</th>\n",
       "      <td>1</td>\n",
       "      <td>RT @SoyNovioDeTodas: It's 2016, and a racist, ...</td>\n",
       "      <td>466954</td>\n",
       "    </tr>\n",
       "  </tbody>\n",
       "</table>\n",
       "</div>"
      ],
      "text/plain": [
       "   sentiment                                            message  tweetid\n",
       "0          1  PolySciMajor EPA chief doesn't think carbon di...   625221\n",
       "1          1  It's not like we lack evidence of anthropogeni...   126103\n",
       "2          2  RT @RawStory: Researchers say we have three ye...   698562\n",
       "3          1  #TodayinMaker# WIRED : 2016 was a pivotal year...   573736\n",
       "4          1  RT @SoyNovioDeTodas: It's 2016, and a racist, ...   466954"
      ]
     },
     "execution_count": 122,
     "metadata": {},
     "output_type": "execute_result"
    }
   ],
   "source": [
    "df_train = pd.read_csv('train.csv')\n",
    "df_train.head()"
   ]
  },
  {
   "cell_type": "markdown",
   "id": "344506ad",
   "metadata": {},
   "source": [
    "# 3. Exploratory Data Analysis"
   ]
  },
  {
   "cell_type": "code",
   "execution_count": 123,
   "id": "be7cbbae",
   "metadata": {},
   "outputs": [
    {
     "data": {
      "text/html": [
       "<div>\n",
       "<style scoped>\n",
       "    .dataframe tbody tr th:only-of-type {\n",
       "        vertical-align: middle;\n",
       "    }\n",
       "\n",
       "    .dataframe tbody tr th {\n",
       "        vertical-align: top;\n",
       "    }\n",
       "\n",
       "    .dataframe thead th {\n",
       "        text-align: right;\n",
       "    }\n",
       "</style>\n",
       "<table border=\"1\" class=\"dataframe\">\n",
       "  <thead>\n",
       "    <tr style=\"text-align: right;\">\n",
       "      <th></th>\n",
       "      <th>tweetid</th>\n",
       "    </tr>\n",
       "  </thead>\n",
       "  <tbody>\n",
       "    <tr>\n",
       "      <th>count</th>\n",
       "      <td>10546.000000</td>\n",
       "    </tr>\n",
       "    <tr>\n",
       "      <th>mean</th>\n",
       "      <td>496899.936943</td>\n",
       "    </tr>\n",
       "    <tr>\n",
       "      <th>std</th>\n",
       "      <td>288115.677148</td>\n",
       "    </tr>\n",
       "    <tr>\n",
       "      <th>min</th>\n",
       "      <td>231.000000</td>\n",
       "    </tr>\n",
       "    <tr>\n",
       "      <th>25%</th>\n",
       "      <td>246162.500000</td>\n",
       "    </tr>\n",
       "    <tr>\n",
       "      <th>50%</th>\n",
       "      <td>495923.000000</td>\n",
       "    </tr>\n",
       "    <tr>\n",
       "      <th>75%</th>\n",
       "      <td>742250.000000</td>\n",
       "    </tr>\n",
       "    <tr>\n",
       "      <th>max</th>\n",
       "      <td>999983.000000</td>\n",
       "    </tr>\n",
       "  </tbody>\n",
       "</table>\n",
       "</div>"
      ],
      "text/plain": [
       "             tweetid\n",
       "count   10546.000000\n",
       "mean   496899.936943\n",
       "std    288115.677148\n",
       "min       231.000000\n",
       "25%    246162.500000\n",
       "50%    495923.000000\n",
       "75%    742250.000000\n",
       "max    999983.000000"
      ]
     },
     "execution_count": 123,
     "metadata": {},
     "output_type": "execute_result"
    }
   ],
   "source": [
    "df_test.describe()\n"
   ]
  },
  {
   "cell_type": "code",
   "execution_count": 124,
   "id": "1f81ab64",
   "metadata": {},
   "outputs": [
    {
     "data": {
      "text/html": [
       "<div>\n",
       "<style scoped>\n",
       "    .dataframe tbody tr th:only-of-type {\n",
       "        vertical-align: middle;\n",
       "    }\n",
       "\n",
       "    .dataframe tbody tr th {\n",
       "        vertical-align: top;\n",
       "    }\n",
       "\n",
       "    .dataframe thead th {\n",
       "        text-align: right;\n",
       "    }\n",
       "</style>\n",
       "<table border=\"1\" class=\"dataframe\">\n",
       "  <thead>\n",
       "    <tr style=\"text-align: right;\">\n",
       "      <th></th>\n",
       "      <th>sentiment</th>\n",
       "      <th>tweetid</th>\n",
       "    </tr>\n",
       "  </thead>\n",
       "  <tbody>\n",
       "    <tr>\n",
       "      <th>count</th>\n",
       "      <td>15819.000000</td>\n",
       "      <td>15819.000000</td>\n",
       "    </tr>\n",
       "    <tr>\n",
       "      <th>mean</th>\n",
       "      <td>0.917504</td>\n",
       "      <td>501719.433656</td>\n",
       "    </tr>\n",
       "    <tr>\n",
       "      <th>std</th>\n",
       "      <td>0.836537</td>\n",
       "      <td>289045.983132</td>\n",
       "    </tr>\n",
       "    <tr>\n",
       "      <th>min</th>\n",
       "      <td>-1.000000</td>\n",
       "      <td>6.000000</td>\n",
       "    </tr>\n",
       "    <tr>\n",
       "      <th>25%</th>\n",
       "      <td>1.000000</td>\n",
       "      <td>253207.500000</td>\n",
       "    </tr>\n",
       "    <tr>\n",
       "      <th>50%</th>\n",
       "      <td>1.000000</td>\n",
       "      <td>502291.000000</td>\n",
       "    </tr>\n",
       "    <tr>\n",
       "      <th>75%</th>\n",
       "      <td>1.000000</td>\n",
       "      <td>753769.000000</td>\n",
       "    </tr>\n",
       "    <tr>\n",
       "      <th>max</th>\n",
       "      <td>2.000000</td>\n",
       "      <td>999888.000000</td>\n",
       "    </tr>\n",
       "  </tbody>\n",
       "</table>\n",
       "</div>"
      ],
      "text/plain": [
       "          sentiment        tweetid\n",
       "count  15819.000000   15819.000000\n",
       "mean       0.917504  501719.433656\n",
       "std        0.836537  289045.983132\n",
       "min       -1.000000       6.000000\n",
       "25%        1.000000  253207.500000\n",
       "50%        1.000000  502291.000000\n",
       "75%        1.000000  753769.000000\n",
       "max        2.000000  999888.000000"
      ]
     },
     "execution_count": 124,
     "metadata": {},
     "output_type": "execute_result"
    }
   ],
   "source": [
    "df_train.describe()\n"
   ]
  },
  {
   "cell_type": "markdown",
   "id": "448a2336",
   "metadata": {},
   "source": [
    "*Null values*"
   ]
  },
  {
   "cell_type": "code",
   "execution_count": 125,
   "id": "000d75a0",
   "metadata": {},
   "outputs": [
    {
     "data": {
      "text/plain": [
       "message    0\n",
       "tweetid    0\n",
       "dtype: int64"
      ]
     },
     "execution_count": 125,
     "metadata": {},
     "output_type": "execute_result"
    }
   ],
   "source": [
    "df_test.isnull().sum()"
   ]
  },
  {
   "cell_type": "code",
   "execution_count": 126,
   "id": "5c25097f",
   "metadata": {},
   "outputs": [
    {
     "data": {
      "text/plain": [
       "sentiment    0\n",
       "message      0\n",
       "tweetid      0\n",
       "dtype: int64"
      ]
     },
     "execution_count": 126,
     "metadata": {},
     "output_type": "execute_result"
    }
   ],
   "source": [
    "df_train.isnull().sum()"
   ]
  },
  {
   "cell_type": "code",
   "execution_count": 127,
   "id": "2fbf82ed",
   "metadata": {},
   "outputs": [
    {
     "data": {
      "text/plain": [
       "(10546, 2)"
      ]
     },
     "execution_count": 127,
     "metadata": {},
     "output_type": "execute_result"
    }
   ],
   "source": [
    "df_test.shape"
   ]
  },
  {
   "cell_type": "code",
   "execution_count": 128,
   "id": "52998a45",
   "metadata": {},
   "outputs": [
    {
     "data": {
      "text/plain": [
       "(15819, 3)"
      ]
     },
     "execution_count": 128,
     "metadata": {},
     "output_type": "execute_result"
    }
   ],
   "source": [
    "df_train.shape"
   ]
  },
  {
   "cell_type": "markdown",
   "id": "39956a3e",
   "metadata": {},
   "source": [
    "# 4.Data Cleaning"
   ]
  },
  {
   "cell_type": "code",
   "execution_count": 129,
   "id": "c4434598",
   "metadata": {},
   "outputs": [
    {
     "name": "stdout",
     "output_type": "stream",
     "text": [
      "<class 'pandas.core.frame.DataFrame'>\n",
      "RangeIndex: 15819 entries, 0 to 15818\n",
      "Data columns (total 3 columns):\n",
      " #   Column     Non-Null Count  Dtype \n",
      "---  ------     --------------  ----- \n",
      " 0   sentiment  15819 non-null  int64 \n",
      " 1   message    15819 non-null  object\n",
      " 2   tweetid    15819 non-null  int64 \n",
      "dtypes: int64(2), object(1)\n",
      "memory usage: 370.9+ KB\n"
     ]
    }
   ],
   "source": [
    "df_train.info()"
   ]
  },
  {
   "cell_type": "code",
   "execution_count": 130,
   "id": "0d34f94a",
   "metadata": {},
   "outputs": [
    {
     "name": "stdout",
     "output_type": "stream",
     "text": [
      "<class 'pandas.core.frame.DataFrame'>\n",
      "RangeIndex: 10546 entries, 0 to 10545\n",
      "Data columns (total 2 columns):\n",
      " #   Column   Non-Null Count  Dtype \n",
      "---  ------   --------------  ----- \n",
      " 0   message  10546 non-null  object\n",
      " 1   tweetid  10546 non-null  int64 \n",
      "dtypes: int64(1), object(1)\n",
      "memory usage: 164.9+ KB\n"
     ]
    }
   ],
   "source": [
    "df_test.info()"
   ]
  },
  {
   "cell_type": "markdown",
   "id": "32f687d0",
   "metadata": {},
   "source": [
    "**Comments**\n",
    "\n",
    "- There are no null values from the observations"
   ]
  },
  {
   "cell_type": "code",
   "execution_count": 131,
   "id": "998c8f86",
   "metadata": {},
   "outputs": [
    {
     "name": "stdout",
     "output_type": "stream",
     "text": [
      "[1, 2, 0, -1]\n"
     ]
    }
   ],
   "source": [
    "unique_sentiment = list(df_train[\"sentiment\"].unique())\n",
    "print(unique_sentiment)"
   ]
  },
  {
   "cell_type": "code",
   "execution_count": 132,
   "id": "83c8b780",
   "metadata": {},
   "outputs": [
    {
     "data": {
      "image/png": "[encoded data removed]",
      "text/plain": [
       "<Figure size 640x480 with 1 Axes>"
      ]
     },
     "metadata": {},
     "output_type": "display_data"
    }
   ],
   "source": [
    "df_train['sentiment'].value_counts().plot(kind = 'bar')\n",
    "plt.show()"
   ]
  },
  {
   "cell_type": "markdown",
   "id": "c4a68624",
   "metadata": {},
   "source": [
    "# Removing Noise"
   ]
  },
  {
   "cell_type": "markdown",
   "id": "b5281abc",
   "metadata": {},
   "source": [
    "#### Removing the web-urls"
   ]
  },
  {
   "cell_type": "code",
   "execution_count": 133,
   "id": "dcaa5a98",
   "metadata": {},
   "outputs": [],
   "source": [
    "pattern_url = r'http[s]?://(?:[A-Za-z]|[0-9]|[$-_@.&+]|[!*\\(\\),]|(?:%[0-9A-Fa-f][0-9A-Fa-f]))+'\n",
    "subs_url = r'url-web'\n",
    "message = df_train['message'].replace(to_replace = pattern_url, value = subs_url, regex = True)"
   ]
  },
  {
   "cell_type": "code",
   "execution_count": 134,
   "id": "3e0a9da8",
   "metadata": {},
   "outputs": [
    {
     "data": {
      "text/plain": [
       "0    PolySciMajor EPA chief doesn't think carbon di...\n",
       "1    It's not like we lack evidence of anthropogeni...\n",
       "2    RT @RawStory: Researchers say we have three ye...\n",
       "3    #TodayinMaker# WIRED : 2016 was a pivotal year...\n",
       "4    RT @SoyNovioDeTodas: It's 2016, and a racist, ...\n",
       "Name: message, dtype: object"
      ]
     },
     "execution_count": 134,
     "metadata": {},
     "output_type": "execute_result"
    }
   ],
   "source": [
    "message.head()"
   ]
  },
  {
   "cell_type": "markdown",
   "id": "ef01b867",
   "metadata": {},
   "source": [
    "#### Converting every word to lower case"
   ]
  },
  {
   "cell_type": "code",
   "execution_count": 135,
   "id": "b7c9f1ec",
   "metadata": {},
   "outputs": [
    {
     "data": {
      "text/plain": [
       "0    polyscimajor epa chief doesn't think carbon di...\n",
       "1    it's not like we lack evidence of anthropogeni...\n",
       "2    rt @rawstory: researchers say we have three ye...\n",
       "3    #todayinmaker# wired : 2016 was a pivotal year...\n",
       "4    rt @soynoviodetodas: it's 2016, and a racist, ...\n",
       "Name: message, dtype: object"
      ]
     },
     "execution_count": 135,
     "metadata": {},
     "output_type": "execute_result"
    }
   ],
   "source": [
    "message_lower = message.str.lower()\n",
    "message_lower.head()"
   ]
  },
  {
   "cell_type": "markdown",
   "id": "70003939",
   "metadata": {},
   "source": [
    "#### Removing punctuation"
   ]
  },
  {
   "cell_type": "code",
   "execution_count": 136,
   "id": "0e7204fe",
   "metadata": {},
   "outputs": [],
   "source": [
    "def remove_punctuation(post):\n",
    "    return ''.join([l for l in post if l not in string.punctuation])"
   ]
  },
  {
   "cell_type": "code",
   "execution_count": 137,
   "id": "b8e056a6",
   "metadata": {},
   "outputs": [
    {
     "data": {
      "text/plain": [
       "0    polyscimajor epa chief doesnt think carbon dio...\n",
       "1    its not like we lack evidence of anthropogenic...\n",
       "2    rt rawstory researchers say we have three year...\n",
       "3    todayinmaker wired  2016 was a pivotal year in...\n",
       "4    rt soynoviodetodas its 2016 and a racist sexis...\n",
       "Name: message, dtype: object"
      ]
     },
     "execution_count": 137,
     "metadata": {},
     "output_type": "execute_result"
    }
   ],
   "source": [
    "massages = message_lower.apply(remove_punctuation)\n",
    "massages.head()"
   ]
  },
  {
   "cell_type": "code",
   "execution_count": 144,
   "id": "38d8c58e",
   "metadata": {},
   "outputs": [
    {
     "name": "stdout",
     "output_type": "stream",
     "text": [
      "0        polyscimajor epa chief doesnt think carbon dio...\n",
      "1        its not like we lack evidence of anthropogenic...\n",
      "2        rt rawstory researchers say we have three year...\n",
      "3        todayinmaker wired       was a pivotal year in...\n",
      "4        rt soynoviodetodas its      and a racist sexis...\n",
      "                               ...                        \n",
      "15814    rt ezlusztig they took down the material on gl...\n",
      "15815    rt washingtonpost how climate change could be ...\n",
      "15816    notiven rt nytimesworld what does trump actual...\n",
      "15817    rt sara smiles hey liberals the climate change...\n",
      "15818    rt chetcannon kurteichenwalds climate change e...\n",
      "Name: message, Length: 15819, dtype: object\n"
     ]
    }
   ],
   "source": [
    "# Replace all other characters with space except letters from a to z\n",
    "letters = massages.astype(str).apply(lambda x: re.sub(\"[^a-z]\", \" \", x))\n",
    "\n",
    "print(letters)"
   ]
  },
  {
   "cell_type": "markdown",
   "id": "bc1fa699",
   "metadata": {},
   "source": [
    "#### Tokenisation"
   ]
  },
  {
   "cell_type": "code",
   "execution_count": 146,
   "id": "24274639",
   "metadata": {},
   "outputs": [
    {
     "data": {
      "text/plain": [
       "0    [polyscimajor, epa, chief, doesnt, think, carb...\n",
       "1    [its, not, like, we, lack, evidence, of, anthr...\n",
       "2    [rt, rawstory, researchers, say, we, have, thr...\n",
       "3    [todayinmaker, wired, was, a, pivotal, year, i...\n",
       "4    [rt, soynoviodetodas, its, and, a, racist, sex...\n",
       "Name: message, dtype: object"
      ]
     },
     "execution_count": 146,
     "metadata": {},
     "output_type": "execute_result"
    }
   ],
   "source": [
    "tokeniser = TreebankWordTokenizer()\n",
    "tokenise = letters.apply(tokeniser.tokenize)\n",
    "tokenise.head()"
   ]
  },
  {
   "cell_type": "markdown",
   "id": "dc3b5766",
   "metadata": {},
   "source": [
    "#### Stemming"
   ]
  },
  {
   "cell_type": "code",
   "execution_count": 141,
   "id": "3ead0aaf",
   "metadata": {},
   "outputs": [],
   "source": [
    "stemmer = SnowballStemmer('english')"
   ]
  },
  {
   "cell_type": "code",
   "execution_count": 142,
   "id": "09f1f0c3",
   "metadata": {},
   "outputs": [],
   "source": [
    "def mbti_stemmer(words, stemmer):\n",
    "    return [stemmer.stem(word) for word in words]"
   ]
  },
  {
   "cell_type": "code",
   "execution_count": 148,
   "id": "209d60b7",
   "metadata": {},
   "outputs": [
    {
     "data": {
      "text/plain": [
       "0    [polyscimajor, epa, chief, doesnt, think, carb...\n",
       "1    [it, not, like, we, lack, evid, of, anthropoge...\n",
       "2    [rt, rawstori, research, say, we, have, three,...\n",
       "3    [todayinmak, wire, was, a, pivot, year, in, th...\n",
       "4    [rt, soynoviodetoda, it, and, a, racist, sexis...\n",
       "Name: stem, dtype: object"
      ]
     },
     "execution_count": 148,
     "metadata": {},
     "output_type": "execute_result"
    }
   ],
   "source": [
    "df_train['stem'] = tokenise.apply(mbti_stemmer, args=(stemmer, ))\n",
    "df_train['stem'].head()"
   ]
  },
  {
   "cell_type": "markdown",
   "id": "fe47eab8",
   "metadata": {},
   "source": [
    "#### Lemmatization"
   ]
  },
  {
   "cell_type": "code",
   "execution_count": 149,
   "id": "b8c3cd30",
   "metadata": {},
   "outputs": [],
   "source": [
    "lemmatizer = WordNetLemmatizer()"
   ]
  },
  {
   "cell_type": "code",
   "execution_count": 150,
   "id": "47dba575",
   "metadata": {},
   "outputs": [],
   "source": [
    "def mbti_lemma(words, lemmatizer):\n",
    "    return [lemmatizer.lemmatize(word) for word in words] "
   ]
  },
  {
   "cell_type": "code",
   "execution_count": 151,
   "id": "8a5a62c2",
   "metadata": {},
   "outputs": [
    {
     "data": {
      "text/plain": [
       "0    [polyscimajor, epa, chief, doesnt, think, carb...\n",
       "1    [it, not, like, we, lack, evidence, of, anthro...\n",
       "2    [rt, rawstory, researcher, say, we, have, thre...\n",
       "3    [todayinmaker, wired, wa, a, pivotal, year, in...\n",
       "4    [rt, soynoviodetodas, it, and, a, racist, sexi...\n",
       "Name: lemma, dtype: object"
      ]
     },
     "execution_count": 151,
     "metadata": {},
     "output_type": "execute_result"
    }
   ],
   "source": [
    "df_train['lemma'] = df_train['tokens'].apply(mbti_lemma, args=(lemmatizer, ))\n",
    "df_train['lemma'].head()"
   ]
  },
  {
   "cell_type": "markdown",
   "id": "0a721817",
   "metadata": {},
   "source": [
    "### Object Standardization"
   ]
  },
  {
   "cell_type": "code",
   "execution_count": 152,
   "id": "7111d510",
   "metadata": {},
   "outputs": [],
   "source": [
    "lookup_dict = {'rt':'Retweet',\"sci\":\"science\", 'dm':'direct message', \"awsm\" : \"awesome\", \"yr\" :\"year\"}"
   ]
  },
  {
   "cell_type": "code",
   "execution_count": 153,
   "id": "b4c0ccde",
   "metadata": {},
   "outputs": [],
   "source": [
    "def lookup_words(input_text):\n",
    "    words = input_text.split() \n",
    "    new_words = [] \n",
    "    for word in words:\n",
    "        if word.lower() in lookup_dict:\n",
    "            word = lookup_dict[word.lower()]\n",
    "        new_words.append(word) \n",
    "        new_text = \" \".join(new_words) \n",
    "        return new_text"
   ]
  },
  {
   "cell_type": "code",
   "execution_count": 154,
   "id": "eff5537d",
   "metadata": {},
   "outputs": [
    {
     "data": {
      "text/plain": [
       "'Retweet'"
      ]
     },
     "execution_count": 154,
     "metadata": {},
     "output_type": "execute_result"
    }
   ],
   "source": [
    "\n",
    "lookup_words(df_train['message'].iloc[2002])"
   ]
  },
  {
   "cell_type": "markdown",
   "id": "2440dbdd",
   "metadata": {},
   "source": [
    "#### Stop words"
   ]
  },
  {
   "cell_type": "code",
   "execution_count": 155,
   "id": "5c0c0d1e",
   "metadata": {},
   "outputs": [
    {
     "name": "stdout",
     "output_type": "stream",
     "text": [
      "['a', 'about', 'above', 'after', 'again', 'against', 'ain', 'all', 'am', 'an', 'and', 'any', 'are', 'aren', \"aren't\", 'as', 'at', 'be', 'because', 'been', 'before', 'being', 'below', 'between', 'both', 'but', 'by', 'can', 'couldn', \"couldn't\", 'd', 'did', 'didn', \"didn't\", 'do', 'does', 'doesn', \"doesn't\", 'doing', 'don', \"don't\", 'down', 'during', 'each', 'few', 'for', 'from', 'further', 'had', 'hadn', \"hadn't\", 'has', 'hasn', \"hasn't\", 'have', 'haven', \"haven't\", 'having', 'he', 'her', 'here', 'hers', 'herself', 'him', 'himself', 'his', 'how', 'i', 'if', 'in', 'into', 'is', 'isn', \"isn't\", 'it', \"it's\", 'its', 'itself', 'just', 'll', 'm', 'ma', 'me', 'mightn', \"mightn't\", 'more', 'most', 'mustn', \"mustn't\", 'my', 'myself', 'needn', \"needn't\", 'no', 'nor', 'not', 'now', 'o', 'of', 'off', 'on', 'once', 'only', 'or', 'other', 'our', 'ours', 'ourselves', 'out', 'over', 'own', 're', 's', 'same', 'shan', \"shan't\", 'she', \"she's\", 'should', \"should've\", 'shouldn', \"shouldn't\", 'so', 'some', 'such', 't', 'than', 'that', \"that'll\", 'the', 'their', 'theirs', 'them', 'themselves', 'then', 'there', 'these', 'they', 'this', 'those', 'through', 'to', 'too', 'under', 'until', 'up', 've', 'very', 'was', 'wasn', \"wasn't\", 'we', 'were', 'weren', \"weren't\", 'what', 'when', 'where', 'which', 'while', 'who', 'whom', 'why', 'will', 'with', 'won', \"won't\", 'wouldn', \"wouldn't\", 'y', 'you', \"you'd\", \"you'll\", \"you're\", \"you've\", 'your', 'yours', 'yourself', 'yourselves']\n"
     ]
    }
   ],
   "source": [
    "from nltk.corpus import stopwords\n",
    "print(sorted(stopwords.words('english')))"
   ]
  },
  {
   "cell_type": "code",
   "execution_count": 156,
   "id": "f8e2c0e9",
   "metadata": {},
   "outputs": [],
   "source": [
    "def remove_stop_words(tokens):    \n",
    "    return [t for t in tokens if t not in stopwords.words('english')]"
   ]
  },
  {
   "cell_type": "code",
   "execution_count": 157,
   "id": "23e78164",
   "metadata": {},
   "outputs": [
    {
     "data": {
      "text/plain": [
       "0    [polyscimajor, epa, chief, doesnt, think, carb...\n",
       "1    [like, lack, evidence, anthropogenic, global, ...\n",
       "2    [rt, rawstory, researchers, say, three, years,...\n",
       "3    [todayinmaker, wired, pivotal, year, war, clim...\n",
       "4    [rt, soynoviodetodas, racist, sexist, climate,...\n",
       "Name: stem, dtype: object"
      ]
     },
     "execution_count": 157,
     "metadata": {},
     "output_type": "execute_result"
    }
   ],
   "source": [
    "df_train['stem'] = df_train['tokens'].apply(remove_stop_words)\n",
    "df_train['stem'].head()"
   ]
  },
  {
   "cell_type": "markdown",
   "id": "397d4970",
   "metadata": {},
   "source": [
    "# Feature extraction from text data"
   ]
  },
  {
   "cell_type": "markdown",
   "id": "cec5fbc2",
   "metadata": {},
   "source": [
    "#### Bag of word"
   ]
  },
  {
   "cell_type": "code",
   "execution_count": 158,
   "id": "94a73b80",
   "metadata": {},
   "outputs": [
    {
     "data": {
      "text/plain": [
       "array([[0, 0, 0, ..., 0, 0, 0],\n",
       "       [0, 0, 0, ..., 0, 0, 0],\n",
       "       [0, 0, 0, ..., 0, 0, 0],\n",
       "       ...,\n",
       "       [0, 0, 0, ..., 0, 0, 0],\n",
       "       [0, 0, 0, ..., 0, 0, 0],\n",
       "       [0, 0, 0, ..., 0, 0, 0]], dtype=int64)"
      ]
     },
     "execution_count": 158,
     "metadata": {},
     "output_type": "execute_result"
    }
   ],
   "source": [
    "from sklearn.feature_extraction.text import CountVectorizer\n",
    "\n",
    "# Initialize the \"CountVectorizer\" object, which is scikit-learn's\n",
    "# bag of words tool.  \n",
    "vectorizer = CountVectorizer(analyzer = \"word\",   \\\n",
    "                             tokenizer = None,    \\\n",
    "                             preprocessor = None, \\\n",
    "                             stop_words = None,   \\\n",
    "                             ) \n",
    "\n",
    "# fit_transform() does two functions: First, it fits the model\n",
    "# and learns the vocabulary; second, it transforms our training data\n",
    "# into feature vectors. The input to fit_transform should be a list of \n",
    "# strings.\n",
    "train_data_features = vectorizer.fit_transform(df_train[\"message\"])\n",
    "\n",
    "# Numpy arrays are easy to work with, so convert the result to an \n",
    "# array\n",
    "train_data_features = train_data_features.toarray()\n",
    "train_data_features"
   ]
  },
  {
   "cell_type": "code",
   "execution_count": 159,
   "id": "4a35f990",
   "metadata": {},
   "outputs": [
    {
     "name": "stdout",
     "output_type": "stream",
     "text": [
      "(15819, 31905)\n"
     ]
    }
   ],
   "source": [
    "print (train_data_features.shape)"
   ]
  },
  {
   "cell_type": "markdown",
   "id": "4b0d8231",
   "metadata": {},
   "source": [
    "#### Comment\n",
    "\n",
    "* There are 15819 rows and 24819 features for each word"
   ]
  },
  {
   "cell_type": "code",
   "execution_count": 160,
   "id": "597e6cfc",
   "metadata": {},
   "outputs": [],
   "source": [
    "def bag_of_words_count(words, word_dict={}):\n",
    "    \"\"\" this function takes in a list of words and returns a dictionary \n",
    "        with each word as a key, and the value represents the number of \n",
    "        times that word appeared\"\"\"\n",
    "    for word in words:\n",
    "        if word in word_dict.keys():\n",
    "            word_dict[word] += 1\n",
    "        else:\n",
    "            word_dict[word] = 1\n",
    "    return word_dict"
   ]
  },
  {
   "cell_type": "code",
   "execution_count": 161,
   "id": "5f41be8a",
   "metadata": {},
   "outputs": [],
   "source": [
    "personality = {}\n",
    "for pp in unique_sentiment:\n",
    "    df = df_train.groupby('sentiment')\n",
    "    personality[pp] = {}\n",
    "    for row in df.get_group(pp)['tokens']:\n",
    "        personality[pp] = bag_of_words_count(row, personality[pp])       "
   ]
  },
  {
   "cell_type": "code",
   "execution_count": 162,
   "id": "5af9aea8",
   "metadata": {},
   "outputs": [],
   "source": [
    "all_words = set()\n",
    "for pp in unique_sentiment:\n",
    "    for word in personality[pp]:\n",
    "        all_words.add(word)"
   ]
  },
  {
   "cell_type": "code",
   "execution_count": 163,
   "id": "cd2fd982",
   "metadata": {},
   "outputs": [],
   "source": [
    "personality['all'] = {}\n",
    "for pp in unique_sentiment:    \n",
    "    for word in all_words:\n",
    "        if word in personality[pp].keys():\n",
    "            if word in personality['all']:\n",
    "                personality['all'][word] += personality[pp][word]\n",
    "            else:\n",
    "                personality['all'][word] = personality[pp][word]"
   ]
  },
  {
   "cell_type": "code",
   "execution_count": 164,
   "id": "6904dc5e",
   "metadata": {},
   "outputs": [
    {
     "data": {
      "text/plain": [
       "276994"
      ]
     },
     "execution_count": 164,
     "metadata": {},
     "output_type": "execute_result"
    }
   ],
   "source": [
    "total_words = sum([v for v in personality['all'].values()])\n",
    "total_words"
   ]
  },
  {
   "cell_type": "code",
   "execution_count": 165,
   "id": "f1725fbd",
   "metadata": {},
   "outputs": [
    {
     "data": {
      "text/plain": [
       "Text(0.5, 0, 'word frequency')"
      ]
     },
     "execution_count": 165,
     "metadata": {},
     "output_type": "execute_result"
    },
    {
     "data": {
      "image/png": "[encoded data removed]",
      "text/plain": [
       "<Figure size 640x480 with 1 Axes>"
      ]
     },
     "metadata": {},
     "output_type": "display_data"
    }
   ],
   "source": [
    "all_words = plt.hist([v for v in personality['all'].values() if v < 10],bins=8)\n",
    "plt.ylabel(\"# of words\")\n",
    "plt.xlabel(\"word frequency\")"
   ]
  },
  {
   "cell_type": "code",
   "execution_count": 166,
   "id": "bf4089e4",
   "metadata": {},
   "outputs": [
    {
     "data": {
      "text/plain": [
       "14472"
      ]
     },
     "execution_count": 166,
     "metadata": {},
     "output_type": "execute_result"
    }
   ],
   "source": [
    "len([v for v in personality['all'].values() if v == 1])"
   ]
  },
  {
   "cell_type": "code",
   "execution_count": 167,
   "id": "2c66ab03",
   "metadata": {},
   "outputs": [
    {
     "data": {
      "text/plain": [
       "165"
      ]
     },
     "execution_count": 167,
     "metadata": {},
     "output_type": "execute_result"
    }
   ],
   "source": [
    "len([v for v in personality['all'].values() if v == 10])"
   ]
  },
  {
   "cell_type": "code",
   "execution_count": 168,
   "id": "f301ee7a",
   "metadata": {},
   "outputs": [
    {
     "name": "stdout",
     "output_type": "stream",
     "text": [
      "['klinemaureen', 'solely', 'relax', 'kirbsp', 'imagination', 'snowday', 'rogermarksmen', 'maryreinhardt', 'chronickev', 'tanadict', 'harness', 'dec', 'jeffmcmahonchi', 'climatemayors', 'hasten', 'shugah', 'greenfootballs', 'repeated', 'chariiflower', 'shelter', 'michcjackson', 'warmi', 'isint', 'katyperry', 'veganiaa', 'pove', 'napl', 'amoung', 'justbenkaplan', 'katewillett', 'carmenobied', 'sicangu', 'otoh', 'brentsullivan', 'fangirlshirts', 'pioneering', 'expertis', 'nyuadartscenter', 'mouthpiece', 'jrockstrom', 'centrepo', 'futurology', 'fireprone', 'stringer', 'incapable', 'vicbudget', 'acp', 'blueland', 'quoted', 'snoflakepersist', 'breathing', 'solace', 'edwardtufte', 'iamacli', 'trus', 'creditsurplus', 'gallons', 'films', 'stormsaver', 'vocab', 'fabionodariph', 'cnrs', 'richardwjones', 'jedediahbila', 'outcast', 'baptcare', 'rohantalbot', 'omically', 'pcairnsphoto', 'jeffmerkley', 'jayelharris', 'sewing', 'stopfoodwaste', 'taoiseach', 'guessing', 'ooh', 'likeclimate', 'rorymcmonagle', 'jeffreyhann', 'antonioparis', 'probablyvote', 'greenhousegases', 'wary', 'profpcdoherty', 'rohrabacher', 'correlations', 'solut', 'unorthodox', 'esrc', 'clique', 'weekl', 'dclarediane', 'groundhogday', 'ggwp', 'mercatornet', 'skog', 'olgagzamudio', 'ebola', 'columbia', 'airconditioners']\n"
     ]
    }
   ],
   "source": [
    "rare_words = [k for k, v in personality['all'].items() if v==1] \n",
    "print(rare_words[:100])"
   ]
  },
  {
   "cell_type": "code",
   "execution_count": 184,
   "id": "6eb620a4",
   "metadata": {},
   "outputs": [
    {
     "name": "stdout",
     "output_type": "stream",
     "text": [
      "['jerry', 'finally', 'review', 'failing', 'halloween', 'ignores', 'problem', 'sun', 'spread', 'pretend', 'announce', 'politicians', 'later', 'could', 'michaelemann', 'parks', 'marriage', 'yearsofliving', 'limit', 'arent', 'would', 'wisconsin', 'prepare', 'consensus', 'sick', 'context', 'build', 'dioxide', 'regardless', 'pollution', 'stronger', 'in', 'webpage', 'ten', 'senate', 'off', 'actions', 'schools', 'proof', 'statement', 'territory', 'easy', 'gas', 'youd', 'editorial', 'contributes', 'pledge', 'facts', 'live', 'side', 'earth', 'plastic', 'gravity', 'great', 'irrefutable', 'ancient', 'cable', 'river', 'production', 'ne', 'enjoy', 'listen', 'stop', 'diseases', 'paris', 'didnt', 'team', 'victim', 'talks', 'snow', 'guys', 'joins', 'theory', 'greatbarrierreef', 'admin', 'natgeochannel', 'stuff', 'bet', 'gop', 'cars', 'met', 'third', 'got', 'work', 'she', 'climatechangrr', 'sequel', 'pls', 'ahead', 'strong', 'skeptics', 'kerry', 'bear', 'list', 'travels', 'afford', 'lgbt', 'five', 'quick', 'isn']\n"
     ]
    }
   ],
   "source": [
    "# Words that appear more than 10 times \n",
    "com_words = [k for k, v in personality['all'].items() if v>10] \n",
    "print(rare_words[:100])"
   ]
  },
  {
   "cell_type": "code",
   "execution_count": 169,
   "id": "ce37d49b",
   "metadata": {},
   "outputs": [
    {
     "name": "stdout",
     "output_type": "stream",
     "text": [
      "2420\n",
      "238480\n"
     ]
    }
   ],
   "source": [
    "# how many words appear more than 10 times?\n",
    "print(len([v for v in personality['all'].values() if v >= 10]))\n",
    "# how many words of the total does that account for?\n",
    "occurs_more_than_10_times = sum([v for v in personality['all'].values() if v >= 10])\n",
    "print(occurs_more_than_10_times)"
   ]
  },
  {
   "cell_type": "code",
   "execution_count": 170,
   "id": "55f73203",
   "metadata": {},
   "outputs": [
    {
     "data": {
      "text/plain": [
       "0.8609572770529326"
      ]
     },
     "execution_count": 170,
     "metadata": {},
     "output_type": "execute_result"
    }
   ],
   "source": [
    "occurs_more_than_10_times/total_words"
   ]
  },
  {
   "cell_type": "code",
   "execution_count": 171,
   "id": "d008b04c",
   "metadata": {},
   "outputs": [
    {
     "data": {
      "text/plain": [
       "['jerry',\n",
       " 'finally',\n",
       " 'review',\n",
       " 'failing',\n",
       " 'halloween',\n",
       " 'ignores',\n",
       " 'problem',\n",
       " 'sun',\n",
       " 'spread',\n",
       " 'pretend',\n",
       " 'announce',\n",
       " 'politicians',\n",
       " 'later',\n",
       " 'could',\n",
       " 'michaelemann',\n",
       " 'parks',\n",
       " 'marriage',\n",
       " 'yearsofliving',\n",
       " 'limit',\n",
       " 'arent',\n",
       " 'would',\n",
       " 'wisconsin',\n",
       " 'prepare',\n",
       " 'consensus',\n",
       " 'sick',\n",
       " 'context',\n",
       " 'build',\n",
       " 'dioxide',\n",
       " 'regardless',\n",
       " 'pollution',\n",
       " 'stronger',\n",
       " 'in',\n",
       " 'webpage',\n",
       " 'ten',\n",
       " 'senate',\n",
       " 'off',\n",
       " 'actions',\n",
       " 'schools',\n",
       " 'proof',\n",
       " 'statement',\n",
       " 'territory',\n",
       " 'easy',\n",
       " 'gas',\n",
       " 'youd',\n",
       " 'editorial',\n",
       " 'contributes',\n",
       " 'pledge',\n",
       " 'facts',\n",
       " 'live',\n",
       " 'side',\n",
       " 'earth',\n",
       " 'plastic',\n",
       " 'gravity',\n",
       " 'great',\n",
       " 'irrefutable',\n",
       " 'ancient',\n",
       " 'cable',\n",
       " 'river',\n",
       " 'production',\n",
       " 'ne',\n",
       " 'enjoy',\n",
       " 'listen',\n",
       " 'stop',\n",
       " 'diseases',\n",
       " 'paris',\n",
       " 'didnt',\n",
       " 'team',\n",
       " 'victim',\n",
       " 'talks',\n",
       " 'snow',\n",
       " 'guys',\n",
       " 'joins',\n",
       " 'theory',\n",
       " 'greatbarrierreef',\n",
       " 'admin',\n",
       " 'natgeochannel',\n",
       " 'stuff',\n",
       " 'bet',\n",
       " 'gop',\n",
       " 'cars',\n",
       " 'met',\n",
       " 'third',\n",
       " 'got',\n",
       " 'work',\n",
       " 'she',\n",
       " 'climatechangrr',\n",
       " 'sequel',\n",
       " 'pls',\n",
       " 'ahead',\n",
       " 'strong',\n",
       " 'skeptics',\n",
       " 'kerry',\n",
       " 'bear',\n",
       " 'list',\n",
       " 'travels',\n",
       " 'afford',\n",
       " 'lgbt',\n",
       " 'five',\n",
       " 'quick',\n",
       " 'isn',\n",
       " 'obviously',\n",
       " 'stephen',\n",
       " 'resources',\n",
       " 'one',\n",
       " 'history',\n",
       " 'immigration',\n",
       " 'dear',\n",
       " 'measures',\n",
       " 'farming',\n",
       " 'according',\n",
       " 'misled',\n",
       " 'force',\n",
       " 'mother',\n",
       " 'movie',\n",
       " 'hearing',\n",
       " 'billnye',\n",
       " 'topic',\n",
       " 'hurt',\n",
       " 'presidents',\n",
       " 'voted',\n",
       " 'troubling',\n",
       " 'space',\n",
       " 'climate',\n",
       " 'total',\n",
       " 'views',\n",
       " 'think',\n",
       " 'brexit',\n",
       " 'started',\n",
       " 'accelerate',\n",
       " 'back',\n",
       " 'increasing',\n",
       " 'studying',\n",
       " 'natural',\n",
       " 'lied',\n",
       " 'putin',\n",
       " 'believing',\n",
       " 'helps',\n",
       " 'pull',\n",
       " 'kids',\n",
       " 'unless',\n",
       " 'series',\n",
       " 'impact',\n",
       " 'radical',\n",
       " 'tells',\n",
       " 'models',\n",
       " 'doom',\n",
       " 'everybody',\n",
       " 'feels',\n",
       " 'concern',\n",
       " 'consequence',\n",
       " 'war',\n",
       " 'i',\n",
       " 'breaking',\n",
       " 'references',\n",
       " 'terrifying',\n",
       " 'word',\n",
       " 'wake',\n",
       " 'th',\n",
       " 'along',\n",
       " 'ones',\n",
       " 'bears',\n",
       " 'putting',\n",
       " 'calls',\n",
       " 'inequality',\n",
       " 'motherjones',\n",
       " 'deleted',\n",
       " 'san',\n",
       " 'know',\n",
       " 'mayor',\n",
       " 'businesses',\n",
       " 'factor',\n",
       " 'quite',\n",
       " 'ivotedbecause',\n",
       " 'longer',\n",
       " 'almost',\n",
       " 'criticizes',\n",
       " 'worked',\n",
       " 'our',\n",
       " 'vice',\n",
       " 'until',\n",
       " 'about',\n",
       " 'effect',\n",
       " 'denied',\n",
       " 'breitbart',\n",
       " 'death',\n",
       " 'agreement',\n",
       " 'parent',\n",
       " 'run',\n",
       " 'peoples',\n",
       " 'his',\n",
       " 'denies',\n",
       " 'denying',\n",
       " 'probably',\n",
       " 'tackle',\n",
       " 'vegan',\n",
       " 'coast',\n",
       " 'claim',\n",
       " 'jet',\n",
       " 'bannon',\n",
       " 'plants',\n",
       " 'talking',\n",
       " 'say',\n",
       " 'slow',\n",
       " 'cnnpolitics',\n",
       " 'limited',\n",
       " 'plant',\n",
       " 'auspol',\n",
       " 'environmentalist',\n",
       " 'dramatically',\n",
       " 'longterm',\n",
       " 'cause',\n",
       " 'outside',\n",
       " 'blow',\n",
       " 'drought',\n",
       " 'risks',\n",
       " 'afraid',\n",
       " 'spending',\n",
       " 'wont',\n",
       " 'saving',\n",
       " 'we',\n",
       " 'with',\n",
       " 'justintrudeau',\n",
       " 'astrokatie',\n",
       " 'letter',\n",
       " 'forest',\n",
       " 'spend',\n",
       " 'me',\n",
       " 'group',\n",
       " 'took',\n",
       " 'climateaction',\n",
       " 'campaign',\n",
       " 'skepticism',\n",
       " 'damn',\n",
       " 'mind',\n",
       " 'cf',\n",
       " 'food',\n",
       " 'direct',\n",
       " 'american',\n",
       " 'cnni',\n",
       " 'cartoon',\n",
       " 'bye',\n",
       " 'm',\n",
       " 'tweeted',\n",
       " 'tracker',\n",
       " 'video',\n",
       " 'challenge',\n",
       " 'however',\n",
       " 'msnbc',\n",
       " 'much',\n",
       " 'fake',\n",
       " 'addressing',\n",
       " 'experience',\n",
       " 'model',\n",
       " 'christian',\n",
       " 'pacific',\n",
       " 'driver',\n",
       " 'taking',\n",
       " 'analysis',\n",
       " 'billion',\n",
       " 'created',\n",
       " 'class',\n",
       " 'fiction',\n",
       " 'mark',\n",
       " 'it',\n",
       " 'should',\n",
       " 'came',\n",
       " 'from',\n",
       " 'whether',\n",
       " 'over',\n",
       " 'chicago',\n",
       " 'lie',\n",
       " 'thinkprogress',\n",
       " 'climatecentral',\n",
       " 'fascist',\n",
       " 'antarctic',\n",
       " 'unep',\n",
       " 'west',\n",
       " 'trying',\n",
       " 'awareness',\n",
       " 'envdefensefund',\n",
       " 'fusion',\n",
       " 'telling',\n",
       " 'happening',\n",
       " 'big',\n",
       " 'sustainability',\n",
       " 'buy',\n",
       " 'overwhelming',\n",
       " 'conservatives',\n",
       " 'protecting',\n",
       " 'predictions',\n",
       " 'rules',\n",
       " 'wars',\n",
       " 'pay',\n",
       " 'propaganda',\n",
       " 'security',\n",
       " 'respond',\n",
       " 'huge',\n",
       " 'parts',\n",
       " 'urges',\n",
       " 'fear',\n",
       " 'heard',\n",
       " 'mitigate',\n",
       " 'guess',\n",
       " 'iansomerhalder',\n",
       " 'ppl',\n",
       " 'doesnt',\n",
       " 'billmckibben',\n",
       " 'point',\n",
       " 'race',\n",
       " 'soil',\n",
       " 'worldfnature',\n",
       " 'vote',\n",
       " 'pushing',\n",
       " 'question',\n",
       " 'extinct',\n",
       " 'rapid',\n",
       " 'cities',\n",
       " 'idiot',\n",
       " 'forests',\n",
       " 'party',\n",
       " 'children',\n",
       " 'wasted',\n",
       " 'reason',\n",
       " 'president',\n",
       " 'pretty',\n",
       " 'put',\n",
       " 'administrator',\n",
       " 'coming',\n",
       " 'something',\n",
       " 'communities',\n",
       " 'governments',\n",
       " 'iran',\n",
       " 'doesn',\n",
       " 'rights',\n",
       " 'designed',\n",
       " 'worlds',\n",
       " 'economy',\n",
       " 'etc',\n",
       " 'pm',\n",
       " 'long',\n",
       " 'altusepa',\n",
       " 'stance',\n",
       " 'dicaprios',\n",
       " 'person',\n",
       " 'p',\n",
       " 'miss',\n",
       " 'treaty',\n",
       " 'hi',\n",
       " 'slams',\n",
       " 'shift',\n",
       " 'infrastructure',\n",
       " 'massive',\n",
       " 'researchers',\n",
       " 'unstoppable',\n",
       " 'map',\n",
       " 'vulnerable',\n",
       " 'course',\n",
       " 'choice',\n",
       " 'greenpeaceusa',\n",
       " 'florida',\n",
       " 'smog',\n",
       " 'secretary',\n",
       " 'nature',\n",
       " 'man',\n",
       " 'nuclear',\n",
       " 'affected',\n",
       " 'lots',\n",
       " 'legit',\n",
       " 'enters',\n",
       " 'spent',\n",
       " 'jerrybrowngov',\n",
       " 'fracking',\n",
       " 'uncertainty',\n",
       " 'reacts',\n",
       " 'gets',\n",
       " 'literally',\n",
       " 'have',\n",
       " 'voices',\n",
       " 'really',\n",
       " 'newsweek',\n",
       " 'favor',\n",
       " 'rick',\n",
       " 'conservation',\n",
       " 'sa',\n",
       " 'profit',\n",
       " 'ur',\n",
       " 'million',\n",
       " 'four',\n",
       " 'uncharted',\n",
       " 'reveal',\n",
       " 'salon',\n",
       " 'nowthisnews',\n",
       " 'y',\n",
       " 'gt',\n",
       " 'settled',\n",
       " 'game',\n",
       " 'come',\n",
       " 'unchecked',\n",
       " 'existence',\n",
       " 'deal',\n",
       " 'sanders',\n",
       " 'leodicaprio',\n",
       " 'contradicts',\n",
       " 'pentagon',\n",
       " 'majority',\n",
       " 'potential',\n",
       " 'job',\n",
       " 'lets',\n",
       " 'cabinet',\n",
       " 'park',\n",
       " 'serious',\n",
       " 'floods',\n",
       " 'email',\n",
       " 'reached',\n",
       " 'regulations',\n",
       " 'news',\n",
       " 'economist',\n",
       " 'feeling',\n",
       " 'gtgt',\n",
       " 'african',\n",
       " 'threatened',\n",
       " 'maps',\n",
       " 'working',\n",
       " 'law',\n",
       " 'becoming',\n",
       " 'contribute',\n",
       " 'nasas',\n",
       " 'case',\n",
       " 'dude',\n",
       " 'dealing',\n",
       " 'nvey',\n",
       " 'investigation',\n",
       " 'fed',\n",
       " 'such',\n",
       " 'both',\n",
       " 'final',\n",
       " 'major',\n",
       " 'attention',\n",
       " 'york',\n",
       " 'ignorance',\n",
       " 'amazon',\n",
       " 'goes',\n",
       " 'los',\n",
       " 'roberts',\n",
       " 'by',\n",
       " 'ended',\n",
       " 'worried',\n",
       " 've',\n",
       " 'reality',\n",
       " 'record',\n",
       " 'mitigation',\n",
       " 'modern',\n",
       " 'continues',\n",
       " 'costs',\n",
       " 'few',\n",
       " 'destruction',\n",
       " 'position',\n",
       " 'aint',\n",
       " 'body',\n",
       " 'refuse',\n",
       " 'is',\n",
       " 'asia',\n",
       " 'australian',\n",
       " 'changetonight',\n",
       " 'population',\n",
       " 'tried',\n",
       " 'solar',\n",
       " 'leaders',\n",
       " 'importance',\n",
       " 'worldwide',\n",
       " 'a',\n",
       " 'most',\n",
       " 'homophobic',\n",
       " 'plan',\n",
       " 'add',\n",
       " 'deep',\n",
       " 'targets',\n",
       " 'single',\n",
       " 'bigger',\n",
       " 'killer',\n",
       " 'rise',\n",
       " 'hurricane',\n",
       " 'de',\n",
       " 'late',\n",
       " 'chinese',\n",
       " 'school',\n",
       " 'greenland',\n",
       " 'geographic',\n",
       " 'needs',\n",
       " 'out',\n",
       " 'rolling',\n",
       " 'perfect',\n",
       " 'poor',\n",
       " 'very',\n",
       " 'beyond',\n",
       " 'beginning',\n",
       " 'highest',\n",
       " 'realdonaldtrump',\n",
       " 'talked',\n",
       " 'years',\n",
       " 'reefs',\n",
       " 'die',\n",
       " 'heres',\n",
       " 'tomorrow',\n",
       " 'poll',\n",
       " 'droughts',\n",
       " 'land',\n",
       " 'rogue',\n",
       " 'victims',\n",
       " 'light',\n",
       " 'talk',\n",
       " 'climatecounts',\n",
       " 'ch',\n",
       " 'dark',\n",
       " 'important',\n",
       " 'cdnpoli',\n",
       " 'safety',\n",
       " 'installing',\n",
       " 'shell',\n",
       " 'an',\n",
       " 'business',\n",
       " 'exit',\n",
       " 'when',\n",
       " 'why',\n",
       " 'wanted',\n",
       " 'bans',\n",
       " 'absolutely',\n",
       " 'primary',\n",
       " 'concerns',\n",
       " 'fox',\n",
       " 'been',\n",
       " 'theresa',\n",
       " 'therell',\n",
       " 'died',\n",
       " 'between',\n",
       " 'james',\n",
       " 'doing',\n",
       " 'solutions',\n",
       " 'country',\n",
       " 'that',\n",
       " 'preventing',\n",
       " 'underwater',\n",
       " 'changing',\n",
       " 'moon',\n",
       " 'michael',\n",
       " 'civil',\n",
       " 'latimes',\n",
       " 'trust',\n",
       " 'high',\n",
       " 'still',\n",
       " 'funding',\n",
       " 'bs',\n",
       " 'ignorant',\n",
       " 'water',\n",
       " 'removed',\n",
       " 'harder',\n",
       " 'dollars',\n",
       " 'getting',\n",
       " 'animals',\n",
       " 'you',\n",
       " 'asked',\n",
       " 'youll',\n",
       " 'safe',\n",
       " 'city',\n",
       " 'prince',\n",
       " 'info',\n",
       " 'callers',\n",
       " 'frankieboyle',\n",
       " 'antiscience',\n",
       " 'complex',\n",
       " 'projects',\n",
       " 'signed',\n",
       " 'looking',\n",
       " 'john',\n",
       " 'terms',\n",
       " 'isis',\n",
       " 'survey',\n",
       " 'noaa',\n",
       " 'fucked',\n",
       " 'supposed',\n",
       " 'hates',\n",
       " 'insurance',\n",
       " 'political',\n",
       " 'areas',\n",
       " 'w',\n",
       " 'emails',\n",
       " 'less',\n",
       " 'waste',\n",
       " 'them',\n",
       " 'london',\n",
       " 'seems',\n",
       " 'moving',\n",
       " 'generation',\n",
       " 'retweeted',\n",
       " 'momentum',\n",
       " 'god',\n",
       " 'critical',\n",
       " 'effects',\n",
       " 'home',\n",
       " 'especially',\n",
       " 'malcolm',\n",
       " 'religious',\n",
       " 'cooling',\n",
       " 'pact',\n",
       " 'sceptics',\n",
       " 'result',\n",
       " 'bernie',\n",
       " 'sad',\n",
       " 'wh',\n",
       " 'tech',\n",
       " 'fun',\n",
       " 'makes',\n",
       " 'march',\n",
       " 'maga',\n",
       " 'green',\n",
       " 'killed',\n",
       " 'once',\n",
       " 'black',\n",
       " 'see',\n",
       " 'exist',\n",
       " 'line',\n",
       " 'disagree',\n",
       " 'carbon',\n",
       " 'sea',\n",
       " 'avoid',\n",
       " 'efforts',\n",
       " 'laws',\n",
       " 'lawson',\n",
       " 'feel',\n",
       " 'politico',\n",
       " 'reporting',\n",
       " 'implications',\n",
       " 'supports',\n",
       " 'help',\n",
       " 'ask',\n",
       " 'attacks',\n",
       " 'whos',\n",
       " 'response',\n",
       " 'visit',\n",
       " 'posts',\n",
       " 'pruitts',\n",
       " 'make',\n",
       " 'motherboard',\n",
       " 'matter',\n",
       " 'bleached',\n",
       " 'minister',\n",
       " 'oil',\n",
       " 'surprise',\n",
       " 'difference',\n",
       " 'hottest',\n",
       " 'defense',\n",
       " 'usa',\n",
       " 'inevitable',\n",
       " 'future',\n",
       " 'simply',\n",
       " 'did',\n",
       " 'trillion',\n",
       " 'send',\n",
       " 'the',\n",
       " 'immediate',\n",
       " 'drop',\n",
       " 'maybe',\n",
       " 'charge',\n",
       " 'vital',\n",
       " 'shutting',\n",
       " 'vaccines',\n",
       " 'u',\n",
       " 'puanconference',\n",
       " 'or',\n",
       " 'shes',\n",
       " 'saying',\n",
       " 'hold',\n",
       " 'either',\n",
       " 'plans',\n",
       " 'though',\n",
       " 'kills',\n",
       " 'seeing',\n",
       " 'k',\n",
       " 'richarddawkins',\n",
       " 'rising',\n",
       " 'trudeau',\n",
       " 'freezing',\n",
       " 'uk',\n",
       " 'disappearing',\n",
       " 'data',\n",
       " 'jr',\n",
       " 'moral',\n",
       " 'highlight',\n",
       " 'ny',\n",
       " 'amid',\n",
       " 'nrdc',\n",
       " 'event',\n",
       " 'cbsnews',\n",
       " 'impacts',\n",
       " 'book',\n",
       " 'cc',\n",
       " 'slate',\n",
       " 'advance',\n",
       " 'won',\n",
       " 'up',\n",
       " 'sir',\n",
       " 'reindeer',\n",
       " 'create',\n",
       " 'st',\n",
       " 'post',\n",
       " 'merkel',\n",
       " 'generations',\n",
       " 'goal',\n",
       " 'affecting',\n",
       " 'debating',\n",
       " 'nodapl',\n",
       " 'agency',\n",
       " 'form',\n",
       " 'accelerating',\n",
       " 'go',\n",
       " 'star',\n",
       " 'beforetheflood',\n",
       " 'turn',\n",
       " 'america',\n",
       " 'crazy',\n",
       " 'cnn',\n",
       " 'yes',\n",
       " 'sorry',\n",
       " 'bring',\n",
       " 'means',\n",
       " 'developed',\n",
       " 'junkscience',\n",
       " 'youve',\n",
       " 'colorado',\n",
       " 'better',\n",
       " 'pesticides',\n",
       " 'says',\n",
       " 'warning',\n",
       " 'hand',\n",
       " 'words',\n",
       " 'decision',\n",
       " 'every',\n",
       " 'last',\n",
       " 'signs',\n",
       " 'knew',\n",
       " 'state',\n",
       " 'stupid',\n",
       " 'eye',\n",
       " 'never',\n",
       " 'wrong',\n",
       " 'programs',\n",
       " 'fuels',\n",
       " 'berniesanders',\n",
       " 'mentions',\n",
       " 'week',\n",
       " 'watch',\n",
       " 'ya',\n",
       " 'extreme',\n",
       " 'faces',\n",
       " 'day',\n",
       " 'shut',\n",
       " 'far',\n",
       " 'low',\n",
       " 'popsci',\n",
       " 'paper',\n",
       " 'lives',\n",
       " 'im',\n",
       " 'hillaryclinton',\n",
       " 'nearly',\n",
       " 'guide',\n",
       " 'grist',\n",
       " 'humanity',\n",
       " 'lawsuit',\n",
       " 'officials',\n",
       " 'mental',\n",
       " 'creating',\n",
       " 'accord',\n",
       " 'era',\n",
       " 'journalists',\n",
       " 'funny',\n",
       " 'personally',\n",
       " 'given',\n",
       " 'points',\n",
       " 'optimistic',\n",
       " 'earthday',\n",
       " 'enjoying',\n",
       " 'irony',\n",
       " 'around',\n",
       " 'studies',\n",
       " 'write',\n",
       " 'science',\n",
       " 'said',\n",
       " 'car',\n",
       " 'thats',\n",
       " 'millions',\n",
       " 'push',\n",
       " 'keep',\n",
       " 'level',\n",
       " 'greenpeace',\n",
       " 'https',\n",
       " 'collapse',\n",
       " 'rejects',\n",
       " 'money',\n",
       " 'management',\n",
       " 'does',\n",
       " 'elected',\n",
       " 'dramatic',\n",
       " 'la',\n",
       " 'found',\n",
       " 'timelapse',\n",
       " 'another',\n",
       " 'physics',\n",
       " 'biggest',\n",
       " 'questions',\n",
       " 'scientific',\n",
       " 'online',\n",
       " 'room',\n",
       " 'parisagreement',\n",
       " 'taxes',\n",
       " 'keeping',\n",
       " 'clear',\n",
       " 'places',\n",
       " 'break',\n",
       " 'aren',\n",
       " 'wildlife',\n",
       " 'released',\n",
       " 'danger',\n",
       " 'phrase',\n",
       " 'find',\n",
       " 'ban',\n",
       " 'budget',\n",
       " 'december',\n",
       " 'committed',\n",
       " 'saw',\n",
       " 'hrc',\n",
       " 'block',\n",
       " 'shit',\n",
       " 'sierraclub',\n",
       " 'key',\n",
       " 'opportunity',\n",
       " 'hell',\n",
       " 'published',\n",
       " 'preserving',\n",
       " 'theeconomist',\n",
       " 'wear',\n",
       " 'houston',\n",
       " 'need',\n",
       " 'warming',\n",
       " 'melt',\n",
       " 'their',\n",
       " 'copy',\n",
       " 'priority',\n",
       " 'stage',\n",
       " 'bit',\n",
       " 'than',\n",
       " 'wealth',\n",
       " 'proposed',\n",
       " 'trial',\n",
       " 'al',\n",
       " 'silly',\n",
       " 'across',\n",
       " 'potus',\n",
       " 'grand',\n",
       " 'flood',\n",
       " 'warn',\n",
       " 'senator',\n",
       " 'ok',\n",
       " 'bank',\n",
       " 'religion',\n",
       " 'davidcorndc',\n",
       " 'fact',\n",
       " 'temperature',\n",
       " 'media',\n",
       " 'badlands',\n",
       " 'column',\n",
       " 'adaptation',\n",
       " 'reject',\n",
       " 'there',\n",
       " 'imagine',\n",
       " 'oh',\n",
       " 'canceled',\n",
       " 'retweet',\n",
       " 'beautiful',\n",
       " 'changed',\n",
       " 'progress',\n",
       " 'wtf',\n",
       " 'executive',\n",
       " 'college',\n",
       " 'pole',\n",
       " 'voting',\n",
       " 'canadian',\n",
       " 'other',\n",
       " 'responsible',\n",
       " 'manmade',\n",
       " 'extremely',\n",
       " 'nyt',\n",
       " 'trade',\n",
       " 'coalition',\n",
       " 'including',\n",
       " 'democrat',\n",
       " 'bill',\n",
       " 'names',\n",
       " 'role',\n",
       " 'argument',\n",
       " 'abt',\n",
       " 'involved',\n",
       " 'hey',\n",
       " 'increased',\n",
       " 'solve',\n",
       " 'asking',\n",
       " 'doubt',\n",
       " 'november',\n",
       " 'spreading',\n",
       " 'hands',\n",
       " 'lost',\n",
       " 'warned',\n",
       " 'rest',\n",
       " 'april',\n",
       " 'change',\n",
       " 'three',\n",
       " 'meet',\n",
       " 'deforestation',\n",
       " 'diet',\n",
       " 'verge',\n",
       " 'totally',\n",
       " 'threats',\n",
       " 'urban',\n",
       " 'seriously',\n",
       " 'strategy',\n",
       " 'hoax',\n",
       " 'planning',\n",
       " 'woman',\n",
       " 'trump',\n",
       " 'greatest',\n",
       " 'look',\n",
       " 'worst',\n",
       " 'channel',\n",
       " 'citizensclimate',\n",
       " 'articles',\n",
       " 'protection',\n",
       " 'fossil',\n",
       " 'answer',\n",
       " 'affect',\n",
       " 'summer',\n",
       " 'renewables',\n",
       " 'behind',\n",
       " 'workers',\n",
       " 'driving',\n",
       " 'months',\n",
       " 'bitch',\n",
       " 'yet',\n",
       " 'gates',\n",
       " 'anemones',\n",
       " 'source',\n",
       " 'mps',\n",
       " 'invented',\n",
       " 'leave',\n",
       " 'bottles',\n",
       " 'agree',\n",
       " 'lot',\n",
       " 'barack',\n",
       " 'companies',\n",
       " 'gender',\n",
       " 'worldwildlife',\n",
       " 'nyc',\n",
       " 'planet',\n",
       " 'use',\n",
       " 'mike',\n",
       " 'youth',\n",
       " 'concept',\n",
       " 'whats',\n",
       " 'followernodad',\n",
       " 'admit',\n",
       " 'piece',\n",
       " 'first',\n",
       " 'crisis',\n",
       " 'meeting',\n",
       " 'confused',\n",
       " 'blame',\n",
       " 'abandoning',\n",
       " 'anyway',\n",
       " 'bunch',\n",
       " 'coverage',\n",
       " 'pipeline',\n",
       " 'want',\n",
       " 'africa',\n",
       " 'showing',\n",
       " 'am',\n",
       " 'wayne',\n",
       " 'control',\n",
       " 'short',\n",
       " 'wow',\n",
       " 'discussion',\n",
       " 'republican',\n",
       " 'after',\n",
       " 'yourself',\n",
       " 'reports',\n",
       " 'were',\n",
       " 'driven',\n",
       " 'leecamp',\n",
       " 'next',\n",
       " 'toll',\n",
       " 'warns',\n",
       " 'ill',\n",
       " 'g',\n",
       " ...]"
      ]
     },
     "execution_count": 171,
     "metadata": {},
     "output_type": "execute_result"
    }
   ],
   "source": [
    "max_count = 10\n",
    "remaining_word_index = [k for k, v in personality['all'].items() if v > max_count]\n",
    "remaining_word_index"
   ]
  },
  {
   "cell_type": "markdown",
   "id": "1404e187",
   "metadata": {},
   "source": [
    "### N-grams"
   ]
  },
  {
   "cell_type": "code",
   "execution_count": 179,
   "id": "e71d22bb",
   "metadata": {},
   "outputs": [],
   "source": [
    "from nltk.util import ngrams"
   ]
  },
  {
   "cell_type": "code",
   "execution_count": 180,
   "id": "bbd3de76",
   "metadata": {},
   "outputs": [],
   "source": [
    "def word_grams(words, min_n=1, max_n=4):\n",
    "    s = []\n",
    "    for n in range(min_n, max_n):\n",
    "        for ngram in ngrams(words, n):\n",
    "            s.append(' '.join(str(i) for i in ngram))\n",
    "    return s"
   ]
  },
  {
   "cell_type": "code",
   "execution_count": 183,
   "id": "3b4dd03b",
   "metadata": {},
   "outputs": [
    {
     "data": {
      "text/plain": [
       "[('rt', 'richarddawkins', 'president'),\n",
       " ('richarddawkins', 'president', 'trump'),\n",
       " ('president', 'trump', 'may'),\n",
       " ('trump', 'may', 'destroy'),\n",
       " ('may', 'destroy', 'america'),\n",
       " ('destroy', 'america', 'but'),\n",
       " ('america', 'but', 'maybe'),\n",
       " ('but', 'maybe', 'we'),\n",
       " ('maybe', 'we', 'can'),\n",
       " ('we', 'can', 'stop'),\n",
       " ('can', 'stop', 'him'),\n",
       " ('stop', 'him', 'destroying'),\n",
       " ('him', 'destroying', 'the'),\n",
       " ('destroying', 'the', 'world'),\n",
       " ('the', 'world', 'sign'),\n",
       " ('world', 'sign', 'the'),\n",
       " ('sign', 'the', 'climate'),\n",
       " ('the', 'climate', 'change'),\n",
       " ('climate', 'change', 'petition'),\n",
       " ('change', 'petition', 'ht')]"
      ]
     },
     "execution_count": 183,
     "metadata": {},
     "output_type": "execute_result"
    }
   ],
   "source": [
    "[x for x in ngrams(df_train.iloc[5000]['tokens'], 3)]"
   ]
  },
  {
   "cell_type": "markdown",
   "id": "5a50eaac",
   "metadata": {},
   "source": [
    "### Term Frequency – Inverse Document Frequency (TF – IDF)"
   ]
  },
  {
   "cell_type": "code",
   "execution_count": 62,
   "id": "2203c280",
   "metadata": {},
   "outputs": [
    {
     "name": "stdout",
     "output_type": "stream",
     "text": [
      "  (0, 13943)\t0.3243117684837757\n",
      "  (0, 23416)\t0.19622027735754066\n",
      "  (0, 23209)\t0.0767768569836907\n",
      "  (0, 23964)\t0.18888556662638503\n",
      "  (0, 23614)\t0.30378933903752314\n",
      "  (0, 1526)\t0.1225269403483114\n",
      "  (0, 23682)\t0.11311535467681826\n",
      "  (0, 9393)\t0.10990502507022454\n",
      "  (0, 15842)\t0.10892350096026919\n",
      "  (0, 3884)\t0.23626734002469185\n",
      "  (0, 13652)\t0.30861389790601773\n",
      "  (0, 11507)\t0.10753626481538675\n",
      "  (0, 6482)\t0.27271892427946115\n",
      "  (0, 3734)\t0.23985526506503618\n",
      "  (0, 22075)\t0.21489614956145833\n",
      "  (0, 6743)\t0.17821157705825333\n",
      "  (0, 4300)\t0.24596656431952038\n",
      "  (0, 7666)\t0.19435059914729721\n",
      "  (0, 17115)\t0.44717028788229457\n",
      "  (1, 1689)\t0.512553027155487\n",
      "  (1, 7883)\t0.3875045143056612\n",
      "  (1, 12729)\t0.48999647211445757\n",
      "  (1, 23821)\t0.22388168006779927\n",
      "  (1, 13193)\t0.30215542068959605\n",
      "  (1, 15577)\t0.2432142840021721\n",
      "  :\t:\n",
      "  (15817, 19312)\t0.3691479486576633\n",
      "  (15817, 1018)\t0.35805154226908803\n",
      "  (15817, 22198)\t0.33131562947119375\n",
      "  (15817, 5452)\t0.3097302586781109\n",
      "  (15817, 13139)\t0.27121523549577875\n",
      "  (15817, 10464)\t0.181398535173795\n",
      "  (15817, 2617)\t0.2125294796002106\n",
      "  (15817, 4091)\t0.2905818098718642\n",
      "  (15817, 10341)\t0.24992097377360403\n",
      "  (15817, 21836)\t0.13072057262039752\n",
      "  (15817, 21850)\t0.15260688386799998\n",
      "  (15817, 4076)\t0.04834525624097284\n",
      "  (15817, 4586)\t0.09498187155211689\n",
      "  (15817, 22276)\t0.07564122178673996\n",
      "  (15817, 19055)\t0.057602494755519255\n",
      "  (15817, 11507)\t0.18506867198928717\n",
      "  (15818, 19595)\t0.4991657348955335\n",
      "  (15818, 12694)\t0.4991657348955335\n",
      "  (15818, 4286)\t0.4991657348955335\n",
      "  (15818, 7695)\t0.46448255750987616\n",
      "  (15818, 11054)\t0.12688127015562845\n",
      "  (15818, 4076)\t0.06271590989378079\n",
      "  (15818, 4586)\t0.06160764220706253\n",
      "  (15818, 19055)\t0.07472486758033638\n",
      "  (15818, 23209)\t0.08570420995708261\n"
     ]
    }
   ],
   "source": [
    "from sklearn.feature_extraction.text import TfidfVectorizer\n",
    "obj = TfidfVectorizer()\n",
    "corpus = df_train[\"message\"]\n",
    "X = obj.fit_transform(corpus)\n",
    "print (X)"
   ]
  },
  {
   "cell_type": "markdown",
   "id": "d4af53a2",
   "metadata": {},
   "source": [
    "# 5. Modelling"
   ]
  },
  {
   "cell_type": "code",
   "execution_count": null,
   "id": "238f6c23",
   "metadata": {},
   "outputs": [],
   "source": []
  },
  {
   "cell_type": "markdown",
   "id": "8ebe7b58",
   "metadata": {},
   "source": [
    "# 6. Model Perfomance"
   ]
  },
  {
   "cell_type": "markdown",
   "id": "3d008462",
   "metadata": {},
   "source": [
    "# 7. Model Explanation"
   ]
  },
  {
   "cell_type": "code",
   "execution_count": null,
   "id": "3b3dd1bb",
   "metadata": {},
   "outputs": [],
   "source": []
  }
 ],
 "metadata": {
  "kernelspec": {
   "display_name": "Python 3 (ipykernel)",
   "language": "python",
   "name": "python3"
  },
  "language_info": {
   "codemirror_mode": {
    "name": "ipython",
    "version": 3
   },
   "file_extension": ".py",
   "mimetype": "text/x-python",
   "name": "python",
   "nbconvert_exporter": "python",
   "pygments_lexer": "ipython3",
   "version": "3.11.3"
  }
 },
 "nbformat": 4,
 "nbformat_minor": 5
}
